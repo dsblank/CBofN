{
  "cells": [
    {
      "cell_type": "markdown",
      "metadata": {
        "id": "LbN7qkaDs-gS"
      },
      "source": [
        "# Opik Optimizer (beta)\n",
        "\n",
        "Welcome to the Opik Opitimizer beta program! In this notebook we'll walk through a basic examples of a number of an optimizer algorithm.\n",
        "\n",
        "## Setup\n",
        "\n",
        "First, let's install the needed Python packages.\n",
        "\n",
        "We only need one package, `opik-optimizer`:"
      ]
    },
    {
      "cell_type": "code",
      "execution_count": 1,
      "metadata": {
        "id": "dHLhruvis8ti",
        "collapsed": true
      },
      "outputs": [],
      "source": [
        "%%capture\n",
        "!pip install opik-optimizer"
      ]
    },
    {
      "cell_type": "code",
      "source": [],
      "metadata": {
        "id": "GWzX7ZkPJVu7"
      },
      "execution_count": 1,
      "outputs": []
    },
    {
      "cell_type": "markdown",
      "metadata": {
        "id": "L-n8gjG45B1c"
      },
      "source": [
        "Next, we'll install the beta version of the `opik-optimizer`:"
      ]
    },
    {
      "cell_type": "markdown",
      "metadata": {
        "id": "hNtXvK2Kt3GE"
      },
      "source": [
        "[Comet](https://www.comet.com/site?from=llm&utm_source=opik) provides a hosted version of the Opik platform, [simply create an account](https://www.comet.com/signup?from=llm&utm_source=opik&utm_medium=colab&utm_content=langchain&utm_campaign=opik) and grab your API Key.\n",
        "\n",
        "> You can also run the Opik platform locally, see the [installation guide](https://www.comet.com/docs/opik/self-host/overview/?from=llm&utm_source=opik) for more information.\n",
        "\n",
        "You can use your own workspace."
      ]
    },
    {
      "cell_type": "code",
      "source": [
        "! pip show pydantic"
      ],
      "metadata": {
        "colab": {
          "base_uri": "https://localhost:8080/"
        },
        "id": "aiv2JbxLE4wm",
        "outputId": "786f88b8-13ed-481e-d722-7768e287a1f6"
      },
      "execution_count": 2,
      "outputs": [
        {
          "output_type": "stream",
          "name": "stdout",
          "text": [
            "Name: pydantic\n",
            "Version: 2.11.4\n",
            "Summary: Data validation using Python type hints\n",
            "Home-page: https://github.com/pydantic/pydantic\n",
            "Author: \n",
            "Author-email: Samuel Colvin <s@muelcolvin.com>, Eric Jolibois <em.jolibois@gmail.com>, Hasan Ramezani <hasan.r67@gmail.com>, Adrian Garcia Badaracco <1755071+adriangb@users.noreply.github.com>, Terrence Dorsey <terry@pydantic.dev>, David Montague <david@pydantic.dev>, Serge Matveenko <lig@countzero.co>, Marcelo Trylesinski <marcelotryle@gmail.com>, Sydney Runkle <sydneymarierunkle@gmail.com>, David Hewitt <mail@davidhewitt.io>, Alex Hall <alex.mojaki@gmail.com>, Victorien Plot <contact@vctrn.dev>\n",
            "License: \n",
            "Location: /usr/local/lib/python3.11/dist-packages\n",
            "Requires: annotated-types, pydantic-core, typing-extensions, typing-inspection\n",
            "Required-by: albumentations, confection, dspy, google-cloud-aiplatform, google-genai, google-generativeai, langchain, langchain-core, langsmith, litellm, openai, opik, opik_optimizer, pydantic-settings, spacy, thinc, wandb, weasel\n"
          ]
        }
      ]
    },
    {
      "cell_type": "code",
      "execution_count": 3,
      "metadata": {
        "colab": {
          "base_uri": "https://localhost:8080/"
        },
        "id": "8-mkTrf9vHXk",
        "outputId": "f6c4ffad-c2bf-4981-c2a7-a0611408c1cf"
      },
      "outputs": [
        {
          "output_type": "stream",
          "name": "stderr",
          "text": [
            "OPIK: Your Opik API key is available in your account settings, can be found at https://www.comet.com/api/my/settings/ for Opik cloud\n"
          ]
        },
        {
          "name": "stdout",
          "output_type": "stream",
          "text": [
            "Please enter your Opik API key:··········\n",
            "Do you want to use \"dsblank\" workspace? (Y/n)y\n"
          ]
        },
        {
          "output_type": "stream",
          "name": "stderr",
          "text": [
            "OPIK: Configuration saved to file: /root/.opik.config\n"
          ]
        }
      ],
      "source": [
        "import opik\n",
        "\n",
        "# Configure Opik\n",
        "opik.configure()"
      ]
    },
    {
      "cell_type": "markdown",
      "metadata": {
        "id": "kLSeOY24vWfS"
      },
      "source": [
        "For this example, we'll use OpenAI models, so we need to set our OpenAI API key:"
      ]
    },
    {
      "cell_type": "code",
      "execution_count": 4,
      "metadata": {
        "colab": {
          "base_uri": "https://localhost:8080/"
        },
        "id": "Pf2IJP2Z28P5",
        "outputId": "55ce8694-3b0a-44ca-adc7-6f5e74373429"
      },
      "outputs": [
        {
          "name": "stdout",
          "output_type": "stream",
          "text": [
            "Enter your OpenAI API key: ··········\n"
          ]
        }
      ],
      "source": [
        "import os\n",
        "import getpass\n",
        "\n",
        "if \"OPENAI_API_KEY\" not in os.environ:\n",
        "    os.environ[\"OPENAI_API_KEY\"] = getpass.getpass(\"Enter your OpenAI API key: \")"
      ]
    },
    {
      "cell_type": "markdown",
      "metadata": {
        "id": "NSj91yEMvqHi"
      },
      "source": [
        "To optimize any prompt, we'll need:\n",
        "\n",
        "1. A starting prompt\n",
        "2. A metric\n",
        "3. A dataset\n",
        "\n",
        "For this initial test, we'll start with a portion of the HotpotQA dataset.\n",
        "\n",
        "HotpotQA is a question/answering dataset featuring natural questions, with correct answers. It was collected by a team of NLP researchers at Carnegie Mellon University, Stanford University, and Université de Montréal.\n",
        "\n",
        "Let's take a look at the demo dataset \"hotpot-300\".\n",
        "\n",
        "First, we get or create it. This will add it to our default Opik project:"
      ]
    },
    {
      "cell_type": "code",
      "execution_count": 5,
      "metadata": {
        "id": "Rvg_dl5MwmwO"
      },
      "outputs": [],
      "source": [
        "from opik_optimizer.demo import get_or_create_dataset\n",
        "from opik_optimizer.demo.cache import get_litellm_cache\n",
        "\n",
        "\n",
        "opik_dataset = get_or_create_dataset(\"hotpot-300\")\n",
        "get_litellm_cache(\"test\")"
      ]
    },
    {
      "cell_type": "markdown",
      "metadata": {
        "id": "n8mwHiP_xfNi"
      },
      "source": [
        "Let's look at a specific row from the dataset:"
      ]
    },
    {
      "cell_type": "code",
      "execution_count": 6,
      "metadata": {
        "colab": {
          "base_uri": "https://localhost:8080/"
        },
        "id": "v5la3y6Kw00C",
        "outputId": "c90e08cf-4e3f-4f2f-9b12-3184e45977b6"
      },
      "outputs": [
        {
          "output_type": "execute_result",
          "data": {
            "text/plain": [
              "{'id': '0195d400-517b-7f17-b746-ff3d084463ac',\n",
              " 'question': 'Were both drinks, the Smoking Bishop and the Mickey Slim, popular in different countries?',\n",
              " 'answer': 'yes'}"
            ]
          },
          "metadata": {},
          "execution_count": 6
        }
      ],
      "source": [
        "rows = opik_dataset.get_items()\n",
        "rows[0]"
      ]
    },
    {
      "cell_type": "markdown",
      "metadata": {
        "id": "dc7GqXTlxmnS"
      },
      "source": [
        "We see that each item has a \"question\" and \"answer\". Some of the answers are short and direct, and some of them are more complicated:"
      ]
    },
    {
      "cell_type": "code",
      "execution_count": 7,
      "metadata": {
        "colab": {
          "base_uri": "https://localhost:8080/"
        },
        "id": "VOU4GVxkxF9D",
        "outputId": "6ab8118c-1191-41f2-a703-ac2a8d39d4c3"
      },
      "outputs": [
        {
          "output_type": "execute_result",
          "data": {
            "text/plain": [
              "{'id': '0195d400-5179-7259-8104-1f0a55a13ac2',\n",
              " 'question': 'Woody Wuthrie wrote the song \"Do Re Mi\" which was about migrants and their experiences when they arrive in California and are greeted with severe storms that came in waves in what years?',\n",
              " 'answer': '1934, 1936, and 1939–1940'}"
            ]
          },
          "metadata": {},
          "execution_count": 7
        }
      ],
      "source": [
        "rows[2]"
      ]
    },
    {
      "cell_type": "markdown",
      "metadata": {
        "id": "cA_73ohDx8zo"
      },
      "source": [
        "As you can see, the answers can be a little messy. We'll need a good metric to able to determine whether a prompt is good or not. But let's start simple.\n",
        "\n",
        "We'll use the `Equals` metric from Opik.\n",
        "\n",
        "It works like this:"
      ]
    },
    {
      "cell_type": "code",
      "execution_count": 8,
      "metadata": {
        "colab": {
          "base_uri": "https://localhost:8080/"
        },
        "id": "JyN9fjDqysDl",
        "outputId": "cae29e61-5d00-4846-ffec-d2309f49959d"
      },
      "outputs": [
        {
          "output_type": "stream",
          "name": "stderr",
          "text": [
            "OPIK: Started logging traces to the \"Default Project\" project at https://www.comet.com/opik/api/v1/session/redirect/projects/?trace_id=0196b133-7fda-70b6-b967-295511b381ca&path=aHR0cHM6Ly93d3cuY29tZXQuY29tL29waWsvYXBpLw==.\n"
          ]
        },
        {
          "output_type": "execute_result",
          "data": {
            "text/plain": [
              "ScoreResult(name='equals_metric', value=1.0, reason=None, metadata=None, scoring_failed=False)"
            ]
          },
          "metadata": {},
          "execution_count": 8
        }
      ],
      "source": [
        "from opik.evaluation.metrics import Equals\n",
        "\n",
        "metric = Equals()\n",
        "\n",
        "metric.score(\"Hello\", \"Hello\")"
      ]
    },
    {
      "cell_type": "markdown",
      "metadata": {
        "id": "F8Dhc8NXzark"
      },
      "source": [
        "Here we can see that value is 1.0. That meens that the two values are the same.\n",
        "\n",
        "What counts as equal?"
      ]
    },
    {
      "cell_type": "code",
      "execution_count": 9,
      "metadata": {
        "colab": {
          "base_uri": "https://localhost:8080/"
        },
        "id": "Ml39af7HzUsF",
        "outputId": "4562ff41-3daa-40ee-af41-47d34c6e698a"
      },
      "outputs": [
        {
          "output_type": "execute_result",
          "data": {
            "text/plain": [
              "ScoreResult(name='equals_metric', value=1.0, reason=None, metadata=None, scoring_failed=False)"
            ]
          },
          "metadata": {},
          "execution_count": 9
        }
      ],
      "source": [
        "metric.score(\"Hello\", \"heLLo\")"
      ]
    },
    {
      "cell_type": "code",
      "execution_count": 10,
      "metadata": {
        "colab": {
          "base_uri": "https://localhost:8080/"
        },
        "id": "q1fbHU0qzy0H",
        "outputId": "73ff3a40-1fc3-426d-9ec4-5928cb6c1025"
      },
      "outputs": [
        {
          "output_type": "execute_result",
          "data": {
            "text/plain": [
              "ScoreResult(name='equals_metric', value=0.0, reason=None, metadata=None, scoring_failed=False)"
            ]
          },
          "metadata": {},
          "execution_count": 10
        }
      ],
      "source": [
        "metric.score(\"hello\", \"hell\")"
      ]
    },
    {
      "cell_type": "markdown",
      "metadata": {
        "id": "-I0Coxgt0QNd"
      },
      "source": [
        "Ok, we have a dataset and a metric, now we are ready to construct an optimizer.\n",
        "\n",
        "We can use an OpenAI model name, or more generally, a LiteLLM model name. Just make sure you have your model API key set as we did above.\n",
        "\n",
        "We'll start with the `FewShotBayesianOptimizer`:"
      ]
    },
    {
      "cell_type": "code",
      "execution_count": 11,
      "metadata": {
        "id": "ixQUjZS5tPOU"
      },
      "outputs": [],
      "source": [
        "from opik_optimizer import (\n",
        "    FewShotBayesianOptimizer,\n",
        "    MetricConfig,\n",
        "    from_llm_response_text,\n",
        "    from_dataset_field,\n",
        "    TaskConfig,\n",
        ")\n",
        "\n",
        "optimizer = FewShotBayesianOptimizer(\n",
        "    model=\"gpt-4o-mini\",\n",
        "    temperature=0.1,\n",
        "    max_tokens=5000,\n",
        ")"
      ]
    },
    {
      "cell_type": "markdown",
      "metadata": {
        "id": "fBdeiCOIQIf1"
      },
      "source": [
        "Now, we need a prompt to optimize. Given the examples above, let's try something like:"
      ]
    },
    {
      "cell_type": "code",
      "execution_count": 12,
      "metadata": {
        "id": "uD7I2j-cQS0E"
      },
      "outputs": [],
      "source": [
        "initial_prompt = \"Provide an answer to the question\""
      ]
    },
    {
      "cell_type": "code",
      "execution_count": 13,
      "metadata": {
        "id": "ejAdMdoxYmmj"
      },
      "outputs": [],
      "source": [
        "project_name = \"optimize-few-shot-hotpot-300\""
      ]
    },
    {
      "cell_type": "code",
      "execution_count": 14,
      "metadata": {
        "id": "itjS_IndaM4R"
      },
      "outputs": [],
      "source": [
        "messages = [\n",
        "    {\"role\": \"system\", \"content\": initial_prompt},\n",
        "    {\"role\": \"user\", \"content\": \"{{question}}\"},\n",
        "]"
      ]
    },
    {
      "cell_type": "code",
      "execution_count": 15,
      "metadata": {
        "id": "s-QEws-2aTNg"
      },
      "outputs": [],
      "source": [
        "metric_config = MetricConfig(\n",
        "    metric=Equals(project_name=project_name),\n",
        "    inputs={\n",
        "        \"output\": from_llm_response_text(),\n",
        "        \"reference\": from_dataset_field(name=\"answer\"),\n",
        "    },\n",
        ")\n",
        "\n",
        "task_config = TaskConfig(\n",
        "    instruction_prompt=initial_prompt,\n",
        "    input_dataset_fields=[\"question\"],\n",
        "    output_dataset_field=\"answer\",\n",
        "    use_chat_prompt=True,\n",
        ")"
      ]
    },
    {
      "cell_type": "code",
      "execution_count": 16,
      "metadata": {
        "colab": {
          "base_uri": "https://localhost:8080/",
          "height": 226,
          "referenced_widgets": [
            "c6314576dbba447da98a2a326b93cf04",
            "2053c07af4a246cfb94bf8e0829d726c",
            "f9ea24c78e8a40f98df3dfa8cf12aff7",
            "f19893c4bf3b4728afb90eb7f4d40fe8",
            "efc5f40b44724f26902e5ab6c683aade",
            "5c7516ccf08c4986b48291981f78f4ce",
            "edf489adfb81485abbdbff505b95ff20",
            "6d649b187a5148b8851bb3767298f4af",
            "37183c8ef5cf4601b01c0ea0aed66f9d",
            "85300891d0c943e5bd40d7ec644d4c21",
            "bdeb920a51754e2285f334f51e1284f9"
          ]
        },
        "id": "V8nqp8deQciO",
        "outputId": "c1815c91-933f-40d2-9513-42013a933408"
      },
      "outputs": [
        {
          "output_type": "display_data",
          "data": {
            "text/plain": [
              "Evaluation:   0%|          | 0/100 [00:00<?, ?it/s]"
            ],
            "application/vnd.jupyter.widget-view+json": {
              "version_major": 2,
              "version_minor": 0,
              "model_id": "c6314576dbba447da98a2a326b93cf04"
            }
          },
          "metadata": {}
        },
        {
          "output_type": "display_data",
          "data": {
            "text/plain": [
              "╭─ hotpot-300 (100 samples) ──╮\n",
              "│                             │\n",
              "│ \u001b[1mTotal time:       \u001b[0m 00:00:18 │\n",
              "│ \u001b[1mNumber of samples:\u001b[0m 100      │\n",
              "│                             │\n",
              "│ \u001b[1;32mequals_metric: 0.0000 (avg)\u001b[0m │\n",
              "│                             │\n",
              "╰─────────────────────────────╯\n"
            ],
            "text/html": [
              "<pre style=\"white-space:pre;overflow-x:auto;line-height:normal;font-family:Menlo,'DejaVu Sans Mono',consolas,'Courier New',monospace\">╭─ hotpot-300 (100 samples) ──╮\n",
              "│                             │\n",
              "│ <span style=\"font-weight: bold\">Total time:       </span> 00:00:18 │\n",
              "│ <span style=\"font-weight: bold\">Number of samples:</span> 100      │\n",
              "│                             │\n",
              "│ <span style=\"color: #008000; text-decoration-color: #008000; font-weight: bold\">equals_metric: 0.0000 (avg)</span> │\n",
              "│                             │\n",
              "╰─────────────────────────────╯\n",
              "</pre>\n"
            ]
          },
          "metadata": {}
        },
        {
          "output_type": "display_data",
          "data": {
            "text/plain": [
              "Uploading results to Opik \u001b[33m...\u001b[0m \n"
            ],
            "text/html": [
              "<pre style=\"white-space:pre;overflow-x:auto;line-height:normal;font-family:Menlo,'DejaVu Sans Mono',consolas,'Courier New',monospace\">Uploading results to Opik <span style=\"color: #808000; text-decoration-color: #808000\">...</span> \n",
              "</pre>\n"
            ]
          },
          "metadata": {}
        },
        {
          "output_type": "display_data",
          "data": {
            "text/plain": [
              "View the results \u001b]8;id=656086;https://www.comet.com/opik/api/v1/session/redirect/experiments/?experiment_id=0196b133-9378-70e1-9563-22ba28ba320c&dataset_id=0195d400-52bc-7ac1-ae8e-74931512157f&path=aHR0cHM6Ly93d3cuY29tZXQuY29tL29waWsvYXBpLw==\u001b\\in your Opik dashboard\u001b]8;;\u001b\\.\n"
            ],
            "text/html": [
              "<pre style=\"white-space:pre;overflow-x:auto;line-height:normal;font-family:Menlo,'DejaVu Sans Mono',consolas,'Courier New',monospace\">View the results <a href=\"https://www.comet.com/opik/api/v1/session/redirect/experiments/?experiment_id=0196b133-9378-70e1-9563-22ba28ba320c&dataset_id=0195d400-52bc-7ac1-ae8e-74931512157f&path=aHR0cHM6Ly93d3cuY29tZXQuY29tL29waWsvYXBpLw==\" target=\"_blank\">in your Opik dashboard</a>.\n",
              "</pre>\n"
            ]
          },
          "metadata": {}
        },
        {
          "output_type": "execute_result",
          "data": {
            "text/plain": [
              "0.0"
            ]
          },
          "metadata": {},
          "execution_count": 16
        }
      ],
      "source": [
        "score = optimizer.evaluate_prompt(\n",
        "    dataset=opik_dataset,\n",
        "    metric_config=metric_config,\n",
        "    prompt=messages,\n",
        "    n_samples=100,\n",
        ")\n",
        "score"
      ]
    },
    {
      "cell_type": "markdown",
      "metadata": {
        "id": "wO6Dax5vQ1iY"
      },
      "source": [
        "The score 0.15 is pretty low. Let's see if we can optimize it!"
      ]
    },
    {
      "cell_type": "markdown",
      "metadata": {
        "id": "Tr9o0G-_2rg8"
      },
      "source": [
        "The FewShotBayesianOptimizer can, fairly quickly, create better prompts.\n",
        "\n",
        "Let's try it out. It takes exactly the same parameters as evaluate_prompt(), but will run for a minute or so."
      ]
    },
    {
      "cell_type": "code",
      "execution_count": 17,
      "metadata": {
        "colab": {
          "base_uri": "https://localhost:8080/",
          "height": 785,
          "referenced_widgets": [
            "f1f8942fd1ca4b259086556840ba4a18",
            "f84d60335cb74cff80059afc2d284c4d",
            "86ac6e50f9c54af99e4648bbf09f88bb",
            "ea420689a7e1400db0282a1452322490",
            "958fc529b8434b1db70c6f8aea4f0168",
            "499522a5fbc3428b880abc7aee37b213",
            "ada053abb24044fdb457295e931f1cfa",
            "0601f2751f6e48239f64bbdce17c2f4e",
            "0bf910b09f8a410c968d584fd770ad4e",
            "0364a174ee6341bbb23fa7100ad0d2d2",
            "4cc3491d53b544a7bbd3321285b8f094",
            "d31816c2dc004bbba36fddc48612ec52",
            "13b53d7c85be457b9c934e64be2248cf",
            "742f061d4df04a73abe8d5e3b4043172",
            "f28fcde86b3d4bf2899a89a0802bbebe",
            "826a783ef6b24399897bf261aa18f348",
            "4382168a0e5b481cbb6f056b811487ce",
            "8b352a5b2ef848a28abe206cce2c5070",
            "58a944085b55468097aafde9ac658c05",
            "c81dfd99993f411a902fde32f429f9d6",
            "63b6c03da8c54b07969b01d3d41a48f8",
            "b17556afaa1245139e5fe80c1527e5de",
            "d2aab6f915ab4a72a5d4a38d501369f5",
            "6ad9337d79e843f7970654df307da753",
            "21e7713a146e49e5abf47eaeeb3a1fa3",
            "18e0eedd49874b3b850f850f2c6fb8d4",
            "e2f3b7c63bb545c2b4047eb1ad2365e0",
            "03c469fc1cc640cf8aead8212f59a4b5",
            "0668d212c9ff4b678a86286959df5536",
            "b0c6e5bb4084436993cfbc13a4fc0cb6",
            "a7d33aa96a5a4c0e994b5ada4c984b1e",
            "c816d8d78c9c4a679a0f8af3fd29d2a4",
            "16cb5b63602142dcbaa0ecf411afb726",
            "b28b703d4e0942b6a6791aa125a8bef0",
            "3b5ec20f7fa4401abf81e0ca9e5628f2",
            "89cb51fc76924c24b589928e51cafc2c",
            "af9766e865824bfc8c330a1116a226af",
            "821b0f9eb09345d4be638294bfe2d645",
            "1785f1ee71e940bfa66f2bdf7a45d8be",
            "12052c995d6a40dabfdf0e2a8ed6ef39",
            "e6505280266b43b6bdd67bf3e032309e",
            "cc1e7c78f966429392d09e128bbc12a0",
            "28e03479a6ae44018c102e395c81c6a6",
            "1100c63b5f174748aa57fe383168b395"
          ]
        },
        "id": "6fRxnVXX0kqv",
        "outputId": "4013fe27-8577-4b85-d220-0d70f1a3a3c9"
      },
      "outputs": [
        {
          "output_type": "display_data",
          "data": {
            "text/plain": [
              "Evaluation:   0%|          | 0/100 [00:00<?, ?it/s]"
            ],
            "application/vnd.jupyter.widget-view+json": {
              "version_major": 2,
              "version_minor": 0,
              "model_id": "f1f8942fd1ca4b259086556840ba4a18"
            }
          },
          "metadata": {}
        },
        {
          "output_type": "display_data",
          "data": {
            "text/plain": [
              "╭─ hotpot-300 (100 samples) ──╮\n",
              "│                             │\n",
              "│ \u001b[1mTotal time:       \u001b[0m 00:00:16 │\n",
              "│ \u001b[1mNumber of samples:\u001b[0m 100      │\n",
              "│                             │\n",
              "│ \u001b[1;32mequals_metric: 0.0000 (avg)\u001b[0m │\n",
              "│                             │\n",
              "╰─────────────────────────────╯\n"
            ],
            "text/html": [
              "<pre style=\"white-space:pre;overflow-x:auto;line-height:normal;font-family:Menlo,'DejaVu Sans Mono',consolas,'Courier New',monospace\">╭─ hotpot-300 (100 samples) ──╮\n",
              "│                             │\n",
              "│ <span style=\"font-weight: bold\">Total time:       </span> 00:00:16 │\n",
              "│ <span style=\"font-weight: bold\">Number of samples:</span> 100      │\n",
              "│                             │\n",
              "│ <span style=\"color: #008000; text-decoration-color: #008000; font-weight: bold\">equals_metric: 0.0000 (avg)</span> │\n",
              "│                             │\n",
              "╰─────────────────────────────╯\n",
              "</pre>\n"
            ]
          },
          "metadata": {}
        },
        {
          "output_type": "display_data",
          "data": {
            "text/plain": [
              "Uploading results to Opik \u001b[33m...\u001b[0m \n"
            ],
            "text/html": [
              "<pre style=\"white-space:pre;overflow-x:auto;line-height:normal;font-family:Menlo,'DejaVu Sans Mono',consolas,'Courier New',monospace\">Uploading results to Opik <span style=\"color: #808000; text-decoration-color: #808000\">...</span> \n",
              "</pre>\n"
            ]
          },
          "metadata": {}
        },
        {
          "output_type": "display_data",
          "data": {
            "text/plain": [
              "View the results \u001b]8;id=988712;https://www.comet.com/opik/api/v1/session/redirect/experiments/?experiment_id=0196b133-df63-7f70-9afe-9393e8d71b0d&dataset_id=0195d400-52bc-7ac1-ae8e-74931512157f&path=aHR0cHM6Ly93d3cuY29tZXQuY29tL29waWsvYXBpLw==\u001b\\in your Opik dashboard\u001b]8;;\u001b\\.\n"
            ],
            "text/html": [
              "<pre style=\"white-space:pre;overflow-x:auto;line-height:normal;font-family:Menlo,'DejaVu Sans Mono',consolas,'Courier New',monospace\">View the results <a href=\"https://www.comet.com/opik/api/v1/session/redirect/experiments/?experiment_id=0196b133-df63-7f70-9afe-9393e8d71b0d&dataset_id=0195d400-52bc-7ac1-ae8e-74931512157f&path=aHR0cHM6Ly93d3cuY29tZXQuY29tL29waWsvYXBpLw==\" target=\"_blank\">in your Opik dashboard</a>.\n",
              "</pre>\n"
            ]
          },
          "metadata": {}
        },
        {
          "output_type": "display_data",
          "data": {
            "text/plain": [
              "Evaluation:   0%|          | 0/100 [00:00<?, ?it/s]"
            ],
            "application/vnd.jupyter.widget-view+json": {
              "version_major": 2,
              "version_minor": 0,
              "model_id": "d31816c2dc004bbba36fddc48612ec52"
            }
          },
          "metadata": {}
        },
        {
          "output_type": "display_data",
          "data": {
            "text/plain": [
              "╭─ hotpot-300 (100 samples) ──╮\n",
              "│                             │\n",
              "│ \u001b[1mTotal time:       \u001b[0m 00:00:09 │\n",
              "│ \u001b[1mNumber of samples:\u001b[0m 100      │\n",
              "│                             │\n",
              "│ \u001b[1;32mequals_metric: 0.2500 (avg)\u001b[0m │\n",
              "│                             │\n",
              "╰─────────────────────────────╯\n"
            ],
            "text/html": [
              "<pre style=\"white-space:pre;overflow-x:auto;line-height:normal;font-family:Menlo,'DejaVu Sans Mono',consolas,'Courier New',monospace\">╭─ hotpot-300 (100 samples) ──╮\n",
              "│                             │\n",
              "│ <span style=\"font-weight: bold\">Total time:       </span> 00:00:09 │\n",
              "│ <span style=\"font-weight: bold\">Number of samples:</span> 100      │\n",
              "│                             │\n",
              "│ <span style=\"color: #008000; text-decoration-color: #008000; font-weight: bold\">equals_metric: 0.2500 (avg)</span> │\n",
              "│                             │\n",
              "╰─────────────────────────────╯\n",
              "</pre>\n"
            ]
          },
          "metadata": {}
        },
        {
          "output_type": "display_data",
          "data": {
            "text/plain": [
              "Uploading results to Opik \u001b[33m...\u001b[0m \n"
            ],
            "text/html": [
              "<pre style=\"white-space:pre;overflow-x:auto;line-height:normal;font-family:Menlo,'DejaVu Sans Mono',consolas,'Courier New',monospace\">Uploading results to Opik <span style=\"color: #808000; text-decoration-color: #808000\">...</span> \n",
              "</pre>\n"
            ]
          },
          "metadata": {}
        },
        {
          "output_type": "display_data",
          "data": {
            "text/plain": [
              "View the results \u001b]8;id=781177;https://www.comet.com/opik/api/v1/session/redirect/experiments/?experiment_id=0196b134-2413-7cbb-a314-e284bff380ca&dataset_id=0195d400-52bc-7ac1-ae8e-74931512157f&path=aHR0cHM6Ly93d3cuY29tZXQuY29tL29waWsvYXBpLw==\u001b\\in your Opik dashboard\u001b]8;;\u001b\\.\n"
            ],
            "text/html": [
              "<pre style=\"white-space:pre;overflow-x:auto;line-height:normal;font-family:Menlo,'DejaVu Sans Mono',consolas,'Courier New',monospace\">View the results <a href=\"https://www.comet.com/opik/api/v1/session/redirect/experiments/?experiment_id=0196b134-2413-7cbb-a314-e284bff380ca&dataset_id=0195d400-52bc-7ac1-ae8e-74931512157f&path=aHR0cHM6Ly93d3cuY29tZXQuY29tL29waWsvYXBpLw==\" target=\"_blank\">in your Opik dashboard</a>.\n",
              "</pre>\n"
            ]
          },
          "metadata": {}
        },
        {
          "output_type": "display_data",
          "data": {
            "text/plain": [
              "Evaluation:   0%|          | 0/100 [00:00<?, ?it/s]"
            ],
            "application/vnd.jupyter.widget-view+json": {
              "version_major": 2,
              "version_minor": 0,
              "model_id": "d2aab6f915ab4a72a5d4a38d501369f5"
            }
          },
          "metadata": {}
        },
        {
          "output_type": "display_data",
          "data": {
            "text/plain": [
              "╭─ hotpot-300 (100 samples) ──╮\n",
              "│                             │\n",
              "│ \u001b[1mTotal time:       \u001b[0m 00:00:11 │\n",
              "│ \u001b[1mNumber of samples:\u001b[0m 100      │\n",
              "│                             │\n",
              "│ \u001b[1;32mequals_metric: 0.1400 (avg)\u001b[0m │\n",
              "│                             │\n",
              "╰─────────────────────────────╯\n"
            ],
            "text/html": [
              "<pre style=\"white-space:pre;overflow-x:auto;line-height:normal;font-family:Menlo,'DejaVu Sans Mono',consolas,'Courier New',monospace\">╭─ hotpot-300 (100 samples) ──╮\n",
              "│                             │\n",
              "│ <span style=\"font-weight: bold\">Total time:       </span> 00:00:11 │\n",
              "│ <span style=\"font-weight: bold\">Number of samples:</span> 100      │\n",
              "│                             │\n",
              "│ <span style=\"color: #008000; text-decoration-color: #008000; font-weight: bold\">equals_metric: 0.1400 (avg)</span> │\n",
              "│                             │\n",
              "╰─────────────────────────────╯\n",
              "</pre>\n"
            ]
          },
          "metadata": {}
        },
        {
          "output_type": "display_data",
          "data": {
            "text/plain": [
              "Uploading results to Opik \u001b[33m...\u001b[0m \n"
            ],
            "text/html": [
              "<pre style=\"white-space:pre;overflow-x:auto;line-height:normal;font-family:Menlo,'DejaVu Sans Mono',consolas,'Courier New',monospace\">Uploading results to Opik <span style=\"color: #808000; text-decoration-color: #808000\">...</span> \n",
              "</pre>\n"
            ]
          },
          "metadata": {}
        },
        {
          "output_type": "display_data",
          "data": {
            "text/plain": [
              "View the results \u001b]8;id=449245;https://www.comet.com/opik/api/v1/session/redirect/experiments/?experiment_id=0196b134-498f-76b5-bb38-d559e0294862&dataset_id=0195d400-52bc-7ac1-ae8e-74931512157f&path=aHR0cHM6Ly93d3cuY29tZXQuY29tL29waWsvYXBpLw==\u001b\\in your Opik dashboard\u001b]8;;\u001b\\.\n"
            ],
            "text/html": [
              "<pre style=\"white-space:pre;overflow-x:auto;line-height:normal;font-family:Menlo,'DejaVu Sans Mono',consolas,'Courier New',monospace\">View the results <a href=\"https://www.comet.com/opik/api/v1/session/redirect/experiments/?experiment_id=0196b134-498f-76b5-bb38-d559e0294862&dataset_id=0195d400-52bc-7ac1-ae8e-74931512157f&path=aHR0cHM6Ly93d3cuY29tZXQuY29tL29waWsvYXBpLw==\" target=\"_blank\">in your Opik dashboard</a>.\n",
              "</pre>\n"
            ]
          },
          "metadata": {}
        },
        {
          "output_type": "display_data",
          "data": {
            "text/plain": [
              "Evaluation:   0%|          | 0/100 [00:00<?, ?it/s]"
            ],
            "application/vnd.jupyter.widget-view+json": {
              "version_major": 2,
              "version_minor": 0,
              "model_id": "b28b703d4e0942b6a6791aa125a8bef0"
            }
          },
          "metadata": {}
        },
        {
          "output_type": "display_data",
          "data": {
            "text/plain": [
              "╭─ hotpot-300 (100 samples) ──╮\n",
              "│                             │\n",
              "│ \u001b[1mTotal time:       \u001b[0m 00:00:11 │\n",
              "│ \u001b[1mNumber of samples:\u001b[0m 100      │\n",
              "│                             │\n",
              "│ \u001b[1;32mequals_metric: 0.1300 (avg)\u001b[0m │\n",
              "│                             │\n",
              "╰─────────────────────────────╯\n"
            ],
            "text/html": [
              "<pre style=\"white-space:pre;overflow-x:auto;line-height:normal;font-family:Menlo,'DejaVu Sans Mono',consolas,'Courier New',monospace\">╭─ hotpot-300 (100 samples) ──╮\n",
              "│                             │\n",
              "│ <span style=\"font-weight: bold\">Total time:       </span> 00:00:11 │\n",
              "│ <span style=\"font-weight: bold\">Number of samples:</span> 100      │\n",
              "│                             │\n",
              "│ <span style=\"color: #008000; text-decoration-color: #008000; font-weight: bold\">equals_metric: 0.1300 (avg)</span> │\n",
              "│                             │\n",
              "╰─────────────────────────────╯\n",
              "</pre>\n"
            ]
          },
          "metadata": {}
        },
        {
          "output_type": "display_data",
          "data": {
            "text/plain": [
              "Uploading results to Opik \u001b[33m...\u001b[0m \n"
            ],
            "text/html": [
              "<pre style=\"white-space:pre;overflow-x:auto;line-height:normal;font-family:Menlo,'DejaVu Sans Mono',consolas,'Courier New',monospace\">Uploading results to Opik <span style=\"color: #808000; text-decoration-color: #808000\">...</span> \n",
              "</pre>\n"
            ]
          },
          "metadata": {}
        },
        {
          "output_type": "display_data",
          "data": {
            "text/plain": [
              "View the results \u001b]8;id=145051;https://www.comet.com/opik/api/v1/session/redirect/experiments/?experiment_id=0196b134-77ea-7b82-be81-ea22d26396a8&dataset_id=0195d400-52bc-7ac1-ae8e-74931512157f&path=aHR0cHM6Ly93d3cuY29tZXQuY29tL29waWsvYXBpLw==\u001b\\in your Opik dashboard\u001b]8;;\u001b\\.\n"
            ],
            "text/html": [
              "<pre style=\"white-space:pre;overflow-x:auto;line-height:normal;font-family:Menlo,'DejaVu Sans Mono',consolas,'Courier New',monospace\">View the results <a href=\"https://www.comet.com/opik/api/v1/session/redirect/experiments/?experiment_id=0196b134-77ea-7b82-be81-ea22d26396a8&dataset_id=0195d400-52bc-7ac1-ae8e-74931512157f&path=aHR0cHM6Ly93d3cuY29tZXQuY29tL29waWsvYXBpLw==\" target=\"_blank\">in your Opik dashboard</a>.\n",
              "</pre>\n"
            ]
          },
          "metadata": {}
        }
      ],
      "source": [
        "result = optimizer.optimize_prompt(\n",
        "    opik_dataset,\n",
        "    metric_config,\n",
        "    task_config,\n",
        "    n_trials=3,\n",
        "    n_samples=100\n",
        ")"
      ]
    },
    {
      "cell_type": "code",
      "execution_count": 21,
      "metadata": {
        "colab": {
          "base_uri": "https://localhost:8080/",
          "height": 1000
        },
        "id": "MYG0Ld45vAm8",
        "outputId": "bf575da3-1313-4a51-ad9f-e8ca956f63ef"
      },
      "outputs": [
        {
          "output_type": "display_data",
          "data": {
            "text/plain": [
              "\u001b[33m╔═\u001b[0m\u001b[33m════════════════════════════════════════════\u001b[0m\u001b[33m \u001b[0m\u001b[1;33mOptimization Complete\u001b[0m\u001b[33m \u001b[0m\u001b[33m════════════════════════════════════════════\u001b[0m\u001b[33m═╗\u001b[0m\n",
              "\u001b[33m║\u001b[0m                                                                                                                 \u001b[33m║\u001b[0m\n",
              "\u001b[33m║\u001b[0m \u001b[2mOptimizer:        \u001b[0m\u001b[2m \u001b[0m\u001b[1mOptimizationResult\u001b[0m                                                                           \u001b[33m║\u001b[0m\n",
              "\u001b[33m║\u001b[0m \u001b[2mModel Used:       \u001b[0m\u001b[2m \u001b[0mgpt-4o-mini (\u001b[2mTemp:\u001b[0m 0.1)                                                                      \u001b[33m║\u001b[0m\n",
              "\u001b[33m║\u001b[0m \u001b[2mMetric Evaluated: \u001b[0m\u001b[2m \u001b[0m\u001b[1mequals_metric\u001b[0m                                                                                \u001b[33m║\u001b[0m\n",
              "\u001b[33m║\u001b[0m \u001b[2mInitial Score:    \u001b[0m\u001b[2m \u001b[0m0.0000                                                                                       \u001b[33m║\u001b[0m\n",
              "\u001b[33m║\u001b[0m \u001b[2mFinal Best Score: \u001b[0m\u001b[2m \u001b[0m\u001b[1;36m0.2500\u001b[0m                                                                                       \u001b[33m║\u001b[0m\n",
              "\u001b[33m║\u001b[0m \u001b[2mTotal Improvement:\u001b[0m\u001b[2m \u001b[0m\u001b[1;32minfinite\u001b[0m (initial score was 0)                                                               \u001b[33m║\u001b[0m\n",
              "\u001b[33m║\u001b[0m \u001b[2mRounds Completed: \u001b[0m\u001b[2m \u001b[0m0                                                                                            \u001b[33m║\u001b[0m\n",
              "\u001b[33m║\u001b[0m \u001b[2mStopped Early:    \u001b[0m\u001b[2m \u001b[0mFalse                                                                                        \u001b[33m║\u001b[0m\n",
              "\u001b[33m║\u001b[0m                                                                                                                 \u001b[33m║\u001b[0m\n",
              "\u001b[33m║\u001b[0m                                                                                                                 \u001b[33m║\u001b[0m\n",
              "\u001b[33m║\u001b[0m \u001b[34m╭─\u001b[0m\u001b[34m─────────────────────────────────\u001b[0m\u001b[34m \u001b[0m\u001b[1;34mFinal Optimized Prompt (Chat Structure)\u001b[0m\u001b[34m \u001b[0m\u001b[34m─────────────────────────────────\u001b[0m\u001b[34m─╮\u001b[0m \u001b[33m║\u001b[0m\n",
              "\u001b[33m║\u001b[0m \u001b[34m│\u001b[0m                                                                                                             \u001b[34m│\u001b[0m \u001b[33m║\u001b[0m\n",
              "\u001b[33m║\u001b[0m \u001b[34m│\u001b[0m  \u001b[2mInstruction:\u001b[0m \u001b[3mProvide an answer to the question\u001b[0m                                                             \u001b[34m│\u001b[0m \u001b[33m║\u001b[0m\n",
              "\u001b[33m║\u001b[0m \u001b[34m│\u001b[0m  ---                                                                                                        \u001b[34m│\u001b[0m \u001b[33m║\u001b[0m\n",
              "\u001b[33m║\u001b[0m \u001b[34m│\u001b[0m  \u001b[1;35mSystem:\u001b[0m Provide an answer to the question                                                                  \u001b[34m│\u001b[0m \u001b[33m║\u001b[0m\n",
              "\u001b[33m║\u001b[0m \u001b[34m│\u001b[0m                                                                                                             \u001b[34m│\u001b[0m \u001b[33m║\u001b[0m\n",
              "\u001b[33m║\u001b[0m \u001b[34m│\u001b[0m  You are an intelligent assistant that learns from few-shot examples provided earlier in the conversation.  \u001b[34m│\u001b[0m \u001b[33m║\u001b[0m\n",
              "\u001b[33m║\u001b[0m \u001b[34m│\u001b[0m  Whenever you respond, carefully follow the structure, tone, and format of previous assistant replies,      \u001b[34m│\u001b[0m \u001b[33m║\u001b[0m\n",
              "\u001b[33m║\u001b[0m \u001b[34m│\u001b[0m  using them as a guide                                                                                      \u001b[34m│\u001b[0m \u001b[33m║\u001b[0m\n",
              "\u001b[33m║\u001b[0m \u001b[34m│\u001b[0m  ---                                                                                                        \u001b[34m│\u001b[0m \u001b[33m║\u001b[0m\n",
              "\u001b[33m║\u001b[0m \u001b[34m│\u001b[0m  \u001b[1;32mUser:\u001b[0m                                                                                                      \u001b[34m│\u001b[0m \u001b[33m║\u001b[0m\n",
              "\u001b[33m║\u001b[0m \u001b[34m│\u001b[0m  {                                                                                                          \u001b[34m│\u001b[0m \u001b[33m║\u001b[0m\n",
              "\u001b[33m║\u001b[0m \u001b[34m│\u001b[0m    \"question\": \"Who did Holly Dunn record \\\"Daddy's Hands\\\" for?\"                                           \u001b[34m│\u001b[0m \u001b[33m║\u001b[0m\n",
              "\u001b[33m║\u001b[0m \u001b[34m│\u001b[0m  }                                                                                                          \u001b[34m│\u001b[0m \u001b[33m║\u001b[0m\n",
              "\u001b[33m║\u001b[0m \u001b[34m│\u001b[0m                                                                                                             \u001b[34m│\u001b[0m \u001b[33m║\u001b[0m\n",
              "\u001b[33m║\u001b[0m \u001b[34m│\u001b[0m  ---                                                                                                        \u001b[34m│\u001b[0m \u001b[33m║\u001b[0m\n",
              "\u001b[33m║\u001b[0m \u001b[34m│\u001b[0m  \u001b[1;34mAssistant:\u001b[0m MTM Records                                                                                     \u001b[34m│\u001b[0m \u001b[33m║\u001b[0m\n",
              "\u001b[33m║\u001b[0m \u001b[34m│\u001b[0m  ---                                                                                                        \u001b[34m│\u001b[0m \u001b[33m║\u001b[0m\n",
              "\u001b[33m║\u001b[0m \u001b[34m│\u001b[0m  \u001b[1;32mUser:\u001b[0m                                                                                                      \u001b[34m│\u001b[0m \u001b[33m║\u001b[0m\n",
              "\u001b[33m║\u001b[0m \u001b[34m│\u001b[0m  {                                                                                                          \u001b[34m│\u001b[0m \u001b[33m║\u001b[0m\n",
              "\u001b[33m║\u001b[0m \u001b[34m│\u001b[0m    \"question\": \"What musical instrument does Amaan Ali Khan and  Amjad Ali Khan both play?\"                 \u001b[34m│\u001b[0m \u001b[33m║\u001b[0m\n",
              "\u001b[33m║\u001b[0m \u001b[34m│\u001b[0m  }                                                                                                          \u001b[34m│\u001b[0m \u001b[33m║\u001b[0m\n",
              "\u001b[33m║\u001b[0m \u001b[34m│\u001b[0m                                                                                                             \u001b[34m│\u001b[0m \u001b[33m║\u001b[0m\n",
              "\u001b[33m║\u001b[0m \u001b[34m│\u001b[0m  ---                                                                                                        \u001b[34m│\u001b[0m \u001b[33m║\u001b[0m\n",
              "\u001b[33m║\u001b[0m \u001b[34m│\u001b[0m  \u001b[1;34mAssistant:\u001b[0m the sarod                                                                                       \u001b[34m│\u001b[0m \u001b[33m║\u001b[0m\n",
              "\u001b[33m║\u001b[0m \u001b[34m│\u001b[0m  ---                                                                                                        \u001b[34m│\u001b[0m \u001b[33m║\u001b[0m\n",
              "\u001b[33m║\u001b[0m \u001b[34m│\u001b[0m  \u001b[1;32mUser:\u001b[0m                                                                                                      \u001b[34m│\u001b[0m \u001b[33m║\u001b[0m\n",
              "\u001b[33m║\u001b[0m \u001b[34m│\u001b[0m  {                                                                                                          \u001b[34m│\u001b[0m \u001b[33m║\u001b[0m\n",
              "\u001b[33m║\u001b[0m \u001b[34m│\u001b[0m    \"question\": \"Which has more people, Tumen, Jilin or Xiangcheng City?\"                                    \u001b[34m│\u001b[0m \u001b[33m║\u001b[0m\n",
              "\u001b[33m║\u001b[0m \u001b[34m│\u001b[0m  }                                                                                                          \u001b[34m│\u001b[0m \u001b[33m║\u001b[0m\n",
              "\u001b[33m║\u001b[0m \u001b[34m│\u001b[0m                                                                                                             \u001b[34m│\u001b[0m \u001b[33m║\u001b[0m\n",
              "\u001b[33m║\u001b[0m \u001b[34m│\u001b[0m  ---                                                                                                        \u001b[34m│\u001b[0m \u001b[33m║\u001b[0m\n",
              "\u001b[33m║\u001b[0m \u001b[34m│\u001b[0m  \u001b[1;34mAssistant:\u001b[0m Xiangcheng                                                                                      \u001b[34m│\u001b[0m \u001b[33m║\u001b[0m\n",
              "\u001b[33m║\u001b[0m \u001b[34m│\u001b[0m  ---                                                                                                        \u001b[34m│\u001b[0m \u001b[33m║\u001b[0m\n",
              "\u001b[33m║\u001b[0m \u001b[34m│\u001b[0m  \u001b[1;32mUser:\u001b[0m                                                                                                      \u001b[34m│\u001b[0m \u001b[33m║\u001b[0m\n",
              "\u001b[33m║\u001b[0m \u001b[34m│\u001b[0m  {                                                                                                          \u001b[34m│\u001b[0m \u001b[33m║\u001b[0m\n",
              "\u001b[33m║\u001b[0m \u001b[34m│\u001b[0m    \"question\": \"Are the bands Flow and Against the Current from the same country?\"                          \u001b[34m│\u001b[0m \u001b[33m║\u001b[0m\n",
              "\u001b[33m║\u001b[0m \u001b[34m│\u001b[0m  }                                                                                                          \u001b[34m│\u001b[0m \u001b[33m║\u001b[0m\n",
              "\u001b[33m║\u001b[0m \u001b[34m│\u001b[0m                                                                                                             \u001b[34m│\u001b[0m \u001b[33m║\u001b[0m\n",
              "\u001b[33m║\u001b[0m \u001b[34m│\u001b[0m  ---                                                                                                        \u001b[34m│\u001b[0m \u001b[33m║\u001b[0m\n",
              "\u001b[33m║\u001b[0m \u001b[34m│\u001b[0m  \u001b[1;34mAssistant:\u001b[0m no                                                                                              \u001b[34m│\u001b[0m \u001b[33m║\u001b[0m\n",
              "\u001b[33m║\u001b[0m \u001b[34m│\u001b[0m  ---                                                                                                        \u001b[34m│\u001b[0m \u001b[33m║\u001b[0m\n",
              "\u001b[33m║\u001b[0m \u001b[34m│\u001b[0m  \u001b[1;32mUser:\u001b[0m                                                                                                      \u001b[34m│\u001b[0m \u001b[33m║\u001b[0m\n",
              "\u001b[33m║\u001b[0m \u001b[34m│\u001b[0m  {                                                                                                          \u001b[34m│\u001b[0m \u001b[33m║\u001b[0m\n",
              "\u001b[33m║\u001b[0m \u001b[34m│\u001b[0m    \"question\": \"What is the same of the city that  is the second largest city municipality in Italy and     \u001b[34m│\u001b[0m \u001b[33m║\u001b[0m\n",
              "\u001b[33m║\u001b[0m \u001b[34m│\u001b[0m  appeared in The 2010 Giro d'Italia?\"                                                                       \u001b[34m│\u001b[0m \u001b[33m║\u001b[0m\n",
              "\u001b[33m║\u001b[0m \u001b[34m│\u001b[0m  }                                                                                                          \u001b[34m│\u001b[0m \u001b[33m║\u001b[0m\n",
              "\u001b[33m║\u001b[0m \u001b[34m│\u001b[0m                                                                                                             \u001b[34m│\u001b[0m \u001b[33m║\u001b[0m\n",
              "\u001b[33m║\u001b[0m \u001b[34m│\u001b[0m  ---                                                                                                        \u001b[34m│\u001b[0m \u001b[33m║\u001b[0m\n",
              "\u001b[33m║\u001b[0m \u001b[34m│\u001b[0m  \u001b[1;34mAssistant:\u001b[0m Verona                                                                                          \u001b[34m│\u001b[0m \u001b[33m║\u001b[0m\n",
              "\u001b[33m║\u001b[0m \u001b[34m│\u001b[0m  ---                                                                                                        \u001b[34m│\u001b[0m \u001b[33m║\u001b[0m\n",
              "\u001b[33m║\u001b[0m \u001b[34m│\u001b[0m  \u001b[1;32mUser:\u001b[0m                                                                                                      \u001b[34m│\u001b[0m \u001b[33m║\u001b[0m\n",
              "\u001b[33m║\u001b[0m \u001b[34m│\u001b[0m  {                                                                                                          \u001b[34m│\u001b[0m \u001b[33m║\u001b[0m\n",
              "\u001b[33m║\u001b[0m \u001b[34m│\u001b[0m    \"question\": \"The designer of the Holy Trinity Church pioneered the use of what material in church        \u001b[34m│\u001b[0m \u001b[33m║\u001b[0m\n",
              "\u001b[33m║\u001b[0m \u001b[34m│\u001b[0m  building?\"                                                                                                 \u001b[34m│\u001b[0m \u001b[33m║\u001b[0m\n",
              "\u001b[33m║\u001b[0m \u001b[34m│\u001b[0m  }                                                                                                          \u001b[34m│\u001b[0m \u001b[33m║\u001b[0m\n",
              "\u001b[33m║\u001b[0m \u001b[34m│\u001b[0m                                                                                                             \u001b[34m│\u001b[0m \u001b[33m║\u001b[0m\n",
              "\u001b[33m║\u001b[0m \u001b[34m│\u001b[0m  ---                                                                                                        \u001b[34m│\u001b[0m \u001b[33m║\u001b[0m\n",
              "\u001b[33m║\u001b[0m \u001b[34m│\u001b[0m  \u001b[1;34mAssistant:\u001b[0m terracotta                                                                                      \u001b[34m│\u001b[0m \u001b[33m║\u001b[0m\n",
              "\u001b[33m║\u001b[0m \u001b[34m│\u001b[0m  ---                                                                                                        \u001b[34m│\u001b[0m \u001b[33m║\u001b[0m\n",
              "\u001b[33m║\u001b[0m \u001b[34m│\u001b[0m  \u001b[1;32mUser:\u001b[0m                                                                                                      \u001b[34m│\u001b[0m \u001b[33m║\u001b[0m\n",
              "\u001b[33m║\u001b[0m \u001b[34m│\u001b[0m  {                                                                                                          \u001b[34m│\u001b[0m \u001b[33m║\u001b[0m\n",
              "\u001b[33m║\u001b[0m \u001b[34m│\u001b[0m    \"question\": \"One Night in Istanbul stars a British actor and recording artist who is best known for his  \u001b[34m│\u001b[0m \u001b[33m║\u001b[0m\n",
              "\u001b[33m║\u001b[0m \u001b[34m│\u001b[0m  portrayal of Jonah Kirby on what BBC One drama?\"                                                           \u001b[34m│\u001b[0m \u001b[33m║\u001b[0m\n",
              "\u001b[33m║\u001b[0m \u001b[34m│\u001b[0m  }                                                                                                          \u001b[34m│\u001b[0m \u001b[33m║\u001b[0m\n",
              "\u001b[33m║\u001b[0m \u001b[34m│\u001b[0m                                                                                                             \u001b[34m│\u001b[0m \u001b[33m║\u001b[0m\n",
              "\u001b[33m║\u001b[0m \u001b[34m│\u001b[0m  ---                                                                                                        \u001b[34m│\u001b[0m \u001b[33m║\u001b[0m\n",
              "\u001b[33m║\u001b[0m \u001b[34m│\u001b[0m  \u001b[1;34mAssistant:\u001b[0m Waterloo Road                                                                                   \u001b[34m│\u001b[0m \u001b[33m║\u001b[0m\n",
              "\u001b[33m║\u001b[0m \u001b[34m│\u001b[0m  ---                                                                                                        \u001b[34m│\u001b[0m \u001b[33m║\u001b[0m\n",
              "\u001b[33m║\u001b[0m \u001b[34m│\u001b[0m  \u001b[1;32mUser:\u001b[0m                                                                                                      \u001b[34m│\u001b[0m \u001b[33m║\u001b[0m\n",
              "\u001b[33m║\u001b[0m \u001b[34m│\u001b[0m  {                                                                                                          \u001b[34m│\u001b[0m \u001b[33m║\u001b[0m\n",
              "\u001b[33m║\u001b[0m \u001b[34m│\u001b[0m    \"question\": \"Which director; Joris Ivens and Lew Landers, was born in November?\"                         \u001b[34m│\u001b[0m \u001b[33m║\u001b[0m\n",
              "\u001b[33m║\u001b[0m \u001b[34m│\u001b[0m  }                                                                                                          \u001b[34m│\u001b[0m \u001b[33m║\u001b[0m\n",
              "\u001b[33m║\u001b[0m \u001b[34m│\u001b[0m                                                                                                             \u001b[34m│\u001b[0m \u001b[33m║\u001b[0m\n",
              "\u001b[33m║\u001b[0m \u001b[34m│\u001b[0m  ---                                                                                                        \u001b[34m│\u001b[0m \u001b[33m║\u001b[0m\n",
              "\u001b[33m║\u001b[0m \u001b[34m│\u001b[0m  \u001b[1;34mAssistant:\u001b[0m \"Joris\" Ivens (18 November 1898                                                                 \u001b[34m│\u001b[0m \u001b[33m║\u001b[0m\n",
              "\u001b[33m║\u001b[0m \u001b[34m│\u001b[0m  ---                                                                                                        \u001b[34m│\u001b[0m \u001b[33m║\u001b[0m\n",
              "\u001b[33m║\u001b[0m \u001b[34m│\u001b[0m  \u001b[1;32mUser:\u001b[0m {\"question\": \"{{question}}\"}                                                                         \u001b[34m│\u001b[0m \u001b[33m║\u001b[0m\n",
              "\u001b[33m║\u001b[0m \u001b[34m│\u001b[0m  ---                                                                                                        \u001b[34m│\u001b[0m \u001b[33m║\u001b[0m\n",
              "\u001b[33m║\u001b[0m \u001b[34m│\u001b[0m                                                                                                             \u001b[34m│\u001b[0m \u001b[33m║\u001b[0m\n",
              "\u001b[33m║\u001b[0m \u001b[34m╰─────────────────────────────────────────────────────────────────────────────────────────────────────────────╯\u001b[0m \u001b[33m║\u001b[0m\n",
              "\u001b[33m║\u001b[0m                                                                                                                 \u001b[33m║\u001b[0m\n",
              "\u001b[33m╚═════════════════════════════════════════════════════════════════════════════════════════════════════════════════╝\u001b[0m\n"
            ],
            "text/html": [
              "<pre style=\"white-space:pre;overflow-x:auto;line-height:normal;font-family:Menlo,'DejaVu Sans Mono',consolas,'Courier New',monospace\"><span style=\"color: #808000; text-decoration-color: #808000\">╔═════════════════════════════════════════════ </span><span style=\"color: #808000; text-decoration-color: #808000; font-weight: bold\">Optimization Complete</span><span style=\"color: #808000; text-decoration-color: #808000\"> ═════════════════════════════════════════════╗</span>\n",
              "<span style=\"color: #808000; text-decoration-color: #808000\">║</span>                                                                                                                 <span style=\"color: #808000; text-decoration-color: #808000\">║</span>\n",
              "<span style=\"color: #808000; text-decoration-color: #808000\">║</span> <span style=\"color: #7f7f7f; text-decoration-color: #7f7f7f\">Optimizer:         </span><span style=\"font-weight: bold\">OptimizationResult</span>                                                                           <span style=\"color: #808000; text-decoration-color: #808000\">║</span>\n",
              "<span style=\"color: #808000; text-decoration-color: #808000\">║</span> <span style=\"color: #7f7f7f; text-decoration-color: #7f7f7f\">Model Used:        </span>gpt-4o-mini (<span style=\"color: #7f7f7f; text-decoration-color: #7f7f7f\">Temp:</span> 0.1)                                                                      <span style=\"color: #808000; text-decoration-color: #808000\">║</span>\n",
              "<span style=\"color: #808000; text-decoration-color: #808000\">║</span> <span style=\"color: #7f7f7f; text-decoration-color: #7f7f7f\">Metric Evaluated:  </span><span style=\"font-weight: bold\">equals_metric</span>                                                                                <span style=\"color: #808000; text-decoration-color: #808000\">║</span>\n",
              "<span style=\"color: #808000; text-decoration-color: #808000\">║</span> <span style=\"color: #7f7f7f; text-decoration-color: #7f7f7f\">Initial Score:     </span>0.0000                                                                                       <span style=\"color: #808000; text-decoration-color: #808000\">║</span>\n",
              "<span style=\"color: #808000; text-decoration-color: #808000\">║</span> <span style=\"color: #7f7f7f; text-decoration-color: #7f7f7f\">Final Best Score:  </span><span style=\"color: #008080; text-decoration-color: #008080; font-weight: bold\">0.2500</span>                                                                                       <span style=\"color: #808000; text-decoration-color: #808000\">║</span>\n",
              "<span style=\"color: #808000; text-decoration-color: #808000\">║</span> <span style=\"color: #7f7f7f; text-decoration-color: #7f7f7f\">Total Improvement: </span><span style=\"color: #008000; text-decoration-color: #008000; font-weight: bold\">infinite</span> (initial score was 0)                                                               <span style=\"color: #808000; text-decoration-color: #808000\">║</span>\n",
              "<span style=\"color: #808000; text-decoration-color: #808000\">║</span> <span style=\"color: #7f7f7f; text-decoration-color: #7f7f7f\">Rounds Completed:  </span>0                                                                                            <span style=\"color: #808000; text-decoration-color: #808000\">║</span>\n",
              "<span style=\"color: #808000; text-decoration-color: #808000\">║</span> <span style=\"color: #7f7f7f; text-decoration-color: #7f7f7f\">Stopped Early:     </span>False                                                                                        <span style=\"color: #808000; text-decoration-color: #808000\">║</span>\n",
              "<span style=\"color: #808000; text-decoration-color: #808000\">║</span>                                                                                                                 <span style=\"color: #808000; text-decoration-color: #808000\">║</span>\n",
              "<span style=\"color: #808000; text-decoration-color: #808000\">║</span>                                                                                                                 <span style=\"color: #808000; text-decoration-color: #808000\">║</span>\n",
              "<span style=\"color: #808000; text-decoration-color: #808000\">║</span> <span style=\"color: #000080; text-decoration-color: #000080\">╭────────────────────────────────── </span><span style=\"color: #000080; text-decoration-color: #000080; font-weight: bold\">Final Optimized Prompt (Chat Structure)</span><span style=\"color: #000080; text-decoration-color: #000080\"> ──────────────────────────────────╮</span> <span style=\"color: #808000; text-decoration-color: #808000\">║</span>\n",
              "<span style=\"color: #808000; text-decoration-color: #808000\">║</span> <span style=\"color: #000080; text-decoration-color: #000080\">│</span>                                                                                                             <span style=\"color: #000080; text-decoration-color: #000080\">│</span> <span style=\"color: #808000; text-decoration-color: #808000\">║</span>\n",
              "<span style=\"color: #808000; text-decoration-color: #808000\">║</span> <span style=\"color: #000080; text-decoration-color: #000080\">│</span>  <span style=\"color: #7f7f7f; text-decoration-color: #7f7f7f\">Instruction:</span> <span style=\"font-style: italic\">Provide an answer to the question</span>                                                             <span style=\"color: #000080; text-decoration-color: #000080\">│</span> <span style=\"color: #808000; text-decoration-color: #808000\">║</span>\n",
              "<span style=\"color: #808000; text-decoration-color: #808000\">║</span> <span style=\"color: #000080; text-decoration-color: #000080\">│</span>  ---                                                                                                        <span style=\"color: #000080; text-decoration-color: #000080\">│</span> <span style=\"color: #808000; text-decoration-color: #808000\">║</span>\n",
              "<span style=\"color: #808000; text-decoration-color: #808000\">║</span> <span style=\"color: #000080; text-decoration-color: #000080\">│</span>  <span style=\"color: #800080; text-decoration-color: #800080; font-weight: bold\">System:</span> Provide an answer to the question                                                                  <span style=\"color: #000080; text-decoration-color: #000080\">│</span> <span style=\"color: #808000; text-decoration-color: #808000\">║</span>\n",
              "<span style=\"color: #808000; text-decoration-color: #808000\">║</span> <span style=\"color: #000080; text-decoration-color: #000080\">│</span>                                                                                                             <span style=\"color: #000080; text-decoration-color: #000080\">│</span> <span style=\"color: #808000; text-decoration-color: #808000\">║</span>\n",
              "<span style=\"color: #808000; text-decoration-color: #808000\">║</span> <span style=\"color: #000080; text-decoration-color: #000080\">│</span>  You are an intelligent assistant that learns from few-shot examples provided earlier in the conversation.  <span style=\"color: #000080; text-decoration-color: #000080\">│</span> <span style=\"color: #808000; text-decoration-color: #808000\">║</span>\n",
              "<span style=\"color: #808000; text-decoration-color: #808000\">║</span> <span style=\"color: #000080; text-decoration-color: #000080\">│</span>  Whenever you respond, carefully follow the structure, tone, and format of previous assistant replies,      <span style=\"color: #000080; text-decoration-color: #000080\">│</span> <span style=\"color: #808000; text-decoration-color: #808000\">║</span>\n",
              "<span style=\"color: #808000; text-decoration-color: #808000\">║</span> <span style=\"color: #000080; text-decoration-color: #000080\">│</span>  using them as a guide                                                                                      <span style=\"color: #000080; text-decoration-color: #000080\">│</span> <span style=\"color: #808000; text-decoration-color: #808000\">║</span>\n",
              "<span style=\"color: #808000; text-decoration-color: #808000\">║</span> <span style=\"color: #000080; text-decoration-color: #000080\">│</span>  ---                                                                                                        <span style=\"color: #000080; text-decoration-color: #000080\">│</span> <span style=\"color: #808000; text-decoration-color: #808000\">║</span>\n",
              "<span style=\"color: #808000; text-decoration-color: #808000\">║</span> <span style=\"color: #000080; text-decoration-color: #000080\">│</span>  <span style=\"color: #008000; text-decoration-color: #008000; font-weight: bold\">User:</span>                                                                                                      <span style=\"color: #000080; text-decoration-color: #000080\">│</span> <span style=\"color: #808000; text-decoration-color: #808000\">║</span>\n",
              "<span style=\"color: #808000; text-decoration-color: #808000\">║</span> <span style=\"color: #000080; text-decoration-color: #000080\">│</span>  {                                                                                                          <span style=\"color: #000080; text-decoration-color: #000080\">│</span> <span style=\"color: #808000; text-decoration-color: #808000\">║</span>\n",
              "<span style=\"color: #808000; text-decoration-color: #808000\">║</span> <span style=\"color: #000080; text-decoration-color: #000080\">│</span>    \"question\": \"Who did Holly Dunn record \\\"Daddy's Hands\\\" for?\"                                           <span style=\"color: #000080; text-decoration-color: #000080\">│</span> <span style=\"color: #808000; text-decoration-color: #808000\">║</span>\n",
              "<span style=\"color: #808000; text-decoration-color: #808000\">║</span> <span style=\"color: #000080; text-decoration-color: #000080\">│</span>  }                                                                                                          <span style=\"color: #000080; text-decoration-color: #000080\">│</span> <span style=\"color: #808000; text-decoration-color: #808000\">║</span>\n",
              "<span style=\"color: #808000; text-decoration-color: #808000\">║</span> <span style=\"color: #000080; text-decoration-color: #000080\">│</span>                                                                                                             <span style=\"color: #000080; text-decoration-color: #000080\">│</span> <span style=\"color: #808000; text-decoration-color: #808000\">║</span>\n",
              "<span style=\"color: #808000; text-decoration-color: #808000\">║</span> <span style=\"color: #000080; text-decoration-color: #000080\">│</span>  ---                                                                                                        <span style=\"color: #000080; text-decoration-color: #000080\">│</span> <span style=\"color: #808000; text-decoration-color: #808000\">║</span>\n",
              "<span style=\"color: #808000; text-decoration-color: #808000\">║</span> <span style=\"color: #000080; text-decoration-color: #000080\">│</span>  <span style=\"color: #000080; text-decoration-color: #000080; font-weight: bold\">Assistant:</span> MTM Records                                                                                     <span style=\"color: #000080; text-decoration-color: #000080\">│</span> <span style=\"color: #808000; text-decoration-color: #808000\">║</span>\n",
              "<span style=\"color: #808000; text-decoration-color: #808000\">║</span> <span style=\"color: #000080; text-decoration-color: #000080\">│</span>  ---                                                                                                        <span style=\"color: #000080; text-decoration-color: #000080\">│</span> <span style=\"color: #808000; text-decoration-color: #808000\">║</span>\n",
              "<span style=\"color: #808000; text-decoration-color: #808000\">║</span> <span style=\"color: #000080; text-decoration-color: #000080\">│</span>  <span style=\"color: #008000; text-decoration-color: #008000; font-weight: bold\">User:</span>                                                                                                      <span style=\"color: #000080; text-decoration-color: #000080\">│</span> <span style=\"color: #808000; text-decoration-color: #808000\">║</span>\n",
              "<span style=\"color: #808000; text-decoration-color: #808000\">║</span> <span style=\"color: #000080; text-decoration-color: #000080\">│</span>  {                                                                                                          <span style=\"color: #000080; text-decoration-color: #000080\">│</span> <span style=\"color: #808000; text-decoration-color: #808000\">║</span>\n",
              "<span style=\"color: #808000; text-decoration-color: #808000\">║</span> <span style=\"color: #000080; text-decoration-color: #000080\">│</span>    \"question\": \"What musical instrument does Amaan Ali Khan and  Amjad Ali Khan both play?\"                 <span style=\"color: #000080; text-decoration-color: #000080\">│</span> <span style=\"color: #808000; text-decoration-color: #808000\">║</span>\n",
              "<span style=\"color: #808000; text-decoration-color: #808000\">║</span> <span style=\"color: #000080; text-decoration-color: #000080\">│</span>  }                                                                                                          <span style=\"color: #000080; text-decoration-color: #000080\">│</span> <span style=\"color: #808000; text-decoration-color: #808000\">║</span>\n",
              "<span style=\"color: #808000; text-decoration-color: #808000\">║</span> <span style=\"color: #000080; text-decoration-color: #000080\">│</span>                                                                                                             <span style=\"color: #000080; text-decoration-color: #000080\">│</span> <span style=\"color: #808000; text-decoration-color: #808000\">║</span>\n",
              "<span style=\"color: #808000; text-decoration-color: #808000\">║</span> <span style=\"color: #000080; text-decoration-color: #000080\">│</span>  ---                                                                                                        <span style=\"color: #000080; text-decoration-color: #000080\">│</span> <span style=\"color: #808000; text-decoration-color: #808000\">║</span>\n",
              "<span style=\"color: #808000; text-decoration-color: #808000\">║</span> <span style=\"color: #000080; text-decoration-color: #000080\">│</span>  <span style=\"color: #000080; text-decoration-color: #000080; font-weight: bold\">Assistant:</span> the sarod                                                                                       <span style=\"color: #000080; text-decoration-color: #000080\">│</span> <span style=\"color: #808000; text-decoration-color: #808000\">║</span>\n",
              "<span style=\"color: #808000; text-decoration-color: #808000\">║</span> <span style=\"color: #000080; text-decoration-color: #000080\">│</span>  ---                                                                                                        <span style=\"color: #000080; text-decoration-color: #000080\">│</span> <span style=\"color: #808000; text-decoration-color: #808000\">║</span>\n",
              "<span style=\"color: #808000; text-decoration-color: #808000\">║</span> <span style=\"color: #000080; text-decoration-color: #000080\">│</span>  <span style=\"color: #008000; text-decoration-color: #008000; font-weight: bold\">User:</span>                                                                                                      <span style=\"color: #000080; text-decoration-color: #000080\">│</span> <span style=\"color: #808000; text-decoration-color: #808000\">║</span>\n",
              "<span style=\"color: #808000; text-decoration-color: #808000\">║</span> <span style=\"color: #000080; text-decoration-color: #000080\">│</span>  {                                                                                                          <span style=\"color: #000080; text-decoration-color: #000080\">│</span> <span style=\"color: #808000; text-decoration-color: #808000\">║</span>\n",
              "<span style=\"color: #808000; text-decoration-color: #808000\">║</span> <span style=\"color: #000080; text-decoration-color: #000080\">│</span>    \"question\": \"Which has more people, Tumen, Jilin or Xiangcheng City?\"                                    <span style=\"color: #000080; text-decoration-color: #000080\">│</span> <span style=\"color: #808000; text-decoration-color: #808000\">║</span>\n",
              "<span style=\"color: #808000; text-decoration-color: #808000\">║</span> <span style=\"color: #000080; text-decoration-color: #000080\">│</span>  }                                                                                                          <span style=\"color: #000080; text-decoration-color: #000080\">│</span> <span style=\"color: #808000; text-decoration-color: #808000\">║</span>\n",
              "<span style=\"color: #808000; text-decoration-color: #808000\">║</span> <span style=\"color: #000080; text-decoration-color: #000080\">│</span>                                                                                                             <span style=\"color: #000080; text-decoration-color: #000080\">│</span> <span style=\"color: #808000; text-decoration-color: #808000\">║</span>\n",
              "<span style=\"color: #808000; text-decoration-color: #808000\">║</span> <span style=\"color: #000080; text-decoration-color: #000080\">│</span>  ---                                                                                                        <span style=\"color: #000080; text-decoration-color: #000080\">│</span> <span style=\"color: #808000; text-decoration-color: #808000\">║</span>\n",
              "<span style=\"color: #808000; text-decoration-color: #808000\">║</span> <span style=\"color: #000080; text-decoration-color: #000080\">│</span>  <span style=\"color: #000080; text-decoration-color: #000080; font-weight: bold\">Assistant:</span> Xiangcheng                                                                                      <span style=\"color: #000080; text-decoration-color: #000080\">│</span> <span style=\"color: #808000; text-decoration-color: #808000\">║</span>\n",
              "<span style=\"color: #808000; text-decoration-color: #808000\">║</span> <span style=\"color: #000080; text-decoration-color: #000080\">│</span>  ---                                                                                                        <span style=\"color: #000080; text-decoration-color: #000080\">│</span> <span style=\"color: #808000; text-decoration-color: #808000\">║</span>\n",
              "<span style=\"color: #808000; text-decoration-color: #808000\">║</span> <span style=\"color: #000080; text-decoration-color: #000080\">│</span>  <span style=\"color: #008000; text-decoration-color: #008000; font-weight: bold\">User:</span>                                                                                                      <span style=\"color: #000080; text-decoration-color: #000080\">│</span> <span style=\"color: #808000; text-decoration-color: #808000\">║</span>\n",
              "<span style=\"color: #808000; text-decoration-color: #808000\">║</span> <span style=\"color: #000080; text-decoration-color: #000080\">│</span>  {                                                                                                          <span style=\"color: #000080; text-decoration-color: #000080\">│</span> <span style=\"color: #808000; text-decoration-color: #808000\">║</span>\n",
              "<span style=\"color: #808000; text-decoration-color: #808000\">║</span> <span style=\"color: #000080; text-decoration-color: #000080\">│</span>    \"question\": \"Are the bands Flow and Against the Current from the same country?\"                          <span style=\"color: #000080; text-decoration-color: #000080\">│</span> <span style=\"color: #808000; text-decoration-color: #808000\">║</span>\n",
              "<span style=\"color: #808000; text-decoration-color: #808000\">║</span> <span style=\"color: #000080; text-decoration-color: #000080\">│</span>  }                                                                                                          <span style=\"color: #000080; text-decoration-color: #000080\">│</span> <span style=\"color: #808000; text-decoration-color: #808000\">║</span>\n",
              "<span style=\"color: #808000; text-decoration-color: #808000\">║</span> <span style=\"color: #000080; text-decoration-color: #000080\">│</span>                                                                                                             <span style=\"color: #000080; text-decoration-color: #000080\">│</span> <span style=\"color: #808000; text-decoration-color: #808000\">║</span>\n",
              "<span style=\"color: #808000; text-decoration-color: #808000\">║</span> <span style=\"color: #000080; text-decoration-color: #000080\">│</span>  ---                                                                                                        <span style=\"color: #000080; text-decoration-color: #000080\">│</span> <span style=\"color: #808000; text-decoration-color: #808000\">║</span>\n",
              "<span style=\"color: #808000; text-decoration-color: #808000\">║</span> <span style=\"color: #000080; text-decoration-color: #000080\">│</span>  <span style=\"color: #000080; text-decoration-color: #000080; font-weight: bold\">Assistant:</span> no                                                                                              <span style=\"color: #000080; text-decoration-color: #000080\">│</span> <span style=\"color: #808000; text-decoration-color: #808000\">║</span>\n",
              "<span style=\"color: #808000; text-decoration-color: #808000\">║</span> <span style=\"color: #000080; text-decoration-color: #000080\">│</span>  ---                                                                                                        <span style=\"color: #000080; text-decoration-color: #000080\">│</span> <span style=\"color: #808000; text-decoration-color: #808000\">║</span>\n",
              "<span style=\"color: #808000; text-decoration-color: #808000\">║</span> <span style=\"color: #000080; text-decoration-color: #000080\">│</span>  <span style=\"color: #008000; text-decoration-color: #008000; font-weight: bold\">User:</span>                                                                                                      <span style=\"color: #000080; text-decoration-color: #000080\">│</span> <span style=\"color: #808000; text-decoration-color: #808000\">║</span>\n",
              "<span style=\"color: #808000; text-decoration-color: #808000\">║</span> <span style=\"color: #000080; text-decoration-color: #000080\">│</span>  {                                                                                                          <span style=\"color: #000080; text-decoration-color: #000080\">│</span> <span style=\"color: #808000; text-decoration-color: #808000\">║</span>\n",
              "<span style=\"color: #808000; text-decoration-color: #808000\">║</span> <span style=\"color: #000080; text-decoration-color: #000080\">│</span>    \"question\": \"What is the same of the city that  is the second largest city municipality in Italy and     <span style=\"color: #000080; text-decoration-color: #000080\">│</span> <span style=\"color: #808000; text-decoration-color: #808000\">║</span>\n",
              "<span style=\"color: #808000; text-decoration-color: #808000\">║</span> <span style=\"color: #000080; text-decoration-color: #000080\">│</span>  appeared in The 2010 Giro d'Italia?\"                                                                       <span style=\"color: #000080; text-decoration-color: #000080\">│</span> <span style=\"color: #808000; text-decoration-color: #808000\">║</span>\n",
              "<span style=\"color: #808000; text-decoration-color: #808000\">║</span> <span style=\"color: #000080; text-decoration-color: #000080\">│</span>  }                                                                                                          <span style=\"color: #000080; text-decoration-color: #000080\">│</span> <span style=\"color: #808000; text-decoration-color: #808000\">║</span>\n",
              "<span style=\"color: #808000; text-decoration-color: #808000\">║</span> <span style=\"color: #000080; text-decoration-color: #000080\">│</span>                                                                                                             <span style=\"color: #000080; text-decoration-color: #000080\">│</span> <span style=\"color: #808000; text-decoration-color: #808000\">║</span>\n",
              "<span style=\"color: #808000; text-decoration-color: #808000\">║</span> <span style=\"color: #000080; text-decoration-color: #000080\">│</span>  ---                                                                                                        <span style=\"color: #000080; text-decoration-color: #000080\">│</span> <span style=\"color: #808000; text-decoration-color: #808000\">║</span>\n",
              "<span style=\"color: #808000; text-decoration-color: #808000\">║</span> <span style=\"color: #000080; text-decoration-color: #000080\">│</span>  <span style=\"color: #000080; text-decoration-color: #000080; font-weight: bold\">Assistant:</span> Verona                                                                                          <span style=\"color: #000080; text-decoration-color: #000080\">│</span> <span style=\"color: #808000; text-decoration-color: #808000\">║</span>\n",
              "<span style=\"color: #808000; text-decoration-color: #808000\">║</span> <span style=\"color: #000080; text-decoration-color: #000080\">│</span>  ---                                                                                                        <span style=\"color: #000080; text-decoration-color: #000080\">│</span> <span style=\"color: #808000; text-decoration-color: #808000\">║</span>\n",
              "<span style=\"color: #808000; text-decoration-color: #808000\">║</span> <span style=\"color: #000080; text-decoration-color: #000080\">│</span>  <span style=\"color: #008000; text-decoration-color: #008000; font-weight: bold\">User:</span>                                                                                                      <span style=\"color: #000080; text-decoration-color: #000080\">│</span> <span style=\"color: #808000; text-decoration-color: #808000\">║</span>\n",
              "<span style=\"color: #808000; text-decoration-color: #808000\">║</span> <span style=\"color: #000080; text-decoration-color: #000080\">│</span>  {                                                                                                          <span style=\"color: #000080; text-decoration-color: #000080\">│</span> <span style=\"color: #808000; text-decoration-color: #808000\">║</span>\n",
              "<span style=\"color: #808000; text-decoration-color: #808000\">║</span> <span style=\"color: #000080; text-decoration-color: #000080\">│</span>    \"question\": \"The designer of the Holy Trinity Church pioneered the use of what material in church        <span style=\"color: #000080; text-decoration-color: #000080\">│</span> <span style=\"color: #808000; text-decoration-color: #808000\">║</span>\n",
              "<span style=\"color: #808000; text-decoration-color: #808000\">║</span> <span style=\"color: #000080; text-decoration-color: #000080\">│</span>  building?\"                                                                                                 <span style=\"color: #000080; text-decoration-color: #000080\">│</span> <span style=\"color: #808000; text-decoration-color: #808000\">║</span>\n",
              "<span style=\"color: #808000; text-decoration-color: #808000\">║</span> <span style=\"color: #000080; text-decoration-color: #000080\">│</span>  }                                                                                                          <span style=\"color: #000080; text-decoration-color: #000080\">│</span> <span style=\"color: #808000; text-decoration-color: #808000\">║</span>\n",
              "<span style=\"color: #808000; text-decoration-color: #808000\">║</span> <span style=\"color: #000080; text-decoration-color: #000080\">│</span>                                                                                                             <span style=\"color: #000080; text-decoration-color: #000080\">│</span> <span style=\"color: #808000; text-decoration-color: #808000\">║</span>\n",
              "<span style=\"color: #808000; text-decoration-color: #808000\">║</span> <span style=\"color: #000080; text-decoration-color: #000080\">│</span>  ---                                                                                                        <span style=\"color: #000080; text-decoration-color: #000080\">│</span> <span style=\"color: #808000; text-decoration-color: #808000\">║</span>\n",
              "<span style=\"color: #808000; text-decoration-color: #808000\">║</span> <span style=\"color: #000080; text-decoration-color: #000080\">│</span>  <span style=\"color: #000080; text-decoration-color: #000080; font-weight: bold\">Assistant:</span> terracotta                                                                                      <span style=\"color: #000080; text-decoration-color: #000080\">│</span> <span style=\"color: #808000; text-decoration-color: #808000\">║</span>\n",
              "<span style=\"color: #808000; text-decoration-color: #808000\">║</span> <span style=\"color: #000080; text-decoration-color: #000080\">│</span>  ---                                                                                                        <span style=\"color: #000080; text-decoration-color: #000080\">│</span> <span style=\"color: #808000; text-decoration-color: #808000\">║</span>\n",
              "<span style=\"color: #808000; text-decoration-color: #808000\">║</span> <span style=\"color: #000080; text-decoration-color: #000080\">│</span>  <span style=\"color: #008000; text-decoration-color: #008000; font-weight: bold\">User:</span>                                                                                                      <span style=\"color: #000080; text-decoration-color: #000080\">│</span> <span style=\"color: #808000; text-decoration-color: #808000\">║</span>\n",
              "<span style=\"color: #808000; text-decoration-color: #808000\">║</span> <span style=\"color: #000080; text-decoration-color: #000080\">│</span>  {                                                                                                          <span style=\"color: #000080; text-decoration-color: #000080\">│</span> <span style=\"color: #808000; text-decoration-color: #808000\">║</span>\n",
              "<span style=\"color: #808000; text-decoration-color: #808000\">║</span> <span style=\"color: #000080; text-decoration-color: #000080\">│</span>    \"question\": \"One Night in Istanbul stars a British actor and recording artist who is best known for his  <span style=\"color: #000080; text-decoration-color: #000080\">│</span> <span style=\"color: #808000; text-decoration-color: #808000\">║</span>\n",
              "<span style=\"color: #808000; text-decoration-color: #808000\">║</span> <span style=\"color: #000080; text-decoration-color: #000080\">│</span>  portrayal of Jonah Kirby on what BBC One drama?\"                                                           <span style=\"color: #000080; text-decoration-color: #000080\">│</span> <span style=\"color: #808000; text-decoration-color: #808000\">║</span>\n",
              "<span style=\"color: #808000; text-decoration-color: #808000\">║</span> <span style=\"color: #000080; text-decoration-color: #000080\">│</span>  }                                                                                                          <span style=\"color: #000080; text-decoration-color: #000080\">│</span> <span style=\"color: #808000; text-decoration-color: #808000\">║</span>\n",
              "<span style=\"color: #808000; text-decoration-color: #808000\">║</span> <span style=\"color: #000080; text-decoration-color: #000080\">│</span>                                                                                                             <span style=\"color: #000080; text-decoration-color: #000080\">│</span> <span style=\"color: #808000; text-decoration-color: #808000\">║</span>\n",
              "<span style=\"color: #808000; text-decoration-color: #808000\">║</span> <span style=\"color: #000080; text-decoration-color: #000080\">│</span>  ---                                                                                                        <span style=\"color: #000080; text-decoration-color: #000080\">│</span> <span style=\"color: #808000; text-decoration-color: #808000\">║</span>\n",
              "<span style=\"color: #808000; text-decoration-color: #808000\">║</span> <span style=\"color: #000080; text-decoration-color: #000080\">│</span>  <span style=\"color: #000080; text-decoration-color: #000080; font-weight: bold\">Assistant:</span> Waterloo Road                                                                                   <span style=\"color: #000080; text-decoration-color: #000080\">│</span> <span style=\"color: #808000; text-decoration-color: #808000\">║</span>\n",
              "<span style=\"color: #808000; text-decoration-color: #808000\">║</span> <span style=\"color: #000080; text-decoration-color: #000080\">│</span>  ---                                                                                                        <span style=\"color: #000080; text-decoration-color: #000080\">│</span> <span style=\"color: #808000; text-decoration-color: #808000\">║</span>\n",
              "<span style=\"color: #808000; text-decoration-color: #808000\">║</span> <span style=\"color: #000080; text-decoration-color: #000080\">│</span>  <span style=\"color: #008000; text-decoration-color: #008000; font-weight: bold\">User:</span>                                                                                                      <span style=\"color: #000080; text-decoration-color: #000080\">│</span> <span style=\"color: #808000; text-decoration-color: #808000\">║</span>\n",
              "<span style=\"color: #808000; text-decoration-color: #808000\">║</span> <span style=\"color: #000080; text-decoration-color: #000080\">│</span>  {                                                                                                          <span style=\"color: #000080; text-decoration-color: #000080\">│</span> <span style=\"color: #808000; text-decoration-color: #808000\">║</span>\n",
              "<span style=\"color: #808000; text-decoration-color: #808000\">║</span> <span style=\"color: #000080; text-decoration-color: #000080\">│</span>    \"question\": \"Which director; Joris Ivens and Lew Landers, was born in November?\"                         <span style=\"color: #000080; text-decoration-color: #000080\">│</span> <span style=\"color: #808000; text-decoration-color: #808000\">║</span>\n",
              "<span style=\"color: #808000; text-decoration-color: #808000\">║</span> <span style=\"color: #000080; text-decoration-color: #000080\">│</span>  }                                                                                                          <span style=\"color: #000080; text-decoration-color: #000080\">│</span> <span style=\"color: #808000; text-decoration-color: #808000\">║</span>\n",
              "<span style=\"color: #808000; text-decoration-color: #808000\">║</span> <span style=\"color: #000080; text-decoration-color: #000080\">│</span>                                                                                                             <span style=\"color: #000080; text-decoration-color: #000080\">│</span> <span style=\"color: #808000; text-decoration-color: #808000\">║</span>\n",
              "<span style=\"color: #808000; text-decoration-color: #808000\">║</span> <span style=\"color: #000080; text-decoration-color: #000080\">│</span>  ---                                                                                                        <span style=\"color: #000080; text-decoration-color: #000080\">│</span> <span style=\"color: #808000; text-decoration-color: #808000\">║</span>\n",
              "<span style=\"color: #808000; text-decoration-color: #808000\">║</span> <span style=\"color: #000080; text-decoration-color: #000080\">│</span>  <span style=\"color: #000080; text-decoration-color: #000080; font-weight: bold\">Assistant:</span> \"Joris\" Ivens (18 November 1898                                                                 <span style=\"color: #000080; text-decoration-color: #000080\">│</span> <span style=\"color: #808000; text-decoration-color: #808000\">║</span>\n",
              "<span style=\"color: #808000; text-decoration-color: #808000\">║</span> <span style=\"color: #000080; text-decoration-color: #000080\">│</span>  ---                                                                                                        <span style=\"color: #000080; text-decoration-color: #000080\">│</span> <span style=\"color: #808000; text-decoration-color: #808000\">║</span>\n",
              "<span style=\"color: #808000; text-decoration-color: #808000\">║</span> <span style=\"color: #000080; text-decoration-color: #000080\">│</span>  <span style=\"color: #008000; text-decoration-color: #008000; font-weight: bold\">User:</span> {\"question\": \"{{question}}\"}                                                                         <span style=\"color: #000080; text-decoration-color: #000080\">│</span> <span style=\"color: #808000; text-decoration-color: #808000\">║</span>\n",
              "<span style=\"color: #808000; text-decoration-color: #808000\">║</span> <span style=\"color: #000080; text-decoration-color: #000080\">│</span>  ---                                                                                                        <span style=\"color: #000080; text-decoration-color: #000080\">│</span> <span style=\"color: #808000; text-decoration-color: #808000\">║</span>\n",
              "<span style=\"color: #808000; text-decoration-color: #808000\">║</span> <span style=\"color: #000080; text-decoration-color: #000080\">│</span>                                                                                                             <span style=\"color: #000080; text-decoration-color: #000080\">│</span> <span style=\"color: #808000; text-decoration-color: #808000\">║</span>\n",
              "<span style=\"color: #808000; text-decoration-color: #808000\">║</span> <span style=\"color: #000080; text-decoration-color: #000080\">╰─────────────────────────────────────────────────────────────────────────────────────────────────────────────╯</span> <span style=\"color: #808000; text-decoration-color: #808000\">║</span>\n",
              "<span style=\"color: #808000; text-decoration-color: #808000\">║</span>                                                                                                                 <span style=\"color: #808000; text-decoration-color: #808000\">║</span>\n",
              "<span style=\"color: #808000; text-decoration-color: #808000\">╚═════════════════════════════════════════════════════════════════════════════════════════════════════════════════╝</span>\n",
              "</pre>\n"
            ]
          },
          "metadata": {}
        }
      ],
      "source": [
        "result.display()"
      ]
    },
    {
      "cell_type": "markdown",
      "metadata": {
        "id": "xSZoEVBDRoyZ"
      },
      "source": [
        "Although there is some randomness, you probably got a better prompt. My result is about 5 times better.\n",
        "\n",
        "This is just the initial framework for optimizers for Opik!\n",
        "\n",
        "Please see the [Opik Optimizer repo](https://github.com/comet-ml/opik/tree/main/sdks/opik_optimizer) for additional examples using different algorithms."
      ]
    },
    {
      "cell_type": "code",
      "source": [
        "result.details[\"chat_messages\"]"
      ],
      "metadata": {
        "id": "eSp5XuC5NxZo",
        "outputId": "8b6e0188-e285-45c7-9543-11e49d0af26b",
        "colab": {
          "base_uri": "https://localhost:8080/"
        }
      },
      "execution_count": 25,
      "outputs": [
        {
          "output_type": "execute_result",
          "data": {
            "text/plain": [
              "[{'role': 'system',\n",
              "  'content': 'Provide an answer to the question\\n\\nYou are an intelligent assistant that learns from few-shot examples provided earlier in the conversation. Whenever you respond, carefully follow the structure, tone, and format of previous assistant replies, using them as a guide'},\n",
              " {'role': 'user',\n",
              "  'content': '\\n{\\n  \"question\": \"Who did Holly Dunn record \\\\\"Daddy\\'s Hands\\\\\" for?\"\\n}\\n'},\n",
              " {'role': 'assistant', 'content': 'MTM Records'},\n",
              " {'role': 'user',\n",
              "  'content': '\\n{\\n  \"question\": \"What musical instrument does Amaan Ali Khan and  Amjad Ali Khan both play?\"\\n}\\n'},\n",
              " {'role': 'assistant', 'content': 'the sarod'},\n",
              " {'role': 'user',\n",
              "  'content': '\\n{\\n  \"question\": \"Which has more people, Tumen, Jilin or Xiangcheng City?\"\\n}\\n'},\n",
              " {'role': 'assistant', 'content': 'Xiangcheng'},\n",
              " {'role': 'user',\n",
              "  'content': '\\n{\\n  \"question\": \"Are the bands Flow and Against the Current from the same country?\"\\n}\\n'},\n",
              " {'role': 'assistant', 'content': 'no'},\n",
              " {'role': 'user',\n",
              "  'content': '\\n{\\n  \"question\": \"What is the same of the city that  is the second largest city municipality in Italy and appeared in The 2010 Giro d\\'Italia?\"\\n}\\n'},\n",
              " {'role': 'assistant', 'content': 'Verona'},\n",
              " {'role': 'user',\n",
              "  'content': '\\n{\\n  \"question\": \"The designer of the Holy Trinity Church pioneered the use of what material in church building?\"\\n}\\n'},\n",
              " {'role': 'assistant', 'content': 'terracotta'},\n",
              " {'role': 'user',\n",
              "  'content': '\\n{\\n  \"question\": \"One Night in Istanbul stars a British actor and recording artist who is best known for his portrayal of Jonah Kirby on what BBC One drama?\"\\n}\\n'},\n",
              " {'role': 'assistant', 'content': 'Waterloo Road'},\n",
              " {'role': 'user',\n",
              "  'content': '\\n{\\n  \"question\": \"Which director; Joris Ivens and Lew Landers, was born in November?\"\\n}\\n'},\n",
              " {'role': 'assistant', 'content': '\"Joris\" Ivens (18 November 1898'},\n",
              " {'role': 'user', 'content': '{\"question\": \"{{question}}\"}'}]"
            ]
          },
          "metadata": {},
          "execution_count": 25
        }
      ]
    },
    {
      "cell_type": "code",
      "source": [],
      "metadata": {
        "id": "y9xMEhDXN1u8"
      },
      "execution_count": null,
      "outputs": []
    }
  ],
  "metadata": {
    "colab": {
      "provenance": []
    },
    "kernelspec": {
      "display_name": "Python 3",
      "name": "python3"
    },
    "language_info": {
      "codemirror_mode": {
        "name": "ipython",
        "version": 3
      },
      "file_extension": ".py",
      "mimetype": "text/x-python",
      "name": "python",
      "nbconvert_exporter": "python",
      "pygments_lexer": "ipython3",
      "version": "3.12.2"
    },
    "widgets": {
      "application/vnd.jupyter.widget-state+json": {
        "c6314576dbba447da98a2a326b93cf04": {
          "model_module": "@jupyter-widgets/controls",
          "model_name": "HBoxModel",
          "model_module_version": "1.5.0",
          "state": {
            "_dom_classes": [],
            "_model_module": "@jupyter-widgets/controls",
            "_model_module_version": "1.5.0",
            "_model_name": "HBoxModel",
            "_view_count": null,
            "_view_module": "@jupyter-widgets/controls",
            "_view_module_version": "1.5.0",
            "_view_name": "HBoxView",
            "box_style": "",
            "children": [
              "IPY_MODEL_2053c07af4a246cfb94bf8e0829d726c",
              "IPY_MODEL_f9ea24c78e8a40f98df3dfa8cf12aff7",
              "IPY_MODEL_f19893c4bf3b4728afb90eb7f4d40fe8"
            ],
            "layout": "IPY_MODEL_efc5f40b44724f26902e5ab6c683aade"
          }
        },
        "2053c07af4a246cfb94bf8e0829d726c": {
          "model_module": "@jupyter-widgets/controls",
          "model_name": "HTMLModel",
          "model_module_version": "1.5.0",
          "state": {
            "_dom_classes": [],
            "_model_module": "@jupyter-widgets/controls",
            "_model_module_version": "1.5.0",
            "_model_name": "HTMLModel",
            "_view_count": null,
            "_view_module": "@jupyter-widgets/controls",
            "_view_module_version": "1.5.0",
            "_view_name": "HTMLView",
            "description": "",
            "description_tooltip": null,
            "layout": "IPY_MODEL_5c7516ccf08c4986b48291981f78f4ce",
            "placeholder": "​",
            "style": "IPY_MODEL_edf489adfb81485abbdbff505b95ff20",
            "value": "Evaluation: 100%"
          }
        },
        "f9ea24c78e8a40f98df3dfa8cf12aff7": {
          "model_module": "@jupyter-widgets/controls",
          "model_name": "FloatProgressModel",
          "model_module_version": "1.5.0",
          "state": {
            "_dom_classes": [],
            "_model_module": "@jupyter-widgets/controls",
            "_model_module_version": "1.5.0",
            "_model_name": "FloatProgressModel",
            "_view_count": null,
            "_view_module": "@jupyter-widgets/controls",
            "_view_module_version": "1.5.0",
            "_view_name": "ProgressView",
            "bar_style": "success",
            "description": "",
            "description_tooltip": null,
            "layout": "IPY_MODEL_6d649b187a5148b8851bb3767298f4af",
            "max": 100,
            "min": 0,
            "orientation": "horizontal",
            "style": "IPY_MODEL_37183c8ef5cf4601b01c0ea0aed66f9d",
            "value": 100
          }
        },
        "f19893c4bf3b4728afb90eb7f4d40fe8": {
          "model_module": "@jupyter-widgets/controls",
          "model_name": "HTMLModel",
          "model_module_version": "1.5.0",
          "state": {
            "_dom_classes": [],
            "_model_module": "@jupyter-widgets/controls",
            "_model_module_version": "1.5.0",
            "_model_name": "HTMLModel",
            "_view_count": null,
            "_view_module": "@jupyter-widgets/controls",
            "_view_module_version": "1.5.0",
            "_view_name": "HTMLView",
            "description": "",
            "description_tooltip": null,
            "layout": "IPY_MODEL_85300891d0c943e5bd40d7ec644d4c21",
            "placeholder": "​",
            "style": "IPY_MODEL_bdeb920a51754e2285f334f51e1284f9",
            "value": " 100/100 [00:18&lt;00:00,  3.26it/s]"
          }
        },
        "efc5f40b44724f26902e5ab6c683aade": {
          "model_module": "@jupyter-widgets/base",
          "model_name": "LayoutModel",
          "model_module_version": "1.2.0",
          "state": {
            "_model_module": "@jupyter-widgets/base",
            "_model_module_version": "1.2.0",
            "_model_name": "LayoutModel",
            "_view_count": null,
            "_view_module": "@jupyter-widgets/base",
            "_view_module_version": "1.2.0",
            "_view_name": "LayoutView",
            "align_content": null,
            "align_items": null,
            "align_self": null,
            "border": null,
            "bottom": null,
            "display": null,
            "flex": null,
            "flex_flow": null,
            "grid_area": null,
            "grid_auto_columns": null,
            "grid_auto_flow": null,
            "grid_auto_rows": null,
            "grid_column": null,
            "grid_gap": null,
            "grid_row": null,
            "grid_template_areas": null,
            "grid_template_columns": null,
            "grid_template_rows": null,
            "height": null,
            "justify_content": null,
            "justify_items": null,
            "left": null,
            "margin": null,
            "max_height": null,
            "max_width": null,
            "min_height": null,
            "min_width": null,
            "object_fit": null,
            "object_position": null,
            "order": null,
            "overflow": null,
            "overflow_x": null,
            "overflow_y": null,
            "padding": null,
            "right": null,
            "top": null,
            "visibility": null,
            "width": null
          }
        },
        "5c7516ccf08c4986b48291981f78f4ce": {
          "model_module": "@jupyter-widgets/base",
          "model_name": "LayoutModel",
          "model_module_version": "1.2.0",
          "state": {
            "_model_module": "@jupyter-widgets/base",
            "_model_module_version": "1.2.0",
            "_model_name": "LayoutModel",
            "_view_count": null,
            "_view_module": "@jupyter-widgets/base",
            "_view_module_version": "1.2.0",
            "_view_name": "LayoutView",
            "align_content": null,
            "align_items": null,
            "align_self": null,
            "border": null,
            "bottom": null,
            "display": null,
            "flex": null,
            "flex_flow": null,
            "grid_area": null,
            "grid_auto_columns": null,
            "grid_auto_flow": null,
            "grid_auto_rows": null,
            "grid_column": null,
            "grid_gap": null,
            "grid_row": null,
            "grid_template_areas": null,
            "grid_template_columns": null,
            "grid_template_rows": null,
            "height": null,
            "justify_content": null,
            "justify_items": null,
            "left": null,
            "margin": null,
            "max_height": null,
            "max_width": null,
            "min_height": null,
            "min_width": null,
            "object_fit": null,
            "object_position": null,
            "order": null,
            "overflow": null,
            "overflow_x": null,
            "overflow_y": null,
            "padding": null,
            "right": null,
            "top": null,
            "visibility": null,
            "width": null
          }
        },
        "edf489adfb81485abbdbff505b95ff20": {
          "model_module": "@jupyter-widgets/controls",
          "model_name": "DescriptionStyleModel",
          "model_module_version": "1.5.0",
          "state": {
            "_model_module": "@jupyter-widgets/controls",
            "_model_module_version": "1.5.0",
            "_model_name": "DescriptionStyleModel",
            "_view_count": null,
            "_view_module": "@jupyter-widgets/base",
            "_view_module_version": "1.2.0",
            "_view_name": "StyleView",
            "description_width": ""
          }
        },
        "6d649b187a5148b8851bb3767298f4af": {
          "model_module": "@jupyter-widgets/base",
          "model_name": "LayoutModel",
          "model_module_version": "1.2.0",
          "state": {
            "_model_module": "@jupyter-widgets/base",
            "_model_module_version": "1.2.0",
            "_model_name": "LayoutModel",
            "_view_count": null,
            "_view_module": "@jupyter-widgets/base",
            "_view_module_version": "1.2.0",
            "_view_name": "LayoutView",
            "align_content": null,
            "align_items": null,
            "align_self": null,
            "border": null,
            "bottom": null,
            "display": null,
            "flex": null,
            "flex_flow": null,
            "grid_area": null,
            "grid_auto_columns": null,
            "grid_auto_flow": null,
            "grid_auto_rows": null,
            "grid_column": null,
            "grid_gap": null,
            "grid_row": null,
            "grid_template_areas": null,
            "grid_template_columns": null,
            "grid_template_rows": null,
            "height": null,
            "justify_content": null,
            "justify_items": null,
            "left": null,
            "margin": null,
            "max_height": null,
            "max_width": null,
            "min_height": null,
            "min_width": null,
            "object_fit": null,
            "object_position": null,
            "order": null,
            "overflow": null,
            "overflow_x": null,
            "overflow_y": null,
            "padding": null,
            "right": null,
            "top": null,
            "visibility": null,
            "width": null
          }
        },
        "37183c8ef5cf4601b01c0ea0aed66f9d": {
          "model_module": "@jupyter-widgets/controls",
          "model_name": "ProgressStyleModel",
          "model_module_version": "1.5.0",
          "state": {
            "_model_module": "@jupyter-widgets/controls",
            "_model_module_version": "1.5.0",
            "_model_name": "ProgressStyleModel",
            "_view_count": null,
            "_view_module": "@jupyter-widgets/base",
            "_view_module_version": "1.2.0",
            "_view_name": "StyleView",
            "bar_color": null,
            "description_width": ""
          }
        },
        "85300891d0c943e5bd40d7ec644d4c21": {
          "model_module": "@jupyter-widgets/base",
          "model_name": "LayoutModel",
          "model_module_version": "1.2.0",
          "state": {
            "_model_module": "@jupyter-widgets/base",
            "_model_module_version": "1.2.0",
            "_model_name": "LayoutModel",
            "_view_count": null,
            "_view_module": "@jupyter-widgets/base",
            "_view_module_version": "1.2.0",
            "_view_name": "LayoutView",
            "align_content": null,
            "align_items": null,
            "align_self": null,
            "border": null,
            "bottom": null,
            "display": null,
            "flex": null,
            "flex_flow": null,
            "grid_area": null,
            "grid_auto_columns": null,
            "grid_auto_flow": null,
            "grid_auto_rows": null,
            "grid_column": null,
            "grid_gap": null,
            "grid_row": null,
            "grid_template_areas": null,
            "grid_template_columns": null,
            "grid_template_rows": null,
            "height": null,
            "justify_content": null,
            "justify_items": null,
            "left": null,
            "margin": null,
            "max_height": null,
            "max_width": null,
            "min_height": null,
            "min_width": null,
            "object_fit": null,
            "object_position": null,
            "order": null,
            "overflow": null,
            "overflow_x": null,
            "overflow_y": null,
            "padding": null,
            "right": null,
            "top": null,
            "visibility": null,
            "width": null
          }
        },
        "bdeb920a51754e2285f334f51e1284f9": {
          "model_module": "@jupyter-widgets/controls",
          "model_name": "DescriptionStyleModel",
          "model_module_version": "1.5.0",
          "state": {
            "_model_module": "@jupyter-widgets/controls",
            "_model_module_version": "1.5.0",
            "_model_name": "DescriptionStyleModel",
            "_view_count": null,
            "_view_module": "@jupyter-widgets/base",
            "_view_module_version": "1.2.0",
            "_view_name": "StyleView",
            "description_width": ""
          }
        },
        "f1f8942fd1ca4b259086556840ba4a18": {
          "model_module": "@jupyter-widgets/controls",
          "model_name": "HBoxModel",
          "model_module_version": "1.5.0",
          "state": {
            "_dom_classes": [],
            "_model_module": "@jupyter-widgets/controls",
            "_model_module_version": "1.5.0",
            "_model_name": "HBoxModel",
            "_view_count": null,
            "_view_module": "@jupyter-widgets/controls",
            "_view_module_version": "1.5.0",
            "_view_name": "HBoxView",
            "box_style": "",
            "children": [
              "IPY_MODEL_f84d60335cb74cff80059afc2d284c4d",
              "IPY_MODEL_86ac6e50f9c54af99e4648bbf09f88bb",
              "IPY_MODEL_ea420689a7e1400db0282a1452322490"
            ],
            "layout": "IPY_MODEL_958fc529b8434b1db70c6f8aea4f0168"
          }
        },
        "f84d60335cb74cff80059afc2d284c4d": {
          "model_module": "@jupyter-widgets/controls",
          "model_name": "HTMLModel",
          "model_module_version": "1.5.0",
          "state": {
            "_dom_classes": [],
            "_model_module": "@jupyter-widgets/controls",
            "_model_module_version": "1.5.0",
            "_model_name": "HTMLModel",
            "_view_count": null,
            "_view_module": "@jupyter-widgets/controls",
            "_view_module_version": "1.5.0",
            "_view_name": "HTMLView",
            "description": "",
            "description_tooltip": null,
            "layout": "IPY_MODEL_499522a5fbc3428b880abc7aee37b213",
            "placeholder": "​",
            "style": "IPY_MODEL_ada053abb24044fdb457295e931f1cfa",
            "value": "Evaluation: 100%"
          }
        },
        "86ac6e50f9c54af99e4648bbf09f88bb": {
          "model_module": "@jupyter-widgets/controls",
          "model_name": "FloatProgressModel",
          "model_module_version": "1.5.0",
          "state": {
            "_dom_classes": [],
            "_model_module": "@jupyter-widgets/controls",
            "_model_module_version": "1.5.0",
            "_model_name": "FloatProgressModel",
            "_view_count": null,
            "_view_module": "@jupyter-widgets/controls",
            "_view_module_version": "1.5.0",
            "_view_name": "ProgressView",
            "bar_style": "success",
            "description": "",
            "description_tooltip": null,
            "layout": "IPY_MODEL_0601f2751f6e48239f64bbdce17c2f4e",
            "max": 100,
            "min": 0,
            "orientation": "horizontal",
            "style": "IPY_MODEL_0bf910b09f8a410c968d584fd770ad4e",
            "value": 100
          }
        },
        "ea420689a7e1400db0282a1452322490": {
          "model_module": "@jupyter-widgets/controls",
          "model_name": "HTMLModel",
          "model_module_version": "1.5.0",
          "state": {
            "_dom_classes": [],
            "_model_module": "@jupyter-widgets/controls",
            "_model_module_version": "1.5.0",
            "_model_name": "HTMLModel",
            "_view_count": null,
            "_view_module": "@jupyter-widgets/controls",
            "_view_module_version": "1.5.0",
            "_view_name": "HTMLView",
            "description": "",
            "description_tooltip": null,
            "layout": "IPY_MODEL_0364a174ee6341bbb23fa7100ad0d2d2",
            "placeholder": "​",
            "style": "IPY_MODEL_4cc3491d53b544a7bbd3321285b8f094",
            "value": " 100/100 [00:16&lt;00:00,  4.89it/s]"
          }
        },
        "958fc529b8434b1db70c6f8aea4f0168": {
          "model_module": "@jupyter-widgets/base",
          "model_name": "LayoutModel",
          "model_module_version": "1.2.0",
          "state": {
            "_model_module": "@jupyter-widgets/base",
            "_model_module_version": "1.2.0",
            "_model_name": "LayoutModel",
            "_view_count": null,
            "_view_module": "@jupyter-widgets/base",
            "_view_module_version": "1.2.0",
            "_view_name": "LayoutView",
            "align_content": null,
            "align_items": null,
            "align_self": null,
            "border": null,
            "bottom": null,
            "display": null,
            "flex": null,
            "flex_flow": null,
            "grid_area": null,
            "grid_auto_columns": null,
            "grid_auto_flow": null,
            "grid_auto_rows": null,
            "grid_column": null,
            "grid_gap": null,
            "grid_row": null,
            "grid_template_areas": null,
            "grid_template_columns": null,
            "grid_template_rows": null,
            "height": null,
            "justify_content": null,
            "justify_items": null,
            "left": null,
            "margin": null,
            "max_height": null,
            "max_width": null,
            "min_height": null,
            "min_width": null,
            "object_fit": null,
            "object_position": null,
            "order": null,
            "overflow": null,
            "overflow_x": null,
            "overflow_y": null,
            "padding": null,
            "right": null,
            "top": null,
            "visibility": null,
            "width": null
          }
        },
        "499522a5fbc3428b880abc7aee37b213": {
          "model_module": "@jupyter-widgets/base",
          "model_name": "LayoutModel",
          "model_module_version": "1.2.0",
          "state": {
            "_model_module": "@jupyter-widgets/base",
            "_model_module_version": "1.2.0",
            "_model_name": "LayoutModel",
            "_view_count": null,
            "_view_module": "@jupyter-widgets/base",
            "_view_module_version": "1.2.0",
            "_view_name": "LayoutView",
            "align_content": null,
            "align_items": null,
            "align_self": null,
            "border": null,
            "bottom": null,
            "display": null,
            "flex": null,
            "flex_flow": null,
            "grid_area": null,
            "grid_auto_columns": null,
            "grid_auto_flow": null,
            "grid_auto_rows": null,
            "grid_column": null,
            "grid_gap": null,
            "grid_row": null,
            "grid_template_areas": null,
            "grid_template_columns": null,
            "grid_template_rows": null,
            "height": null,
            "justify_content": null,
            "justify_items": null,
            "left": null,
            "margin": null,
            "max_height": null,
            "max_width": null,
            "min_height": null,
            "min_width": null,
            "object_fit": null,
            "object_position": null,
            "order": null,
            "overflow": null,
            "overflow_x": null,
            "overflow_y": null,
            "padding": null,
            "right": null,
            "top": null,
            "visibility": null,
            "width": null
          }
        },
        "ada053abb24044fdb457295e931f1cfa": {
          "model_module": "@jupyter-widgets/controls",
          "model_name": "DescriptionStyleModel",
          "model_module_version": "1.5.0",
          "state": {
            "_model_module": "@jupyter-widgets/controls",
            "_model_module_version": "1.5.0",
            "_model_name": "DescriptionStyleModel",
            "_view_count": null,
            "_view_module": "@jupyter-widgets/base",
            "_view_module_version": "1.2.0",
            "_view_name": "StyleView",
            "description_width": ""
          }
        },
        "0601f2751f6e48239f64bbdce17c2f4e": {
          "model_module": "@jupyter-widgets/base",
          "model_name": "LayoutModel",
          "model_module_version": "1.2.0",
          "state": {
            "_model_module": "@jupyter-widgets/base",
            "_model_module_version": "1.2.0",
            "_model_name": "LayoutModel",
            "_view_count": null,
            "_view_module": "@jupyter-widgets/base",
            "_view_module_version": "1.2.0",
            "_view_name": "LayoutView",
            "align_content": null,
            "align_items": null,
            "align_self": null,
            "border": null,
            "bottom": null,
            "display": null,
            "flex": null,
            "flex_flow": null,
            "grid_area": null,
            "grid_auto_columns": null,
            "grid_auto_flow": null,
            "grid_auto_rows": null,
            "grid_column": null,
            "grid_gap": null,
            "grid_row": null,
            "grid_template_areas": null,
            "grid_template_columns": null,
            "grid_template_rows": null,
            "height": null,
            "justify_content": null,
            "justify_items": null,
            "left": null,
            "margin": null,
            "max_height": null,
            "max_width": null,
            "min_height": null,
            "min_width": null,
            "object_fit": null,
            "object_position": null,
            "order": null,
            "overflow": null,
            "overflow_x": null,
            "overflow_y": null,
            "padding": null,
            "right": null,
            "top": null,
            "visibility": null,
            "width": null
          }
        },
        "0bf910b09f8a410c968d584fd770ad4e": {
          "model_module": "@jupyter-widgets/controls",
          "model_name": "ProgressStyleModel",
          "model_module_version": "1.5.0",
          "state": {
            "_model_module": "@jupyter-widgets/controls",
            "_model_module_version": "1.5.0",
            "_model_name": "ProgressStyleModel",
            "_view_count": null,
            "_view_module": "@jupyter-widgets/base",
            "_view_module_version": "1.2.0",
            "_view_name": "StyleView",
            "bar_color": null,
            "description_width": ""
          }
        },
        "0364a174ee6341bbb23fa7100ad0d2d2": {
          "model_module": "@jupyter-widgets/base",
          "model_name": "LayoutModel",
          "model_module_version": "1.2.0",
          "state": {
            "_model_module": "@jupyter-widgets/base",
            "_model_module_version": "1.2.0",
            "_model_name": "LayoutModel",
            "_view_count": null,
            "_view_module": "@jupyter-widgets/base",
            "_view_module_version": "1.2.0",
            "_view_name": "LayoutView",
            "align_content": null,
            "align_items": null,
            "align_self": null,
            "border": null,
            "bottom": null,
            "display": null,
            "flex": null,
            "flex_flow": null,
            "grid_area": null,
            "grid_auto_columns": null,
            "grid_auto_flow": null,
            "grid_auto_rows": null,
            "grid_column": null,
            "grid_gap": null,
            "grid_row": null,
            "grid_template_areas": null,
            "grid_template_columns": null,
            "grid_template_rows": null,
            "height": null,
            "justify_content": null,
            "justify_items": null,
            "left": null,
            "margin": null,
            "max_height": null,
            "max_width": null,
            "min_height": null,
            "min_width": null,
            "object_fit": null,
            "object_position": null,
            "order": null,
            "overflow": null,
            "overflow_x": null,
            "overflow_y": null,
            "padding": null,
            "right": null,
            "top": null,
            "visibility": null,
            "width": null
          }
        },
        "4cc3491d53b544a7bbd3321285b8f094": {
          "model_module": "@jupyter-widgets/controls",
          "model_name": "DescriptionStyleModel",
          "model_module_version": "1.5.0",
          "state": {
            "_model_module": "@jupyter-widgets/controls",
            "_model_module_version": "1.5.0",
            "_model_name": "DescriptionStyleModel",
            "_view_count": null,
            "_view_module": "@jupyter-widgets/base",
            "_view_module_version": "1.2.0",
            "_view_name": "StyleView",
            "description_width": ""
          }
        },
        "d31816c2dc004bbba36fddc48612ec52": {
          "model_module": "@jupyter-widgets/controls",
          "model_name": "HBoxModel",
          "model_module_version": "1.5.0",
          "state": {
            "_dom_classes": [],
            "_model_module": "@jupyter-widgets/controls",
            "_model_module_version": "1.5.0",
            "_model_name": "HBoxModel",
            "_view_count": null,
            "_view_module": "@jupyter-widgets/controls",
            "_view_module_version": "1.5.0",
            "_view_name": "HBoxView",
            "box_style": "",
            "children": [
              "IPY_MODEL_13b53d7c85be457b9c934e64be2248cf",
              "IPY_MODEL_742f061d4df04a73abe8d5e3b4043172",
              "IPY_MODEL_f28fcde86b3d4bf2899a89a0802bbebe"
            ],
            "layout": "IPY_MODEL_826a783ef6b24399897bf261aa18f348"
          }
        },
        "13b53d7c85be457b9c934e64be2248cf": {
          "model_module": "@jupyter-widgets/controls",
          "model_name": "HTMLModel",
          "model_module_version": "1.5.0",
          "state": {
            "_dom_classes": [],
            "_model_module": "@jupyter-widgets/controls",
            "_model_module_version": "1.5.0",
            "_model_name": "HTMLModel",
            "_view_count": null,
            "_view_module": "@jupyter-widgets/controls",
            "_view_module_version": "1.5.0",
            "_view_name": "HTMLView",
            "description": "",
            "description_tooltip": null,
            "layout": "IPY_MODEL_4382168a0e5b481cbb6f056b811487ce",
            "placeholder": "​",
            "style": "IPY_MODEL_8b352a5b2ef848a28abe206cce2c5070",
            "value": "Evaluation: 100%"
          }
        },
        "742f061d4df04a73abe8d5e3b4043172": {
          "model_module": "@jupyter-widgets/controls",
          "model_name": "FloatProgressModel",
          "model_module_version": "1.5.0",
          "state": {
            "_dom_classes": [],
            "_model_module": "@jupyter-widgets/controls",
            "_model_module_version": "1.5.0",
            "_model_name": "FloatProgressModel",
            "_view_count": null,
            "_view_module": "@jupyter-widgets/controls",
            "_view_module_version": "1.5.0",
            "_view_name": "ProgressView",
            "bar_style": "success",
            "description": "",
            "description_tooltip": null,
            "layout": "IPY_MODEL_58a944085b55468097aafde9ac658c05",
            "max": 100,
            "min": 0,
            "orientation": "horizontal",
            "style": "IPY_MODEL_c81dfd99993f411a902fde32f429f9d6",
            "value": 100
          }
        },
        "f28fcde86b3d4bf2899a89a0802bbebe": {
          "model_module": "@jupyter-widgets/controls",
          "model_name": "HTMLModel",
          "model_module_version": "1.5.0",
          "state": {
            "_dom_classes": [],
            "_model_module": "@jupyter-widgets/controls",
            "_model_module_version": "1.5.0",
            "_model_name": "HTMLModel",
            "_view_count": null,
            "_view_module": "@jupyter-widgets/controls",
            "_view_module_version": "1.5.0",
            "_view_name": "HTMLView",
            "description": "",
            "description_tooltip": null,
            "layout": "IPY_MODEL_63b6c03da8c54b07969b01d3d41a48f8",
            "placeholder": "​",
            "style": "IPY_MODEL_b17556afaa1245139e5fe80c1527e5de",
            "value": " 100/100 [00:08&lt;00:00,  5.14it/s]"
          }
        },
        "826a783ef6b24399897bf261aa18f348": {
          "model_module": "@jupyter-widgets/base",
          "model_name": "LayoutModel",
          "model_module_version": "1.2.0",
          "state": {
            "_model_module": "@jupyter-widgets/base",
            "_model_module_version": "1.2.0",
            "_model_name": "LayoutModel",
            "_view_count": null,
            "_view_module": "@jupyter-widgets/base",
            "_view_module_version": "1.2.0",
            "_view_name": "LayoutView",
            "align_content": null,
            "align_items": null,
            "align_self": null,
            "border": null,
            "bottom": null,
            "display": null,
            "flex": null,
            "flex_flow": null,
            "grid_area": null,
            "grid_auto_columns": null,
            "grid_auto_flow": null,
            "grid_auto_rows": null,
            "grid_column": null,
            "grid_gap": null,
            "grid_row": null,
            "grid_template_areas": null,
            "grid_template_columns": null,
            "grid_template_rows": null,
            "height": null,
            "justify_content": null,
            "justify_items": null,
            "left": null,
            "margin": null,
            "max_height": null,
            "max_width": null,
            "min_height": null,
            "min_width": null,
            "object_fit": null,
            "object_position": null,
            "order": null,
            "overflow": null,
            "overflow_x": null,
            "overflow_y": null,
            "padding": null,
            "right": null,
            "top": null,
            "visibility": null,
            "width": null
          }
        },
        "4382168a0e5b481cbb6f056b811487ce": {
          "model_module": "@jupyter-widgets/base",
          "model_name": "LayoutModel",
          "model_module_version": "1.2.0",
          "state": {
            "_model_module": "@jupyter-widgets/base",
            "_model_module_version": "1.2.0",
            "_model_name": "LayoutModel",
            "_view_count": null,
            "_view_module": "@jupyter-widgets/base",
            "_view_module_version": "1.2.0",
            "_view_name": "LayoutView",
            "align_content": null,
            "align_items": null,
            "align_self": null,
            "border": null,
            "bottom": null,
            "display": null,
            "flex": null,
            "flex_flow": null,
            "grid_area": null,
            "grid_auto_columns": null,
            "grid_auto_flow": null,
            "grid_auto_rows": null,
            "grid_column": null,
            "grid_gap": null,
            "grid_row": null,
            "grid_template_areas": null,
            "grid_template_columns": null,
            "grid_template_rows": null,
            "height": null,
            "justify_content": null,
            "justify_items": null,
            "left": null,
            "margin": null,
            "max_height": null,
            "max_width": null,
            "min_height": null,
            "min_width": null,
            "object_fit": null,
            "object_position": null,
            "order": null,
            "overflow": null,
            "overflow_x": null,
            "overflow_y": null,
            "padding": null,
            "right": null,
            "top": null,
            "visibility": null,
            "width": null
          }
        },
        "8b352a5b2ef848a28abe206cce2c5070": {
          "model_module": "@jupyter-widgets/controls",
          "model_name": "DescriptionStyleModel",
          "model_module_version": "1.5.0",
          "state": {
            "_model_module": "@jupyter-widgets/controls",
            "_model_module_version": "1.5.0",
            "_model_name": "DescriptionStyleModel",
            "_view_count": null,
            "_view_module": "@jupyter-widgets/base",
            "_view_module_version": "1.2.0",
            "_view_name": "StyleView",
            "description_width": ""
          }
        },
        "58a944085b55468097aafde9ac658c05": {
          "model_module": "@jupyter-widgets/base",
          "model_name": "LayoutModel",
          "model_module_version": "1.2.0",
          "state": {
            "_model_module": "@jupyter-widgets/base",
            "_model_module_version": "1.2.0",
            "_model_name": "LayoutModel",
            "_view_count": null,
            "_view_module": "@jupyter-widgets/base",
            "_view_module_version": "1.2.0",
            "_view_name": "LayoutView",
            "align_content": null,
            "align_items": null,
            "align_self": null,
            "border": null,
            "bottom": null,
            "display": null,
            "flex": null,
            "flex_flow": null,
            "grid_area": null,
            "grid_auto_columns": null,
            "grid_auto_flow": null,
            "grid_auto_rows": null,
            "grid_column": null,
            "grid_gap": null,
            "grid_row": null,
            "grid_template_areas": null,
            "grid_template_columns": null,
            "grid_template_rows": null,
            "height": null,
            "justify_content": null,
            "justify_items": null,
            "left": null,
            "margin": null,
            "max_height": null,
            "max_width": null,
            "min_height": null,
            "min_width": null,
            "object_fit": null,
            "object_position": null,
            "order": null,
            "overflow": null,
            "overflow_x": null,
            "overflow_y": null,
            "padding": null,
            "right": null,
            "top": null,
            "visibility": null,
            "width": null
          }
        },
        "c81dfd99993f411a902fde32f429f9d6": {
          "model_module": "@jupyter-widgets/controls",
          "model_name": "ProgressStyleModel",
          "model_module_version": "1.5.0",
          "state": {
            "_model_module": "@jupyter-widgets/controls",
            "_model_module_version": "1.5.0",
            "_model_name": "ProgressStyleModel",
            "_view_count": null,
            "_view_module": "@jupyter-widgets/base",
            "_view_module_version": "1.2.0",
            "_view_name": "StyleView",
            "bar_color": null,
            "description_width": ""
          }
        },
        "63b6c03da8c54b07969b01d3d41a48f8": {
          "model_module": "@jupyter-widgets/base",
          "model_name": "LayoutModel",
          "model_module_version": "1.2.0",
          "state": {
            "_model_module": "@jupyter-widgets/base",
            "_model_module_version": "1.2.0",
            "_model_name": "LayoutModel",
            "_view_count": null,
            "_view_module": "@jupyter-widgets/base",
            "_view_module_version": "1.2.0",
            "_view_name": "LayoutView",
            "align_content": null,
            "align_items": null,
            "align_self": null,
            "border": null,
            "bottom": null,
            "display": null,
            "flex": null,
            "flex_flow": null,
            "grid_area": null,
            "grid_auto_columns": null,
            "grid_auto_flow": null,
            "grid_auto_rows": null,
            "grid_column": null,
            "grid_gap": null,
            "grid_row": null,
            "grid_template_areas": null,
            "grid_template_columns": null,
            "grid_template_rows": null,
            "height": null,
            "justify_content": null,
            "justify_items": null,
            "left": null,
            "margin": null,
            "max_height": null,
            "max_width": null,
            "min_height": null,
            "min_width": null,
            "object_fit": null,
            "object_position": null,
            "order": null,
            "overflow": null,
            "overflow_x": null,
            "overflow_y": null,
            "padding": null,
            "right": null,
            "top": null,
            "visibility": null,
            "width": null
          }
        },
        "b17556afaa1245139e5fe80c1527e5de": {
          "model_module": "@jupyter-widgets/controls",
          "model_name": "DescriptionStyleModel",
          "model_module_version": "1.5.0",
          "state": {
            "_model_module": "@jupyter-widgets/controls",
            "_model_module_version": "1.5.0",
            "_model_name": "DescriptionStyleModel",
            "_view_count": null,
            "_view_module": "@jupyter-widgets/base",
            "_view_module_version": "1.2.0",
            "_view_name": "StyleView",
            "description_width": ""
          }
        },
        "d2aab6f915ab4a72a5d4a38d501369f5": {
          "model_module": "@jupyter-widgets/controls",
          "model_name": "HBoxModel",
          "model_module_version": "1.5.0",
          "state": {
            "_dom_classes": [],
            "_model_module": "@jupyter-widgets/controls",
            "_model_module_version": "1.5.0",
            "_model_name": "HBoxModel",
            "_view_count": null,
            "_view_module": "@jupyter-widgets/controls",
            "_view_module_version": "1.5.0",
            "_view_name": "HBoxView",
            "box_style": "",
            "children": [
              "IPY_MODEL_6ad9337d79e843f7970654df307da753",
              "IPY_MODEL_21e7713a146e49e5abf47eaeeb3a1fa3",
              "IPY_MODEL_18e0eedd49874b3b850f850f2c6fb8d4"
            ],
            "layout": "IPY_MODEL_e2f3b7c63bb545c2b4047eb1ad2365e0"
          }
        },
        "6ad9337d79e843f7970654df307da753": {
          "model_module": "@jupyter-widgets/controls",
          "model_name": "HTMLModel",
          "model_module_version": "1.5.0",
          "state": {
            "_dom_classes": [],
            "_model_module": "@jupyter-widgets/controls",
            "_model_module_version": "1.5.0",
            "_model_name": "HTMLModel",
            "_view_count": null,
            "_view_module": "@jupyter-widgets/controls",
            "_view_module_version": "1.5.0",
            "_view_name": "HTMLView",
            "description": "",
            "description_tooltip": null,
            "layout": "IPY_MODEL_03c469fc1cc640cf8aead8212f59a4b5",
            "placeholder": "​",
            "style": "IPY_MODEL_0668d212c9ff4b678a86286959df5536",
            "value": "Evaluation: 100%"
          }
        },
        "21e7713a146e49e5abf47eaeeb3a1fa3": {
          "model_module": "@jupyter-widgets/controls",
          "model_name": "FloatProgressModel",
          "model_module_version": "1.5.0",
          "state": {
            "_dom_classes": [],
            "_model_module": "@jupyter-widgets/controls",
            "_model_module_version": "1.5.0",
            "_model_name": "FloatProgressModel",
            "_view_count": null,
            "_view_module": "@jupyter-widgets/controls",
            "_view_module_version": "1.5.0",
            "_view_name": "ProgressView",
            "bar_style": "success",
            "description": "",
            "description_tooltip": null,
            "layout": "IPY_MODEL_b0c6e5bb4084436993cfbc13a4fc0cb6",
            "max": 100,
            "min": 0,
            "orientation": "horizontal",
            "style": "IPY_MODEL_a7d33aa96a5a4c0e994b5ada4c984b1e",
            "value": 100
          }
        },
        "18e0eedd49874b3b850f850f2c6fb8d4": {
          "model_module": "@jupyter-widgets/controls",
          "model_name": "HTMLModel",
          "model_module_version": "1.5.0",
          "state": {
            "_dom_classes": [],
            "_model_module": "@jupyter-widgets/controls",
            "_model_module_version": "1.5.0",
            "_model_name": "HTMLModel",
            "_view_count": null,
            "_view_module": "@jupyter-widgets/controls",
            "_view_module_version": "1.5.0",
            "_view_name": "HTMLView",
            "description": "",
            "description_tooltip": null,
            "layout": "IPY_MODEL_c816d8d78c9c4a679a0f8af3fd29d2a4",
            "placeholder": "​",
            "style": "IPY_MODEL_16cb5b63602142dcbaa0ecf411afb726",
            "value": " 100/100 [00:11&lt;00:00,  4.38it/s]"
          }
        },
        "e2f3b7c63bb545c2b4047eb1ad2365e0": {
          "model_module": "@jupyter-widgets/base",
          "model_name": "LayoutModel",
          "model_module_version": "1.2.0",
          "state": {
            "_model_module": "@jupyter-widgets/base",
            "_model_module_version": "1.2.0",
            "_model_name": "LayoutModel",
            "_view_count": null,
            "_view_module": "@jupyter-widgets/base",
            "_view_module_version": "1.2.0",
            "_view_name": "LayoutView",
            "align_content": null,
            "align_items": null,
            "align_self": null,
            "border": null,
            "bottom": null,
            "display": null,
            "flex": null,
            "flex_flow": null,
            "grid_area": null,
            "grid_auto_columns": null,
            "grid_auto_flow": null,
            "grid_auto_rows": null,
            "grid_column": null,
            "grid_gap": null,
            "grid_row": null,
            "grid_template_areas": null,
            "grid_template_columns": null,
            "grid_template_rows": null,
            "height": null,
            "justify_content": null,
            "justify_items": null,
            "left": null,
            "margin": null,
            "max_height": null,
            "max_width": null,
            "min_height": null,
            "min_width": null,
            "object_fit": null,
            "object_position": null,
            "order": null,
            "overflow": null,
            "overflow_x": null,
            "overflow_y": null,
            "padding": null,
            "right": null,
            "top": null,
            "visibility": null,
            "width": null
          }
        },
        "03c469fc1cc640cf8aead8212f59a4b5": {
          "model_module": "@jupyter-widgets/base",
          "model_name": "LayoutModel",
          "model_module_version": "1.2.0",
          "state": {
            "_model_module": "@jupyter-widgets/base",
            "_model_module_version": "1.2.0",
            "_model_name": "LayoutModel",
            "_view_count": null,
            "_view_module": "@jupyter-widgets/base",
            "_view_module_version": "1.2.0",
            "_view_name": "LayoutView",
            "align_content": null,
            "align_items": null,
            "align_self": null,
            "border": null,
            "bottom": null,
            "display": null,
            "flex": null,
            "flex_flow": null,
            "grid_area": null,
            "grid_auto_columns": null,
            "grid_auto_flow": null,
            "grid_auto_rows": null,
            "grid_column": null,
            "grid_gap": null,
            "grid_row": null,
            "grid_template_areas": null,
            "grid_template_columns": null,
            "grid_template_rows": null,
            "height": null,
            "justify_content": null,
            "justify_items": null,
            "left": null,
            "margin": null,
            "max_height": null,
            "max_width": null,
            "min_height": null,
            "min_width": null,
            "object_fit": null,
            "object_position": null,
            "order": null,
            "overflow": null,
            "overflow_x": null,
            "overflow_y": null,
            "padding": null,
            "right": null,
            "top": null,
            "visibility": null,
            "width": null
          }
        },
        "0668d212c9ff4b678a86286959df5536": {
          "model_module": "@jupyter-widgets/controls",
          "model_name": "DescriptionStyleModel",
          "model_module_version": "1.5.0",
          "state": {
            "_model_module": "@jupyter-widgets/controls",
            "_model_module_version": "1.5.0",
            "_model_name": "DescriptionStyleModel",
            "_view_count": null,
            "_view_module": "@jupyter-widgets/base",
            "_view_module_version": "1.2.0",
            "_view_name": "StyleView",
            "description_width": ""
          }
        },
        "b0c6e5bb4084436993cfbc13a4fc0cb6": {
          "model_module": "@jupyter-widgets/base",
          "model_name": "LayoutModel",
          "model_module_version": "1.2.0",
          "state": {
            "_model_module": "@jupyter-widgets/base",
            "_model_module_version": "1.2.0",
            "_model_name": "LayoutModel",
            "_view_count": null,
            "_view_module": "@jupyter-widgets/base",
            "_view_module_version": "1.2.0",
            "_view_name": "LayoutView",
            "align_content": null,
            "align_items": null,
            "align_self": null,
            "border": null,
            "bottom": null,
            "display": null,
            "flex": null,
            "flex_flow": null,
            "grid_area": null,
            "grid_auto_columns": null,
            "grid_auto_flow": null,
            "grid_auto_rows": null,
            "grid_column": null,
            "grid_gap": null,
            "grid_row": null,
            "grid_template_areas": null,
            "grid_template_columns": null,
            "grid_template_rows": null,
            "height": null,
            "justify_content": null,
            "justify_items": null,
            "left": null,
            "margin": null,
            "max_height": null,
            "max_width": null,
            "min_height": null,
            "min_width": null,
            "object_fit": null,
            "object_position": null,
            "order": null,
            "overflow": null,
            "overflow_x": null,
            "overflow_y": null,
            "padding": null,
            "right": null,
            "top": null,
            "visibility": null,
            "width": null
          }
        },
        "a7d33aa96a5a4c0e994b5ada4c984b1e": {
          "model_module": "@jupyter-widgets/controls",
          "model_name": "ProgressStyleModel",
          "model_module_version": "1.5.0",
          "state": {
            "_model_module": "@jupyter-widgets/controls",
            "_model_module_version": "1.5.0",
            "_model_name": "ProgressStyleModel",
            "_view_count": null,
            "_view_module": "@jupyter-widgets/base",
            "_view_module_version": "1.2.0",
            "_view_name": "StyleView",
            "bar_color": null,
            "description_width": ""
          }
        },
        "c816d8d78c9c4a679a0f8af3fd29d2a4": {
          "model_module": "@jupyter-widgets/base",
          "model_name": "LayoutModel",
          "model_module_version": "1.2.0",
          "state": {
            "_model_module": "@jupyter-widgets/base",
            "_model_module_version": "1.2.0",
            "_model_name": "LayoutModel",
            "_view_count": null,
            "_view_module": "@jupyter-widgets/base",
            "_view_module_version": "1.2.0",
            "_view_name": "LayoutView",
            "align_content": null,
            "align_items": null,
            "align_self": null,
            "border": null,
            "bottom": null,
            "display": null,
            "flex": null,
            "flex_flow": null,
            "grid_area": null,
            "grid_auto_columns": null,
            "grid_auto_flow": null,
            "grid_auto_rows": null,
            "grid_column": null,
            "grid_gap": null,
            "grid_row": null,
            "grid_template_areas": null,
            "grid_template_columns": null,
            "grid_template_rows": null,
            "height": null,
            "justify_content": null,
            "justify_items": null,
            "left": null,
            "margin": null,
            "max_height": null,
            "max_width": null,
            "min_height": null,
            "min_width": null,
            "object_fit": null,
            "object_position": null,
            "order": null,
            "overflow": null,
            "overflow_x": null,
            "overflow_y": null,
            "padding": null,
            "right": null,
            "top": null,
            "visibility": null,
            "width": null
          }
        },
        "16cb5b63602142dcbaa0ecf411afb726": {
          "model_module": "@jupyter-widgets/controls",
          "model_name": "DescriptionStyleModel",
          "model_module_version": "1.5.0",
          "state": {
            "_model_module": "@jupyter-widgets/controls",
            "_model_module_version": "1.5.0",
            "_model_name": "DescriptionStyleModel",
            "_view_count": null,
            "_view_module": "@jupyter-widgets/base",
            "_view_module_version": "1.2.0",
            "_view_name": "StyleView",
            "description_width": ""
          }
        },
        "b28b703d4e0942b6a6791aa125a8bef0": {
          "model_module": "@jupyter-widgets/controls",
          "model_name": "HBoxModel",
          "model_module_version": "1.5.0",
          "state": {
            "_dom_classes": [],
            "_model_module": "@jupyter-widgets/controls",
            "_model_module_version": "1.5.0",
            "_model_name": "HBoxModel",
            "_view_count": null,
            "_view_module": "@jupyter-widgets/controls",
            "_view_module_version": "1.5.0",
            "_view_name": "HBoxView",
            "box_style": "",
            "children": [
              "IPY_MODEL_3b5ec20f7fa4401abf81e0ca9e5628f2",
              "IPY_MODEL_89cb51fc76924c24b589928e51cafc2c",
              "IPY_MODEL_af9766e865824bfc8c330a1116a226af"
            ],
            "layout": "IPY_MODEL_821b0f9eb09345d4be638294bfe2d645"
          }
        },
        "3b5ec20f7fa4401abf81e0ca9e5628f2": {
          "model_module": "@jupyter-widgets/controls",
          "model_name": "HTMLModel",
          "model_module_version": "1.5.0",
          "state": {
            "_dom_classes": [],
            "_model_module": "@jupyter-widgets/controls",
            "_model_module_version": "1.5.0",
            "_model_name": "HTMLModel",
            "_view_count": null,
            "_view_module": "@jupyter-widgets/controls",
            "_view_module_version": "1.5.0",
            "_view_name": "HTMLView",
            "description": "",
            "description_tooltip": null,
            "layout": "IPY_MODEL_1785f1ee71e940bfa66f2bdf7a45d8be",
            "placeholder": "​",
            "style": "IPY_MODEL_12052c995d6a40dabfdf0e2a8ed6ef39",
            "value": "Evaluation: 100%"
          }
        },
        "89cb51fc76924c24b589928e51cafc2c": {
          "model_module": "@jupyter-widgets/controls",
          "model_name": "FloatProgressModel",
          "model_module_version": "1.5.0",
          "state": {
            "_dom_classes": [],
            "_model_module": "@jupyter-widgets/controls",
            "_model_module_version": "1.5.0",
            "_model_name": "FloatProgressModel",
            "_view_count": null,
            "_view_module": "@jupyter-widgets/controls",
            "_view_module_version": "1.5.0",
            "_view_name": "ProgressView",
            "bar_style": "success",
            "description": "",
            "description_tooltip": null,
            "layout": "IPY_MODEL_e6505280266b43b6bdd67bf3e032309e",
            "max": 100,
            "min": 0,
            "orientation": "horizontal",
            "style": "IPY_MODEL_cc1e7c78f966429392d09e128bbc12a0",
            "value": 100
          }
        },
        "af9766e865824bfc8c330a1116a226af": {
          "model_module": "@jupyter-widgets/controls",
          "model_name": "HTMLModel",
          "model_module_version": "1.5.0",
          "state": {
            "_dom_classes": [],
            "_model_module": "@jupyter-widgets/controls",
            "_model_module_version": "1.5.0",
            "_model_name": "HTMLModel",
            "_view_count": null,
            "_view_module": "@jupyter-widgets/controls",
            "_view_module_version": "1.5.0",
            "_view_name": "HTMLView",
            "description": "",
            "description_tooltip": null,
            "layout": "IPY_MODEL_28e03479a6ae44018c102e395c81c6a6",
            "placeholder": "​",
            "style": "IPY_MODEL_1100c63b5f174748aa57fe383168b395",
            "value": " 100/100 [00:11&lt;00:00,  8.56it/s]"
          }
        },
        "821b0f9eb09345d4be638294bfe2d645": {
          "model_module": "@jupyter-widgets/base",
          "model_name": "LayoutModel",
          "model_module_version": "1.2.0",
          "state": {
            "_model_module": "@jupyter-widgets/base",
            "_model_module_version": "1.2.0",
            "_model_name": "LayoutModel",
            "_view_count": null,
            "_view_module": "@jupyter-widgets/base",
            "_view_module_version": "1.2.0",
            "_view_name": "LayoutView",
            "align_content": null,
            "align_items": null,
            "align_self": null,
            "border": null,
            "bottom": null,
            "display": null,
            "flex": null,
            "flex_flow": null,
            "grid_area": null,
            "grid_auto_columns": null,
            "grid_auto_flow": null,
            "grid_auto_rows": null,
            "grid_column": null,
            "grid_gap": null,
            "grid_row": null,
            "grid_template_areas": null,
            "grid_template_columns": null,
            "grid_template_rows": null,
            "height": null,
            "justify_content": null,
            "justify_items": null,
            "left": null,
            "margin": null,
            "max_height": null,
            "max_width": null,
            "min_height": null,
            "min_width": null,
            "object_fit": null,
            "object_position": null,
            "order": null,
            "overflow": null,
            "overflow_x": null,
            "overflow_y": null,
            "padding": null,
            "right": null,
            "top": null,
            "visibility": null,
            "width": null
          }
        },
        "1785f1ee71e940bfa66f2bdf7a45d8be": {
          "model_module": "@jupyter-widgets/base",
          "model_name": "LayoutModel",
          "model_module_version": "1.2.0",
          "state": {
            "_model_module": "@jupyter-widgets/base",
            "_model_module_version": "1.2.0",
            "_model_name": "LayoutModel",
            "_view_count": null,
            "_view_module": "@jupyter-widgets/base",
            "_view_module_version": "1.2.0",
            "_view_name": "LayoutView",
            "align_content": null,
            "align_items": null,
            "align_self": null,
            "border": null,
            "bottom": null,
            "display": null,
            "flex": null,
            "flex_flow": null,
            "grid_area": null,
            "grid_auto_columns": null,
            "grid_auto_flow": null,
            "grid_auto_rows": null,
            "grid_column": null,
            "grid_gap": null,
            "grid_row": null,
            "grid_template_areas": null,
            "grid_template_columns": null,
            "grid_template_rows": null,
            "height": null,
            "justify_content": null,
            "justify_items": null,
            "left": null,
            "margin": null,
            "max_height": null,
            "max_width": null,
            "min_height": null,
            "min_width": null,
            "object_fit": null,
            "object_position": null,
            "order": null,
            "overflow": null,
            "overflow_x": null,
            "overflow_y": null,
            "padding": null,
            "right": null,
            "top": null,
            "visibility": null,
            "width": null
          }
        },
        "12052c995d6a40dabfdf0e2a8ed6ef39": {
          "model_module": "@jupyter-widgets/controls",
          "model_name": "DescriptionStyleModel",
          "model_module_version": "1.5.0",
          "state": {
            "_model_module": "@jupyter-widgets/controls",
            "_model_module_version": "1.5.0",
            "_model_name": "DescriptionStyleModel",
            "_view_count": null,
            "_view_module": "@jupyter-widgets/base",
            "_view_module_version": "1.2.0",
            "_view_name": "StyleView",
            "description_width": ""
          }
        },
        "e6505280266b43b6bdd67bf3e032309e": {
          "model_module": "@jupyter-widgets/base",
          "model_name": "LayoutModel",
          "model_module_version": "1.2.0",
          "state": {
            "_model_module": "@jupyter-widgets/base",
            "_model_module_version": "1.2.0",
            "_model_name": "LayoutModel",
            "_view_count": null,
            "_view_module": "@jupyter-widgets/base",
            "_view_module_version": "1.2.0",
            "_view_name": "LayoutView",
            "align_content": null,
            "align_items": null,
            "align_self": null,
            "border": null,
            "bottom": null,
            "display": null,
            "flex": null,
            "flex_flow": null,
            "grid_area": null,
            "grid_auto_columns": null,
            "grid_auto_flow": null,
            "grid_auto_rows": null,
            "grid_column": null,
            "grid_gap": null,
            "grid_row": null,
            "grid_template_areas": null,
            "grid_template_columns": null,
            "grid_template_rows": null,
            "height": null,
            "justify_content": null,
            "justify_items": null,
            "left": null,
            "margin": null,
            "max_height": null,
            "max_width": null,
            "min_height": null,
            "min_width": null,
            "object_fit": null,
            "object_position": null,
            "order": null,
            "overflow": null,
            "overflow_x": null,
            "overflow_y": null,
            "padding": null,
            "right": null,
            "top": null,
            "visibility": null,
            "width": null
          }
        },
        "cc1e7c78f966429392d09e128bbc12a0": {
          "model_module": "@jupyter-widgets/controls",
          "model_name": "ProgressStyleModel",
          "model_module_version": "1.5.0",
          "state": {
            "_model_module": "@jupyter-widgets/controls",
            "_model_module_version": "1.5.0",
            "_model_name": "ProgressStyleModel",
            "_view_count": null,
            "_view_module": "@jupyter-widgets/base",
            "_view_module_version": "1.2.0",
            "_view_name": "StyleView",
            "bar_color": null,
            "description_width": ""
          }
        },
        "28e03479a6ae44018c102e395c81c6a6": {
          "model_module": "@jupyter-widgets/base",
          "model_name": "LayoutModel",
          "model_module_version": "1.2.0",
          "state": {
            "_model_module": "@jupyter-widgets/base",
            "_model_module_version": "1.2.0",
            "_model_name": "LayoutModel",
            "_view_count": null,
            "_view_module": "@jupyter-widgets/base",
            "_view_module_version": "1.2.0",
            "_view_name": "LayoutView",
            "align_content": null,
            "align_items": null,
            "align_self": null,
            "border": null,
            "bottom": null,
            "display": null,
            "flex": null,
            "flex_flow": null,
            "grid_area": null,
            "grid_auto_columns": null,
            "grid_auto_flow": null,
            "grid_auto_rows": null,
            "grid_column": null,
            "grid_gap": null,
            "grid_row": null,
            "grid_template_areas": null,
            "grid_template_columns": null,
            "grid_template_rows": null,
            "height": null,
            "justify_content": null,
            "justify_items": null,
            "left": null,
            "margin": null,
            "max_height": null,
            "max_width": null,
            "min_height": null,
            "min_width": null,
            "object_fit": null,
            "object_position": null,
            "order": null,
            "overflow": null,
            "overflow_x": null,
            "overflow_y": null,
            "padding": null,
            "right": null,
            "top": null,
            "visibility": null,
            "width": null
          }
        },
        "1100c63b5f174748aa57fe383168b395": {
          "model_module": "@jupyter-widgets/controls",
          "model_name": "DescriptionStyleModel",
          "model_module_version": "1.5.0",
          "state": {
            "_model_module": "@jupyter-widgets/controls",
            "_model_module_version": "1.5.0",
            "_model_name": "DescriptionStyleModel",
            "_view_count": null,
            "_view_module": "@jupyter-widgets/base",
            "_view_module_version": "1.2.0",
            "_view_name": "StyleView",
            "description_width": ""
          }
        }
      }
    }
  },
  "nbformat": 4,
  "nbformat_minor": 0
}