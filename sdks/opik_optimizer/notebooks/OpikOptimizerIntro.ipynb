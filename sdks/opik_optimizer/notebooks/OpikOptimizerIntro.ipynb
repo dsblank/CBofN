{
  "cells": [
    {
      "cell_type": "markdown",
      "metadata": {
        "id": "LbN7qkaDs-gS"
      },
      "source": [
        "# Opik Optimizer (beta)\n",
        "\n",
        "Welcome to the Opik Opitimizer beta program! In this notebook we'll walk through a basic examples of a number of an optimizer algorithm.\n",
        "\n",
        "## Setup\n",
        "\n",
        "First, let's install the needed Python packages.\n",
        "\n",
        "We only need one package, `opik-optimizer`:"
      ]
    },
    {
      "cell_type": "code",
      "execution_count": 1,
      "metadata": {
        "id": "dHLhruvis8ti"
      },
      "outputs": [],
      "source": [
        "%%capture\n",
        "%pip install git+https://github.com/comet-ml/opik#subdirectory=sdks/opik_optimizer --upgrade"
      ]
    },
    {
      "cell_type": "markdown",
      "metadata": {
        "id": "L-n8gjG45B1c"
      },
      "source": [
        "Next, we'll install the beta version of the `opik-optimizer`:"
      ]
    },
    {
      "cell_type": "markdown",
      "metadata": {
        "id": "hNtXvK2Kt3GE"
      },
      "source": [
        "[Comet](https://www.comet.com/site?from=llm&utm_source=opik) provides a hosted version of the Opik platform, [simply create an account](https://www.comet.com/signup?from=llm&utm_source=opik&utm_medium=colab&utm_content=langchain&utm_campaign=opik) and grab your API Key.\n",
        "\n",
        "> You can also run the Opik platform locally, see the [installation guide](https://www.comet.com/docs/opik/self-host/overview/?from=llm&utm_source=opik) for more information.\n",
        "\n",
        "You can use your own workspace."
      ]
    },
    {
      "cell_type": "code",
      "execution_count": 2,
      "metadata": {
        "colab": {
          "base_uri": "https://localhost:8080/"
        },
        "id": "8-mkTrf9vHXk",
        "outputId": "bf45ceb8-a4e9-476d-93dd-a10d887fa26d"
      },
      "outputs": [
        {
          "output_type": "stream",
          "name": "stderr",
          "text": [
            "OPIK: Your Opik API key is available in your account settings, can be found at https://www.comet.com/api/my/settings/ for Opik cloud\n"
          ]
        },
        {
          "name": "stdout",
          "output_type": "stream",
          "text": [
            "Please enter your Opik API key:··········\n",
            "Do you want to use \"dsblank\" workspace? (Y/n)y\n"
          ]
        },
        {
          "output_type": "stream",
          "name": "stderr",
          "text": [
            "OPIK: Configuration saved to file: /root/.opik.config\n"
          ]
        }
      ],
      "source": [
        "import opik\n",
        "\n",
        "# Configure Opik\n",
        "opik.configure()"
      ]
    },
    {
      "cell_type": "markdown",
      "metadata": {
        "id": "kLSeOY24vWfS"
      },
      "source": [
        "For this example, we'll use OpenAI models, so we need to set our OpenAI API key:"
      ]
    },
    {
      "cell_type": "code",
      "execution_count": 3,
      "metadata": {
        "colab": {
          "base_uri": "https://localhost:8080/"
        },
        "id": "Pf2IJP2Z28P5",
        "outputId": "38626b0b-a732-4f5e-fd20-63839e094b1b"
      },
      "outputs": [
        {
          "name": "stdout",
          "output_type": "stream",
          "text": [
            "Enter your OpenAI API key: ··········\n"
          ]
        }
      ],
      "source": [
        "import os\n",
        "import getpass\n",
        "if \"OPENAI_API_KEY\" not in os.environ:\n",
        "    os.environ[\"OPENAI_API_KEY\"] = getpass.getpass(\"Enter your OpenAI API key: \")"
      ]
    },
    {
      "cell_type": "markdown",
      "metadata": {
        "id": "NSj91yEMvqHi"
      },
      "source": [
        "To optimize any prompt, we'll need:\n",
        "\n",
        "1. A starting prompt\n",
        "2. A metric\n",
        "3. A dataset\n",
        "\n",
        "For this initial test, we'll start with a portion of the HotpotQA dataset.\n",
        "\n",
        "HotpotQA is a question/answering dataset featuring natural questions, with correct answers. It was collected by a team of NLP researchers at Carnegie Mellon University, Stanford University, and Université de Montréal.\n",
        "\n",
        "Let's take a look at the demo dataset \"hotpot-300\".\n",
        "\n",
        "First, we get or create it. This will add it to our default Opik project:"
      ]
    },
    {
      "cell_type": "code",
      "execution_count": 4,
      "metadata": {
        "id": "Rvg_dl5MwmwO"
      },
      "outputs": [],
      "source": [
        "from opik_optimizer.demo import get_or_create_dataset\n",
        "from opik_optimizer.demo.cache import get_litellm_cache\n",
        "\n",
        "\n",
        "opik_dataset = get_or_create_dataset(\"hotpot-300\")\n",
        "get_litellm_cache(\"test\")"
      ]
    },
    {
      "cell_type": "markdown",
      "metadata": {
        "id": "n8mwHiP_xfNi"
      },
      "source": [
        "Let's look at a specific row from the dataset:"
      ]
    },
    {
      "cell_type": "code",
      "execution_count": 5,
      "metadata": {
        "colab": {
          "base_uri": "https://localhost:8080/"
        },
        "id": "v5la3y6Kw00C",
        "outputId": "178272c5-437f-4bc1-e4c6-13ce0aff943c"
      },
      "outputs": [
        {
          "output_type": "execute_result",
          "data": {
            "text/plain": [
              "{'id': '0195d400-517b-7f17-b746-ff3d084463ac',\n",
              " 'question': 'Were both drinks, the Smoking Bishop and the Mickey Slim, popular in different countries?',\n",
              " 'answer': 'yes'}"
            ]
          },
          "metadata": {},
          "execution_count": 5
        }
      ],
      "source": [
        "rows = opik_dataset.get_items()\n",
        "rows[0]"
      ]
    },
    {
      "cell_type": "markdown",
      "metadata": {
        "id": "dc7GqXTlxmnS"
      },
      "source": [
        "We see that each item has a \"question\" and \"answer\". Some of the answers are short and direct, and some of them are more complicated:"
      ]
    },
    {
      "cell_type": "code",
      "execution_count": 6,
      "metadata": {
        "colab": {
          "base_uri": "https://localhost:8080/"
        },
        "id": "VOU4GVxkxF9D",
        "outputId": "0a60d653-f116-42df-9643-6ecad3673e66"
      },
      "outputs": [
        {
          "output_type": "execute_result",
          "data": {
            "text/plain": [
              "{'id': '0195d400-5179-7259-8104-1f0a55a13ac2',\n",
              " 'question': 'Woody Wuthrie wrote the song \"Do Re Mi\" which was about migrants and their experiences when they arrive in California and are greeted with severe storms that came in waves in what years?',\n",
              " 'answer': '1934, 1936, and 1939–1940'}"
            ]
          },
          "metadata": {},
          "execution_count": 6
        }
      ],
      "source": [
        "rows[2]"
      ]
    },
    {
      "cell_type": "markdown",
      "metadata": {
        "id": "cA_73ohDx8zo"
      },
      "source": [
        "As you can see, the answers can be a little messy. We'll need a good metric to able to determine whether a prompt is good or not. But let's start simple.\n",
        "\n",
        "We'll use the `Equals` metric from Opik.\n",
        "\n",
        "It works like this:"
      ]
    },
    {
      "cell_type": "code",
      "execution_count": 7,
      "metadata": {
        "colab": {
          "base_uri": "https://localhost:8080/"
        },
        "id": "JyN9fjDqysDl",
        "outputId": "c6643ac8-17a8-4f07-c50e-4c64754f78a0"
      },
      "outputs": [
        {
          "output_type": "stream",
          "name": "stderr",
          "text": [
            "OPIK: Started logging traces to the \"Default Project\" project at https://www.comet.com/opik/api/v1/session/redirect/projects/?trace_id=0196ac0e-ede3-7b8c-b135-d08c6dcf14aa&path=aHR0cHM6Ly93d3cuY29tZXQuY29tL29waWsvYXBpLw==.\n"
          ]
        },
        {
          "output_type": "execute_result",
          "data": {
            "text/plain": [
              "ScoreResult(name='equals_metric', value=1.0, reason=None, metadata=None, scoring_failed=False)"
            ]
          },
          "metadata": {},
          "execution_count": 7
        }
      ],
      "source": [
        "from opik.evaluation.metrics import Equals\n",
        "\n",
        "metric = Equals()\n",
        "\n",
        "metric.score(\"Hello\", \"Hello\")"
      ]
    },
    {
      "cell_type": "markdown",
      "metadata": {
        "id": "F8Dhc8NXzark"
      },
      "source": [
        "Here we can see that value is 1.0. That meens that the two values are the same.\n",
        "\n",
        "What counts as equal?"
      ]
    },
    {
      "cell_type": "code",
      "execution_count": 8,
      "metadata": {
        "colab": {
          "base_uri": "https://localhost:8080/"
        },
        "id": "Ml39af7HzUsF",
        "outputId": "4e73a9c0-989e-4e69-ec4b-f32e517b7090"
      },
      "outputs": [
        {
          "output_type": "execute_result",
          "data": {
            "text/plain": [
              "ScoreResult(name='equals_metric', value=1.0, reason=None, metadata=None, scoring_failed=False)"
            ]
          },
          "metadata": {},
          "execution_count": 8
        }
      ],
      "source": [
        "metric.score(\"Hello\", \"heLLo\")"
      ]
    },
    {
      "cell_type": "code",
      "execution_count": 9,
      "metadata": {
        "colab": {
          "base_uri": "https://localhost:8080/"
        },
        "id": "q1fbHU0qzy0H",
        "outputId": "0a109dc9-cb62-4f6a-8271-307351aacc68"
      },
      "outputs": [
        {
          "output_type": "execute_result",
          "data": {
            "text/plain": [
              "ScoreResult(name='equals_metric', value=0.0, reason=None, metadata=None, scoring_failed=False)"
            ]
          },
          "metadata": {},
          "execution_count": 9
        }
      ],
      "source": [
        "metric.score(\"hello\", \"hell\")"
      ]
    },
    {
      "cell_type": "markdown",
      "metadata": {
        "id": "-I0Coxgt0QNd"
      },
      "source": [
        "Ok, we have a dataset and a metric, now we are ready to construct an optimizer.\n",
        "\n",
        "We can use an OpenAI model name, or more generally, a LiteLLM model name. Just make sure you have your model API key set as we did above.\n",
        "\n",
        "We'll start with the `FewShotBayesianOptimizer`:"
      ]
    },
    {
      "cell_type": "code",
      "execution_count": 10,
      "metadata": {
        "id": "ixQUjZS5tPOU"
      },
      "outputs": [],
      "source": [
        "from opik_optimizer import (\n",
        "    FewShotBayesianOptimizer,\n",
        "    MetricConfig,\n",
        "    from_llm_response_text,\n",
        "    from_dataset_field,\n",
        "    TaskConfig,\n",
        ")\n",
        "\n",
        "optimizer = FewShotBayesianOptimizer(\n",
        "    model=\"gpt-4o-mini\",\n",
        "    temperature=0.1,\n",
        "    max_tokens=5000,\n",
        ")"
      ]
    },
    {
      "cell_type": "markdown",
      "metadata": {
        "id": "fBdeiCOIQIf1"
      },
      "source": [
        "Now, we need a prompt to optimize. Given the examples above, let's try something like:"
      ]
    },
    {
      "cell_type": "code",
      "execution_count": 11,
      "metadata": {
        "id": "uD7I2j-cQS0E"
      },
      "outputs": [],
      "source": [
        "initial_prompt = \"Provide an answer to the question\""
      ]
    },
    {
      "cell_type": "code",
      "execution_count": 12,
      "metadata": {
        "id": "ejAdMdoxYmmj"
      },
      "outputs": [],
      "source": [
        "project_name = \"optimize-few-shot-hotpot-300\""
      ]
    },
    {
      "cell_type": "code",
      "execution_count": 13,
      "metadata": {
        "id": "itjS_IndaM4R"
      },
      "outputs": [],
      "source": [
        "messages = [\n",
        "    {\"role\": \"system\", \"content\": initial_prompt},\n",
        "    {\"role\": \"user\", \"content\": \"{{question}}\"},\n",
        "]"
      ]
    },
    {
      "cell_type": "code",
      "execution_count": 14,
      "metadata": {
        "id": "s-QEws-2aTNg"
      },
      "outputs": [],
      "source": [
        "metric_config = MetricConfig(\n",
        "    metric=Equals(project_name=project_name),\n",
        "    inputs={\n",
        "        \"output\": from_llm_response_text(),\n",
        "        \"reference\": from_dataset_field(name=\"answer\"),\n",
        "    },\n",
        ")\n",
        "\n",
        "task_config = TaskConfig(\n",
        "    instruction_prompt=initial_prompt,\n",
        "    input_dataset_fields=[\"question\"],\n",
        "    output_dataset_field=\"answer\",\n",
        "    use_chat_prompt=True,\n",
        ")"
      ]
    },
    {
      "cell_type": "code",
      "execution_count": 18,
      "metadata": {
        "colab": {
          "base_uri": "https://localhost:8080/",
          "height": 226,
          "referenced_widgets": [
            "289e6c2f3abb4c4aaa54c12f947de93d",
            "8cfc1bec6eec46279457450f288575de",
            "158f19c13c3b4e64acdb9a37d6d296d4",
            "3c92e9a9b1df4d95b4ea2d8f8ecf7dba",
            "918655e872604f4e9a427f9774ebb1b7",
            "e543b526fab44acfa6d030900cb90c65",
            "91ac1928b48540d5bd1d12a500c0e014",
            "f505b8c43a9849c5a47278ea1d5ddf5d",
            "6594bee497a24c0d89515ea8405f6094",
            "48f55b4f733d49d7a87dbd0c6111d051",
            "8f038437869f4df5a9b3ccce1f8b65d7"
          ]
        },
        "id": "V8nqp8deQciO",
        "outputId": "614f5140-3cd3-4064-b3a2-c2c90f5543bd"
      },
      "outputs": [
        {
          "output_type": "display_data",
          "data": {
            "text/plain": [
              "Evaluation:   0%|          | 0/100 [00:00<?, ?it/s]"
            ],
            "application/vnd.jupyter.widget-view+json": {
              "version_major": 2,
              "version_minor": 0,
              "model_id": "289e6c2f3abb4c4aaa54c12f947de93d"
            }
          },
          "metadata": {}
        },
        {
          "output_type": "display_data",
          "data": {
            "text/plain": [
              "╭─ hotpot-300 (100 samples) ──╮\n",
              "│                             │\n",
              "│ \u001b[1mTotal time:       \u001b[0m 00:00:18 │\n",
              "│ \u001b[1mNumber of samples:\u001b[0m 100      │\n",
              "│                             │\n",
              "│ \u001b[1;32mequals_metric: 0.0000 (avg)\u001b[0m │\n",
              "│                             │\n",
              "╰─────────────────────────────╯\n"
            ],
            "text/html": [
              "<pre style=\"white-space:pre;overflow-x:auto;line-height:normal;font-family:Menlo,'DejaVu Sans Mono',consolas,'Courier New',monospace\">╭─ hotpot-300 (100 samples) ──╮\n",
              "│                             │\n",
              "│ <span style=\"font-weight: bold\">Total time:       </span> 00:00:18 │\n",
              "│ <span style=\"font-weight: bold\">Number of samples:</span> 100      │\n",
              "│                             │\n",
              "│ <span style=\"color: #008000; text-decoration-color: #008000; font-weight: bold\">equals_metric: 0.0000 (avg)</span> │\n",
              "│                             │\n",
              "╰─────────────────────────────╯\n",
              "</pre>\n"
            ]
          },
          "metadata": {}
        },
        {
          "output_type": "display_data",
          "data": {
            "text/plain": [
              "Uploading results to Opik \u001b[33m...\u001b[0m \n"
            ],
            "text/html": [
              "<pre style=\"white-space:pre;overflow-x:auto;line-height:normal;font-family:Menlo,'DejaVu Sans Mono',consolas,'Courier New',monospace\">Uploading results to Opik <span style=\"color: #808000; text-decoration-color: #808000\">...</span> \n",
              "</pre>\n"
            ]
          },
          "metadata": {}
        },
        {
          "output_type": "display_data",
          "data": {
            "text/plain": [
              "View the results \u001b]8;id=808577;https://www.comet.com/opik/api/v1/session/redirect/experiments/?experiment_id=0196ac11-4137-7caf-89d9-6098bd33eed4&dataset_id=0195d400-52bc-7ac1-ae8e-74931512157f&path=aHR0cHM6Ly93d3cuY29tZXQuY29tL29waWsvYXBpLw==\u001b\\in your Opik dashboard\u001b]8;;\u001b\\.\n"
            ],
            "text/html": [
              "<pre style=\"white-space:pre;overflow-x:auto;line-height:normal;font-family:Menlo,'DejaVu Sans Mono',consolas,'Courier New',monospace\">View the results <a href=\"https://www.comet.com/opik/api/v1/session/redirect/experiments/?experiment_id=0196ac11-4137-7caf-89d9-6098bd33eed4&dataset_id=0195d400-52bc-7ac1-ae8e-74931512157f&path=aHR0cHM6Ly93d3cuY29tZXQuY29tL29waWsvYXBpLw==\" target=\"_blank\">in your Opik dashboard</a>.\n",
              "</pre>\n"
            ]
          },
          "metadata": {}
        },
        {
          "output_type": "execute_result",
          "data": {
            "text/plain": [
              "0.0"
            ]
          },
          "metadata": {},
          "execution_count": 18
        }
      ],
      "source": [
        "score = optimizer.evaluate_prompt(\n",
        "    prompt=initial_prompt,\n",
        "    dataset=opik_dataset,\n",
        "    metric_config=metric_config,\n",
        "    task_config=task_config,\n",
        "    n_samples=100,\n",
        ")\n",
        "score"
      ]
    },
    {
      "cell_type": "markdown",
      "metadata": {
        "id": "wO6Dax5vQ1iY"
      },
      "source": [
        "The score 0.15 is pretty low. Let's see if we can optimize it!"
      ]
    },
    {
      "cell_type": "markdown",
      "metadata": {
        "id": "Tr9o0G-_2rg8"
      },
      "source": [
        "The FewShotBayesianOptimizer can, fairly quickly, create better prompts.\n",
        "\n",
        "Let's try it out. It takes exactly the same parameters as evaluate_prompt(), but will run for a minute or so."
      ]
    },
    {
      "cell_type": "code",
      "execution_count": 16,
      "metadata": {
        "colab": {
          "base_uri": "https://localhost:8080/",
          "height": 700,
          "referenced_widgets": [
            "c2b2936a84554c86bb4ae275edafd2af",
            "3cb77a1d4a6f41708c224e02ffbd1edc",
            "91b39d06dc574e3abc4b19daad58aea4",
            "13cfe3fb5d974f209b0038bcc555603c",
            "994180739945456eb63bcc8c700816af",
            "f9efce375e0b441cbdc0018b123a3484",
            "6a8022ef2ab44aaa91feceefd2cea3b3",
            "7d88293bde3346dba867e93f1e3ed454",
            "5b1b429eeca442fa82d81b7b3bb6b0e4",
            "8c89573194b94899b686dd31ce5936dc",
            "7000abe259fa45f0a0829841dc83382d",
            "2c021298e5b3490d88858125d3d8870d",
            "1a451746accf4470a5509f3d53c85f8b",
            "724b9f5e945a495e8e8b1e555e9f8c74",
            "d71a137437724c739147b242563caf33",
            "1fad9dd29bb64de69c122cd3ddc00080",
            "e15ccf998b9f4670a4feb766821fbd38",
            "51c0e4668e8f41ec9a41dbfd335fc3d9",
            "0c4e764d579745db9cacb22f1b7b58f3",
            "177a05fafbdf479faef3619a5f71715d",
            "51c2cb40196b404dbd61c54976d4b9a0",
            "0c5057192b7544478ae2fe18404eff26",
            "b2fa018e89564d67ba483cfcf38cac4c",
            "398233675e6944119286181fd1cfd6d4",
            "7ced399a0d694d76b93678015d99cfc3",
            "877289073a7e4c50aa35dcd51484885b",
            "92858ba6c9dc43689f0d5e1bf1bd3ec9",
            "25845a9253f64b1f88412cb629bb0ba9",
            "68d2e8c8bef04768acb75df9976a65bc",
            "7400db96607a4f8db7455b858dd97725",
            "f3bc0def2df847c69dfb5db66f701776",
            "fc4767ab06a047eb9485e37105718e3c",
            "1b868320863f4d86ad4f2702a77be0af"
          ]
        },
        "id": "6fRxnVXX0kqv",
        "outputId": "e7203eb1-c60a-4f50-d3aa-5478c549ceb1"
      },
      "outputs": [
        {
          "output_type": "stream",
          "name": "stderr",
          "text": [
            "WARNING:opik_optimizer.few_shot_bayesian_optimizer.few_shot_bayesian_optimizer:Opik server does not support optimizations. Please upgrade opik.\n",
            "[I 2025-05-07 18:43:50,933] A new study created in memory with name: no-name-5c1bfc44-2679-453d-8a2f-7006f6e787e7\n"
          ]
        },
        {
          "output_type": "display_data",
          "data": {
            "text/plain": [
              "Evaluation:   0%|          | 0/100 [00:00<?, ?it/s]"
            ],
            "application/vnd.jupyter.widget-view+json": {
              "version_major": 2,
              "version_minor": 0,
              "model_id": "c2b2936a84554c86bb4ae275edafd2af"
            }
          },
          "metadata": {}
        },
        {
          "output_type": "display_data",
          "data": {
            "text/plain": [
              "╭─ hotpot-300 (100 samples) ──╮\n",
              "│                             │\n",
              "│ \u001b[1mTotal time:       \u001b[0m 00:00:09 │\n",
              "│ \u001b[1mNumber of samples:\u001b[0m 100      │\n",
              "│                             │\n",
              "│ \u001b[1;32mequals_metric: 0.2200 (avg)\u001b[0m │\n",
              "│                             │\n",
              "╰─────────────────────────────╯\n"
            ],
            "text/html": [
              "<pre style=\"white-space:pre;overflow-x:auto;line-height:normal;font-family:Menlo,'DejaVu Sans Mono',consolas,'Courier New',monospace\">╭─ hotpot-300 (100 samples) ──╮\n",
              "│                             │\n",
              "│ <span style=\"font-weight: bold\">Total time:       </span> 00:00:09 │\n",
              "│ <span style=\"font-weight: bold\">Number of samples:</span> 100      │\n",
              "│                             │\n",
              "│ <span style=\"color: #008000; text-decoration-color: #008000; font-weight: bold\">equals_metric: 0.2200 (avg)</span> │\n",
              "│                             │\n",
              "╰─────────────────────────────╯\n",
              "</pre>\n"
            ]
          },
          "metadata": {}
        },
        {
          "output_type": "display_data",
          "data": {
            "text/plain": [
              "Uploading results to Opik \u001b[33m...\u001b[0m \n"
            ],
            "text/html": [
              "<pre style=\"white-space:pre;overflow-x:auto;line-height:normal;font-family:Menlo,'DejaVu Sans Mono',consolas,'Courier New',monospace\">Uploading results to Opik <span style=\"color: #808000; text-decoration-color: #808000\">...</span> \n",
              "</pre>\n"
            ]
          },
          "metadata": {}
        },
        {
          "output_type": "display_data",
          "data": {
            "text/plain": [
              "View the results \u001b]8;id=988712;https://www.comet.com/opik/api/v1/session/redirect/experiments/?experiment_id=0196ac0f-ae9f-72c2-8735-416609023c3e&dataset_id=0195d400-52bc-7ac1-ae8e-74931512157f&path=aHR0cHM6Ly93d3cuY29tZXQuY29tL29waWsvYXBpLw==\u001b\\in your Opik dashboard\u001b]8;;\u001b\\.\n"
            ],
            "text/html": [
              "<pre style=\"white-space:pre;overflow-x:auto;line-height:normal;font-family:Menlo,'DejaVu Sans Mono',consolas,'Courier New',monospace\">View the results <a href=\"https://www.comet.com/opik/api/v1/session/redirect/experiments/?experiment_id=0196ac0f-ae9f-72c2-8735-416609023c3e&dataset_id=0195d400-52bc-7ac1-ae8e-74931512157f&path=aHR0cHM6Ly93d3cuY29tZXQuY29tL29waWsvYXBpLw==\" target=\"_blank\">in your Opik dashboard</a>.\n",
              "</pre>\n"
            ]
          },
          "metadata": {}
        },
        {
          "output_type": "stream",
          "name": "stderr",
          "text": [
            "[I 2025-05-07 18:44:01,144] Trial 0 finished with value: 0.22 and parameters: {'n_examples': 7, 'example_0': 278, 'example_1': 89, 'example_2': 36, 'example_3': 136, 'example_4': 94, 'example_5': 254, 'example_6': 133}. Best is trial 0 with value: 0.22.\n"
          ]
        },
        {
          "output_type": "display_data",
          "data": {
            "text/plain": [
              "Evaluation:   0%|          | 0/100 [00:00<?, ?it/s]"
            ],
            "application/vnd.jupyter.widget-view+json": {
              "version_major": 2,
              "version_minor": 0,
              "model_id": "2c021298e5b3490d88858125d3d8870d"
            }
          },
          "metadata": {}
        },
        {
          "output_type": "display_data",
          "data": {
            "text/plain": [
              "╭─ hotpot-300 (100 samples) ──╮\n",
              "│                             │\n",
              "│ \u001b[1mTotal time:       \u001b[0m 00:00:09 │\n",
              "│ \u001b[1mNumber of samples:\u001b[0m 100      │\n",
              "│                             │\n",
              "│ \u001b[1;32mequals_metric: 0.2100 (avg)\u001b[0m │\n",
              "│                             │\n",
              "╰─────────────────────────────╯\n"
            ],
            "text/html": [
              "<pre style=\"white-space:pre;overflow-x:auto;line-height:normal;font-family:Menlo,'DejaVu Sans Mono',consolas,'Courier New',monospace\">╭─ hotpot-300 (100 samples) ──╮\n",
              "│                             │\n",
              "│ <span style=\"font-weight: bold\">Total time:       </span> 00:00:09 │\n",
              "│ <span style=\"font-weight: bold\">Number of samples:</span> 100      │\n",
              "│                             │\n",
              "│ <span style=\"color: #008000; text-decoration-color: #008000; font-weight: bold\">equals_metric: 0.2100 (avg)</span> │\n",
              "│                             │\n",
              "╰─────────────────────────────╯\n",
              "</pre>\n"
            ]
          },
          "metadata": {}
        },
        {
          "output_type": "display_data",
          "data": {
            "text/plain": [
              "Uploading results to Opik \u001b[33m...\u001b[0m \n"
            ],
            "text/html": [
              "<pre style=\"white-space:pre;overflow-x:auto;line-height:normal;font-family:Menlo,'DejaVu Sans Mono',consolas,'Courier New',monospace\">Uploading results to Opik <span style=\"color: #808000; text-decoration-color: #808000\">...</span> \n",
              "</pre>\n"
            ]
          },
          "metadata": {}
        },
        {
          "output_type": "display_data",
          "data": {
            "text/plain": [
              "View the results \u001b]8;id=747581;https://www.comet.com/opik/api/v1/session/redirect/experiments/?experiment_id=0196ac0f-d689-721a-86cb-c08c58ca9818&dataset_id=0195d400-52bc-7ac1-ae8e-74931512157f&path=aHR0cHM6Ly93d3cuY29tZXQuY29tL29waWsvYXBpLw==\u001b\\in your Opik dashboard\u001b]8;;\u001b\\.\n"
            ],
            "text/html": [
              "<pre style=\"white-space:pre;overflow-x:auto;line-height:normal;font-family:Menlo,'DejaVu Sans Mono',consolas,'Courier New',monospace\">View the results <a href=\"https://www.comet.com/opik/api/v1/session/redirect/experiments/?experiment_id=0196ac0f-d689-721a-86cb-c08c58ca9818&dataset_id=0195d400-52bc-7ac1-ae8e-74931512157f&path=aHR0cHM6Ly93d3cuY29tZXQuY29tL29waWsvYXBpLw==\" target=\"_blank\">in your Opik dashboard</a>.\n",
              "</pre>\n"
            ]
          },
          "metadata": {}
        },
        {
          "output_type": "stream",
          "name": "stderr",
          "text": [
            "[I 2025-05-07 18:44:11,323] Trial 1 finished with value: 0.21 and parameters: {'n_examples': 8, 'example_0': 170, 'example_1': 71, 'example_2': 166, 'example_3': 282, 'example_4': 165, 'example_5': 298, 'example_6': 288, 'example_7': 144}. Best is trial 0 with value: 0.22.\n"
          ]
        },
        {
          "output_type": "display_data",
          "data": {
            "text/plain": [
              "Evaluation:   0%|          | 0/100 [00:00<?, ?it/s]"
            ],
            "application/vnd.jupyter.widget-view+json": {
              "version_major": 2,
              "version_minor": 0,
              "model_id": "b2fa018e89564d67ba483cfcf38cac4c"
            }
          },
          "metadata": {}
        },
        {
          "output_type": "display_data",
          "data": {
            "text/plain": [
              "╭─ hotpot-300 (100 samples) ──╮\n",
              "│                             │\n",
              "│ \u001b[1mTotal time:       \u001b[0m 00:00:14 │\n",
              "│ \u001b[1mNumber of samples:\u001b[0m 100      │\n",
              "│                             │\n",
              "│ \u001b[1;32mequals_metric: 0.0500 (avg)\u001b[0m │\n",
              "│                             │\n",
              "╰─────────────────────────────╯\n"
            ],
            "text/html": [
              "<pre style=\"white-space:pre;overflow-x:auto;line-height:normal;font-family:Menlo,'DejaVu Sans Mono',consolas,'Courier New',monospace\">╭─ hotpot-300 (100 samples) ──╮\n",
              "│                             │\n",
              "│ <span style=\"font-weight: bold\">Total time:       </span> 00:00:14 │\n",
              "│ <span style=\"font-weight: bold\">Number of samples:</span> 100      │\n",
              "│                             │\n",
              "│ <span style=\"color: #008000; text-decoration-color: #008000; font-weight: bold\">equals_metric: 0.0500 (avg)</span> │\n",
              "│                             │\n",
              "╰─────────────────────────────╯\n",
              "</pre>\n"
            ]
          },
          "metadata": {}
        },
        {
          "output_type": "display_data",
          "data": {
            "text/plain": [
              "Uploading results to Opik \u001b[33m...\u001b[0m \n"
            ],
            "text/html": [
              "<pre style=\"white-space:pre;overflow-x:auto;line-height:normal;font-family:Menlo,'DejaVu Sans Mono',consolas,'Courier New',monospace\">Uploading results to Opik <span style=\"color: #808000; text-decoration-color: #808000\">...</span> \n",
              "</pre>\n"
            ]
          },
          "metadata": {}
        },
        {
          "output_type": "display_data",
          "data": {
            "text/plain": [
              "View the results \u001b]8;id=510311;https://www.comet.com/opik/api/v1/session/redirect/experiments/?experiment_id=0196ac0f-fe52-7aa4-9126-b2c28cbbe839&dataset_id=0195d400-52bc-7ac1-ae8e-74931512157f&path=aHR0cHM6Ly93d3cuY29tZXQuY29tL29waWsvYXBpLw==\u001b\\in your Opik dashboard\u001b]8;;\u001b\\.\n"
            ],
            "text/html": [
              "<pre style=\"white-space:pre;overflow-x:auto;line-height:normal;font-family:Menlo,'DejaVu Sans Mono',consolas,'Courier New',monospace\">View the results <a href=\"https://www.comet.com/opik/api/v1/session/redirect/experiments/?experiment_id=0196ac0f-fe52-7aa4-9126-b2c28cbbe839&dataset_id=0195d400-52bc-7ac1-ae8e-74931512157f&path=aHR0cHM6Ly93d3cuY29tZXQuY29tL29waWsvYXBpLw==\" target=\"_blank\">in your Opik dashboard</a>.\n",
              "</pre>\n"
            ]
          },
          "metadata": {}
        },
        {
          "output_type": "stream",
          "name": "stderr",
          "text": [
            "[I 2025-05-07 18:44:26,709] Trial 2 finished with value: 0.05 and parameters: {'n_examples': 2, 'example_0': 3, 'example_1': 203}. Best is trial 0 with value: 0.22.\n"
          ]
        }
      ],
      "source": [
        "result = optimizer.optimize_prompt(\n",
        "    opik_dataset,\n",
        "    metric_config,\n",
        "    task_config,\n",
        "    n_trials=3,\n",
        "    n_samples=100\n",
        ")"
      ]
    },
    {
      "cell_type": "code",
      "execution_count": 17,
      "metadata": {
        "colab": {
          "base_uri": "https://localhost:8080/"
        },
        "id": "MYG0Ld45vAm8",
        "outputId": "dc297384-8c08-43d8-d17c-46b1bb3cca4b"
      },
      "outputs": [
        {
          "output_type": "stream",
          "name": "stdout",
          "text": [
            "{'role': 'system', 'content': 'Provide an answer to the question\\n\\nYou are an intelligent assistant that learns from few-shot examples provided earlier in the conversation. Whenever you respond, carefully follow the structure, tone, and format of previous assistant replies, using them as a guide'}\n",
            "{'role': 'user', 'content': '\\n{\\n  \"question\": \"What was the gang merged into by the gang leader born on November 30, 1950?\"\\n}\\n'}\n",
            "{'role': 'assistant', 'content': 'Black Gangster Disciple Nation (BGDN)'}\n",
            "{'role': 'user', 'content': '\\n{\\n  \"question\": \"Who is the actor that appeared in both Small Apartments (2012) and the SBS comedy series Pizza?\"\\n}\\n'}\n",
            "{'role': 'assistant', 'content': 'Rebel Wilson'}\n",
            "{'role': 'user', 'content': '\\n{\\n  \"question\": \"What year was the man whose car failed to arrive to the 1950 Indianapolis 500 first the Italian champion?\"\\n}\\n'}\n",
            "{'role': 'assistant', 'content': '1937'}\n",
            "{'role': 'user', 'content': '\\n{\\n  \"question\": \"Premier League forward Dominic Calvert Levin scored the winning goal of the 2017 U20 World Cup for which country?\"\\n}\\n'}\n",
            "{'role': 'assistant', 'content': 'England'}\n",
            "{'role': 'user', 'content': '\\n{\\n  \"question\": \"What major detail about Randy and Sharon Marsh was revealed on the 224th episode of \\\\\"South Park?\\\\\"\"\\n}\\n'}\n",
            "{'role': 'assistant', 'content': 'the Marsh home address is 260 Avenidas de los Mexicanos'}\n",
            "{'role': 'user', 'content': '\\n{\\n  \"question\": \"Who is the wife of Charlemagne who is a step mother to Pepin the Hunchback?\"\\n}\\n'}\n",
            "{'role': 'assistant', 'content': 'Hildegard'}\n",
            "{'role': 'user', 'content': '\\n{\\n  \"question\": \"Do Bijou and Derby both have the same main alcoholic component?\"\\n}\\n'}\n",
            "{'role': 'assistant', 'content': 'yes'}\n",
            "{'role': 'user', 'content': '{\"question\": \"{{question}}\"}'}\n"
          ]
        }
      ],
      "source": [
        "for message in result.prompt:\n",
        "    print(message)"
      ]
    },
    {
      "cell_type": "code",
      "source": [
        "import litellm\n",
        "\n",
        "def query(question):\n",
        "    messages = result.prompt[:-1]\n",
        "    messages.append({'role': 'user', 'content': '{\"question\": \"%s\"}\"}' % question})\n",
        "\n",
        "    response = litellm.completion(\n",
        "        model=\"gpt-4o-mini\",\n",
        "        temperature=0.1,\n",
        "        max_tokens=5000,\n",
        "        messages=messages,\n",
        "    )\n",
        "    return response.choices[0].message.content\n"
      ],
      "metadata": {
        "id": "StrB552UGz1b"
      },
      "execution_count": 32,
      "outputs": []
    },
    {
      "cell_type": "markdown",
      "metadata": {
        "id": "xSZoEVBDRoyZ"
      },
      "source": [
        "Although there is some randomness, you probably got a better prompt. My result is about 5 times better."
      ]
    },
    {
      "cell_type": "code",
      "source": [
        "query(\"Which is happier: a clown or a CEO?\")"
      ],
      "metadata": {
        "colab": {
          "base_uri": "https://localhost:8080/",
          "height": 35
        },
        "id": "53IJeb1eKADF",
        "outputId": "06ab0a7a-3bb2-4f55-de35-daffac2fe8c8"
      },
      "execution_count": 33,
      "outputs": [
        {
          "output_type": "execute_result",
          "data": {
            "text/plain": [
              "'A clown'"
            ],
            "application/vnd.google.colaboratory.intrinsic+json": {
              "type": "string"
            }
          },
          "metadata": {},
          "execution_count": 33
        }
      ]
    },
    {
      "cell_type": "markdown",
      "source": [
        "This is just the initial framework for optimizers for Opik!\n",
        "\n",
        "Please see the [Opik Optimizer repo](https://github.com/comet-ml/opik/tree/main/sdks/opik_optimizer) for additional examples using different algorithms."
      ],
      "metadata": {
        "id": "8n3rYm4eM0t4"
      }
    }
  ],
  "metadata": {
    "colab": {
      "provenance": []
    },
    "kernelspec": {
      "display_name": "Python 3",
      "name": "python3"
    },
    "language_info": {
      "codemirror_mode": {
        "name": "ipython",
        "version": 3
      },
      "file_extension": ".py",
      "mimetype": "text/x-python",
      "name": "python",
      "nbconvert_exporter": "python",
      "pygments_lexer": "ipython3",
      "version": "3.12.2"
    },
    "widgets": {
      "application/vnd.jupyter.widget-state+json": {
        "289e6c2f3abb4c4aaa54c12f947de93d": {
          "model_module": "@jupyter-widgets/controls",
          "model_name": "HBoxModel",
          "model_module_version": "1.5.0",
          "state": {
            "_dom_classes": [],
            "_model_module": "@jupyter-widgets/controls",
            "_model_module_version": "1.5.0",
            "_model_name": "HBoxModel",
            "_view_count": null,
            "_view_module": "@jupyter-widgets/controls",
            "_view_module_version": "1.5.0",
            "_view_name": "HBoxView",
            "box_style": "",
            "children": [
              "IPY_MODEL_8cfc1bec6eec46279457450f288575de",
              "IPY_MODEL_158f19c13c3b4e64acdb9a37d6d296d4",
              "IPY_MODEL_3c92e9a9b1df4d95b4ea2d8f8ecf7dba"
            ],
            "layout": "IPY_MODEL_918655e872604f4e9a427f9774ebb1b7"
          }
        },
        "8cfc1bec6eec46279457450f288575de": {
          "model_module": "@jupyter-widgets/controls",
          "model_name": "HTMLModel",
          "model_module_version": "1.5.0",
          "state": {
            "_dom_classes": [],
            "_model_module": "@jupyter-widgets/controls",
            "_model_module_version": "1.5.0",
            "_model_name": "HTMLModel",
            "_view_count": null,
            "_view_module": "@jupyter-widgets/controls",
            "_view_module_version": "1.5.0",
            "_view_name": "HTMLView",
            "description": "",
            "description_tooltip": null,
            "layout": "IPY_MODEL_e543b526fab44acfa6d030900cb90c65",
            "placeholder": "​",
            "style": "IPY_MODEL_91ac1928b48540d5bd1d12a500c0e014",
            "value": "Evaluation: 100%"
          }
        },
        "158f19c13c3b4e64acdb9a37d6d296d4": {
          "model_module": "@jupyter-widgets/controls",
          "model_name": "FloatProgressModel",
          "model_module_version": "1.5.0",
          "state": {
            "_dom_classes": [],
            "_model_module": "@jupyter-widgets/controls",
            "_model_module_version": "1.5.0",
            "_model_name": "FloatProgressModel",
            "_view_count": null,
            "_view_module": "@jupyter-widgets/controls",
            "_view_module_version": "1.5.0",
            "_view_name": "ProgressView",
            "bar_style": "success",
            "description": "",
            "description_tooltip": null,
            "layout": "IPY_MODEL_f505b8c43a9849c5a47278ea1d5ddf5d",
            "max": 100,
            "min": 0,
            "orientation": "horizontal",
            "style": "IPY_MODEL_6594bee497a24c0d89515ea8405f6094",
            "value": 100
          }
        },
        "3c92e9a9b1df4d95b4ea2d8f8ecf7dba": {
          "model_module": "@jupyter-widgets/controls",
          "model_name": "HTMLModel",
          "model_module_version": "1.5.0",
          "state": {
            "_dom_classes": [],
            "_model_module": "@jupyter-widgets/controls",
            "_model_module_version": "1.5.0",
            "_model_name": "HTMLModel",
            "_view_count": null,
            "_view_module": "@jupyter-widgets/controls",
            "_view_module_version": "1.5.0",
            "_view_name": "HTMLView",
            "description": "",
            "description_tooltip": null,
            "layout": "IPY_MODEL_48f55b4f733d49d7a87dbd0c6111d051",
            "placeholder": "​",
            "style": "IPY_MODEL_8f038437869f4df5a9b3ccce1f8b65d7",
            "value": " 100/100 [00:18&lt;00:00,  2.97it/s]"
          }
        },
        "918655e872604f4e9a427f9774ebb1b7": {
          "model_module": "@jupyter-widgets/base",
          "model_name": "LayoutModel",
          "model_module_version": "1.2.0",
          "state": {
            "_model_module": "@jupyter-widgets/base",
            "_model_module_version": "1.2.0",
            "_model_name": "LayoutModel",
            "_view_count": null,
            "_view_module": "@jupyter-widgets/base",
            "_view_module_version": "1.2.0",
            "_view_name": "LayoutView",
            "align_content": null,
            "align_items": null,
            "align_self": null,
            "border": null,
            "bottom": null,
            "display": null,
            "flex": null,
            "flex_flow": null,
            "grid_area": null,
            "grid_auto_columns": null,
            "grid_auto_flow": null,
            "grid_auto_rows": null,
            "grid_column": null,
            "grid_gap": null,
            "grid_row": null,
            "grid_template_areas": null,
            "grid_template_columns": null,
            "grid_template_rows": null,
            "height": null,
            "justify_content": null,
            "justify_items": null,
            "left": null,
            "margin": null,
            "max_height": null,
            "max_width": null,
            "min_height": null,
            "min_width": null,
            "object_fit": null,
            "object_position": null,
            "order": null,
            "overflow": null,
            "overflow_x": null,
            "overflow_y": null,
            "padding": null,
            "right": null,
            "top": null,
            "visibility": null,
            "width": null
          }
        },
        "e543b526fab44acfa6d030900cb90c65": {
          "model_module": "@jupyter-widgets/base",
          "model_name": "LayoutModel",
          "model_module_version": "1.2.0",
          "state": {
            "_model_module": "@jupyter-widgets/base",
            "_model_module_version": "1.2.0",
            "_model_name": "LayoutModel",
            "_view_count": null,
            "_view_module": "@jupyter-widgets/base",
            "_view_module_version": "1.2.0",
            "_view_name": "LayoutView",
            "align_content": null,
            "align_items": null,
            "align_self": null,
            "border": null,
            "bottom": null,
            "display": null,
            "flex": null,
            "flex_flow": null,
            "grid_area": null,
            "grid_auto_columns": null,
            "grid_auto_flow": null,
            "grid_auto_rows": null,
            "grid_column": null,
            "grid_gap": null,
            "grid_row": null,
            "grid_template_areas": null,
            "grid_template_columns": null,
            "grid_template_rows": null,
            "height": null,
            "justify_content": null,
            "justify_items": null,
            "left": null,
            "margin": null,
            "max_height": null,
            "max_width": null,
            "min_height": null,
            "min_width": null,
            "object_fit": null,
            "object_position": null,
            "order": null,
            "overflow": null,
            "overflow_x": null,
            "overflow_y": null,
            "padding": null,
            "right": null,
            "top": null,
            "visibility": null,
            "width": null
          }
        },
        "91ac1928b48540d5bd1d12a500c0e014": {
          "model_module": "@jupyter-widgets/controls",
          "model_name": "DescriptionStyleModel",
          "model_module_version": "1.5.0",
          "state": {
            "_model_module": "@jupyter-widgets/controls",
            "_model_module_version": "1.5.0",
            "_model_name": "DescriptionStyleModel",
            "_view_count": null,
            "_view_module": "@jupyter-widgets/base",
            "_view_module_version": "1.2.0",
            "_view_name": "StyleView",
            "description_width": ""
          }
        },
        "f505b8c43a9849c5a47278ea1d5ddf5d": {
          "model_module": "@jupyter-widgets/base",
          "model_name": "LayoutModel",
          "model_module_version": "1.2.0",
          "state": {
            "_model_module": "@jupyter-widgets/base",
            "_model_module_version": "1.2.0",
            "_model_name": "LayoutModel",
            "_view_count": null,
            "_view_module": "@jupyter-widgets/base",
            "_view_module_version": "1.2.0",
            "_view_name": "LayoutView",
            "align_content": null,
            "align_items": null,
            "align_self": null,
            "border": null,
            "bottom": null,
            "display": null,
            "flex": null,
            "flex_flow": null,
            "grid_area": null,
            "grid_auto_columns": null,
            "grid_auto_flow": null,
            "grid_auto_rows": null,
            "grid_column": null,
            "grid_gap": null,
            "grid_row": null,
            "grid_template_areas": null,
            "grid_template_columns": null,
            "grid_template_rows": null,
            "height": null,
            "justify_content": null,
            "justify_items": null,
            "left": null,
            "margin": null,
            "max_height": null,
            "max_width": null,
            "min_height": null,
            "min_width": null,
            "object_fit": null,
            "object_position": null,
            "order": null,
            "overflow": null,
            "overflow_x": null,
            "overflow_y": null,
            "padding": null,
            "right": null,
            "top": null,
            "visibility": null,
            "width": null
          }
        },
        "6594bee497a24c0d89515ea8405f6094": {
          "model_module": "@jupyter-widgets/controls",
          "model_name": "ProgressStyleModel",
          "model_module_version": "1.5.0",
          "state": {
            "_model_module": "@jupyter-widgets/controls",
            "_model_module_version": "1.5.0",
            "_model_name": "ProgressStyleModel",
            "_view_count": null,
            "_view_module": "@jupyter-widgets/base",
            "_view_module_version": "1.2.0",
            "_view_name": "StyleView",
            "bar_color": null,
            "description_width": ""
          }
        },
        "48f55b4f733d49d7a87dbd0c6111d051": {
          "model_module": "@jupyter-widgets/base",
          "model_name": "LayoutModel",
          "model_module_version": "1.2.0",
          "state": {
            "_model_module": "@jupyter-widgets/base",
            "_model_module_version": "1.2.0",
            "_model_name": "LayoutModel",
            "_view_count": null,
            "_view_module": "@jupyter-widgets/base",
            "_view_module_version": "1.2.0",
            "_view_name": "LayoutView",
            "align_content": null,
            "align_items": null,
            "align_self": null,
            "border": null,
            "bottom": null,
            "display": null,
            "flex": null,
            "flex_flow": null,
            "grid_area": null,
            "grid_auto_columns": null,
            "grid_auto_flow": null,
            "grid_auto_rows": null,
            "grid_column": null,
            "grid_gap": null,
            "grid_row": null,
            "grid_template_areas": null,
            "grid_template_columns": null,
            "grid_template_rows": null,
            "height": null,
            "justify_content": null,
            "justify_items": null,
            "left": null,
            "margin": null,
            "max_height": null,
            "max_width": null,
            "min_height": null,
            "min_width": null,
            "object_fit": null,
            "object_position": null,
            "order": null,
            "overflow": null,
            "overflow_x": null,
            "overflow_y": null,
            "padding": null,
            "right": null,
            "top": null,
            "visibility": null,
            "width": null
          }
        },
        "8f038437869f4df5a9b3ccce1f8b65d7": {
          "model_module": "@jupyter-widgets/controls",
          "model_name": "DescriptionStyleModel",
          "model_module_version": "1.5.0",
          "state": {
            "_model_module": "@jupyter-widgets/controls",
            "_model_module_version": "1.5.0",
            "_model_name": "DescriptionStyleModel",
            "_view_count": null,
            "_view_module": "@jupyter-widgets/base",
            "_view_module_version": "1.2.0",
            "_view_name": "StyleView",
            "description_width": ""
          }
        },
        "c2b2936a84554c86bb4ae275edafd2af": {
          "model_module": "@jupyter-widgets/controls",
          "model_name": "HBoxModel",
          "model_module_version": "1.5.0",
          "state": {
            "_dom_classes": [],
            "_model_module": "@jupyter-widgets/controls",
            "_model_module_version": "1.5.0",
            "_model_name": "HBoxModel",
            "_view_count": null,
            "_view_module": "@jupyter-widgets/controls",
            "_view_module_version": "1.5.0",
            "_view_name": "HBoxView",
            "box_style": "",
            "children": [
              "IPY_MODEL_3cb77a1d4a6f41708c224e02ffbd1edc",
              "IPY_MODEL_91b39d06dc574e3abc4b19daad58aea4",
              "IPY_MODEL_13cfe3fb5d974f209b0038bcc555603c"
            ],
            "layout": "IPY_MODEL_994180739945456eb63bcc8c700816af"
          }
        },
        "3cb77a1d4a6f41708c224e02ffbd1edc": {
          "model_module": "@jupyter-widgets/controls",
          "model_name": "HTMLModel",
          "model_module_version": "1.5.0",
          "state": {
            "_dom_classes": [],
            "_model_module": "@jupyter-widgets/controls",
            "_model_module_version": "1.5.0",
            "_model_name": "HTMLModel",
            "_view_count": null,
            "_view_module": "@jupyter-widgets/controls",
            "_view_module_version": "1.5.0",
            "_view_name": "HTMLView",
            "description": "",
            "description_tooltip": null,
            "layout": "IPY_MODEL_f9efce375e0b441cbdc0018b123a3484",
            "placeholder": "​",
            "style": "IPY_MODEL_6a8022ef2ab44aaa91feceefd2cea3b3",
            "value": "Evaluation: 100%"
          }
        },
        "91b39d06dc574e3abc4b19daad58aea4": {
          "model_module": "@jupyter-widgets/controls",
          "model_name": "FloatProgressModel",
          "model_module_version": "1.5.0",
          "state": {
            "_dom_classes": [],
            "_model_module": "@jupyter-widgets/controls",
            "_model_module_version": "1.5.0",
            "_model_name": "FloatProgressModel",
            "_view_count": null,
            "_view_module": "@jupyter-widgets/controls",
            "_view_module_version": "1.5.0",
            "_view_name": "ProgressView",
            "bar_style": "success",
            "description": "",
            "description_tooltip": null,
            "layout": "IPY_MODEL_7d88293bde3346dba867e93f1e3ed454",
            "max": 100,
            "min": 0,
            "orientation": "horizontal",
            "style": "IPY_MODEL_5b1b429eeca442fa82d81b7b3bb6b0e4",
            "value": 100
          }
        },
        "13cfe3fb5d974f209b0038bcc555603c": {
          "model_module": "@jupyter-widgets/controls",
          "model_name": "HTMLModel",
          "model_module_version": "1.5.0",
          "state": {
            "_dom_classes": [],
            "_model_module": "@jupyter-widgets/controls",
            "_model_module_version": "1.5.0",
            "_model_name": "HTMLModel",
            "_view_count": null,
            "_view_module": "@jupyter-widgets/controls",
            "_view_module_version": "1.5.0",
            "_view_name": "HTMLView",
            "description": "",
            "description_tooltip": null,
            "layout": "IPY_MODEL_8c89573194b94899b686dd31ce5936dc",
            "placeholder": "​",
            "style": "IPY_MODEL_7000abe259fa45f0a0829841dc83382d",
            "value": " 100/100 [00:09&lt;00:00,  8.29it/s]"
          }
        },
        "994180739945456eb63bcc8c700816af": {
          "model_module": "@jupyter-widgets/base",
          "model_name": "LayoutModel",
          "model_module_version": "1.2.0",
          "state": {
            "_model_module": "@jupyter-widgets/base",
            "_model_module_version": "1.2.0",
            "_model_name": "LayoutModel",
            "_view_count": null,
            "_view_module": "@jupyter-widgets/base",
            "_view_module_version": "1.2.0",
            "_view_name": "LayoutView",
            "align_content": null,
            "align_items": null,
            "align_self": null,
            "border": null,
            "bottom": null,
            "display": null,
            "flex": null,
            "flex_flow": null,
            "grid_area": null,
            "grid_auto_columns": null,
            "grid_auto_flow": null,
            "grid_auto_rows": null,
            "grid_column": null,
            "grid_gap": null,
            "grid_row": null,
            "grid_template_areas": null,
            "grid_template_columns": null,
            "grid_template_rows": null,
            "height": null,
            "justify_content": null,
            "justify_items": null,
            "left": null,
            "margin": null,
            "max_height": null,
            "max_width": null,
            "min_height": null,
            "min_width": null,
            "object_fit": null,
            "object_position": null,
            "order": null,
            "overflow": null,
            "overflow_x": null,
            "overflow_y": null,
            "padding": null,
            "right": null,
            "top": null,
            "visibility": null,
            "width": null
          }
        },
        "f9efce375e0b441cbdc0018b123a3484": {
          "model_module": "@jupyter-widgets/base",
          "model_name": "LayoutModel",
          "model_module_version": "1.2.0",
          "state": {
            "_model_module": "@jupyter-widgets/base",
            "_model_module_version": "1.2.0",
            "_model_name": "LayoutModel",
            "_view_count": null,
            "_view_module": "@jupyter-widgets/base",
            "_view_module_version": "1.2.0",
            "_view_name": "LayoutView",
            "align_content": null,
            "align_items": null,
            "align_self": null,
            "border": null,
            "bottom": null,
            "display": null,
            "flex": null,
            "flex_flow": null,
            "grid_area": null,
            "grid_auto_columns": null,
            "grid_auto_flow": null,
            "grid_auto_rows": null,
            "grid_column": null,
            "grid_gap": null,
            "grid_row": null,
            "grid_template_areas": null,
            "grid_template_columns": null,
            "grid_template_rows": null,
            "height": null,
            "justify_content": null,
            "justify_items": null,
            "left": null,
            "margin": null,
            "max_height": null,
            "max_width": null,
            "min_height": null,
            "min_width": null,
            "object_fit": null,
            "object_position": null,
            "order": null,
            "overflow": null,
            "overflow_x": null,
            "overflow_y": null,
            "padding": null,
            "right": null,
            "top": null,
            "visibility": null,
            "width": null
          }
        },
        "6a8022ef2ab44aaa91feceefd2cea3b3": {
          "model_module": "@jupyter-widgets/controls",
          "model_name": "DescriptionStyleModel",
          "model_module_version": "1.5.0",
          "state": {
            "_model_module": "@jupyter-widgets/controls",
            "_model_module_version": "1.5.0",
            "_model_name": "DescriptionStyleModel",
            "_view_count": null,
            "_view_module": "@jupyter-widgets/base",
            "_view_module_version": "1.2.0",
            "_view_name": "StyleView",
            "description_width": ""
          }
        },
        "7d88293bde3346dba867e93f1e3ed454": {
          "model_module": "@jupyter-widgets/base",
          "model_name": "LayoutModel",
          "model_module_version": "1.2.0",
          "state": {
            "_model_module": "@jupyter-widgets/base",
            "_model_module_version": "1.2.0",
            "_model_name": "LayoutModel",
            "_view_count": null,
            "_view_module": "@jupyter-widgets/base",
            "_view_module_version": "1.2.0",
            "_view_name": "LayoutView",
            "align_content": null,
            "align_items": null,
            "align_self": null,
            "border": null,
            "bottom": null,
            "display": null,
            "flex": null,
            "flex_flow": null,
            "grid_area": null,
            "grid_auto_columns": null,
            "grid_auto_flow": null,
            "grid_auto_rows": null,
            "grid_column": null,
            "grid_gap": null,
            "grid_row": null,
            "grid_template_areas": null,
            "grid_template_columns": null,
            "grid_template_rows": null,
            "height": null,
            "justify_content": null,
            "justify_items": null,
            "left": null,
            "margin": null,
            "max_height": null,
            "max_width": null,
            "min_height": null,
            "min_width": null,
            "object_fit": null,
            "object_position": null,
            "order": null,
            "overflow": null,
            "overflow_x": null,
            "overflow_y": null,
            "padding": null,
            "right": null,
            "top": null,
            "visibility": null,
            "width": null
          }
        },
        "5b1b429eeca442fa82d81b7b3bb6b0e4": {
          "model_module": "@jupyter-widgets/controls",
          "model_name": "ProgressStyleModel",
          "model_module_version": "1.5.0",
          "state": {
            "_model_module": "@jupyter-widgets/controls",
            "_model_module_version": "1.5.0",
            "_model_name": "ProgressStyleModel",
            "_view_count": null,
            "_view_module": "@jupyter-widgets/base",
            "_view_module_version": "1.2.0",
            "_view_name": "StyleView",
            "bar_color": null,
            "description_width": ""
          }
        },
        "8c89573194b94899b686dd31ce5936dc": {
          "model_module": "@jupyter-widgets/base",
          "model_name": "LayoutModel",
          "model_module_version": "1.2.0",
          "state": {
            "_model_module": "@jupyter-widgets/base",
            "_model_module_version": "1.2.0",
            "_model_name": "LayoutModel",
            "_view_count": null,
            "_view_module": "@jupyter-widgets/base",
            "_view_module_version": "1.2.0",
            "_view_name": "LayoutView",
            "align_content": null,
            "align_items": null,
            "align_self": null,
            "border": null,
            "bottom": null,
            "display": null,
            "flex": null,
            "flex_flow": null,
            "grid_area": null,
            "grid_auto_columns": null,
            "grid_auto_flow": null,
            "grid_auto_rows": null,
            "grid_column": null,
            "grid_gap": null,
            "grid_row": null,
            "grid_template_areas": null,
            "grid_template_columns": null,
            "grid_template_rows": null,
            "height": null,
            "justify_content": null,
            "justify_items": null,
            "left": null,
            "margin": null,
            "max_height": null,
            "max_width": null,
            "min_height": null,
            "min_width": null,
            "object_fit": null,
            "object_position": null,
            "order": null,
            "overflow": null,
            "overflow_x": null,
            "overflow_y": null,
            "padding": null,
            "right": null,
            "top": null,
            "visibility": null,
            "width": null
          }
        },
        "7000abe259fa45f0a0829841dc83382d": {
          "model_module": "@jupyter-widgets/controls",
          "model_name": "DescriptionStyleModel",
          "model_module_version": "1.5.0",
          "state": {
            "_model_module": "@jupyter-widgets/controls",
            "_model_module_version": "1.5.0",
            "_model_name": "DescriptionStyleModel",
            "_view_count": null,
            "_view_module": "@jupyter-widgets/base",
            "_view_module_version": "1.2.0",
            "_view_name": "StyleView",
            "description_width": ""
          }
        },
        "2c021298e5b3490d88858125d3d8870d": {
          "model_module": "@jupyter-widgets/controls",
          "model_name": "HBoxModel",
          "model_module_version": "1.5.0",
          "state": {
            "_dom_classes": [],
            "_model_module": "@jupyter-widgets/controls",
            "_model_module_version": "1.5.0",
            "_model_name": "HBoxModel",
            "_view_count": null,
            "_view_module": "@jupyter-widgets/controls",
            "_view_module_version": "1.5.0",
            "_view_name": "HBoxView",
            "box_style": "",
            "children": [
              "IPY_MODEL_1a451746accf4470a5509f3d53c85f8b",
              "IPY_MODEL_724b9f5e945a495e8e8b1e555e9f8c74",
              "IPY_MODEL_d71a137437724c739147b242563caf33"
            ],
            "layout": "IPY_MODEL_1fad9dd29bb64de69c122cd3ddc00080"
          }
        },
        "1a451746accf4470a5509f3d53c85f8b": {
          "model_module": "@jupyter-widgets/controls",
          "model_name": "HTMLModel",
          "model_module_version": "1.5.0",
          "state": {
            "_dom_classes": [],
            "_model_module": "@jupyter-widgets/controls",
            "_model_module_version": "1.5.0",
            "_model_name": "HTMLModel",
            "_view_count": null,
            "_view_module": "@jupyter-widgets/controls",
            "_view_module_version": "1.5.0",
            "_view_name": "HTMLView",
            "description": "",
            "description_tooltip": null,
            "layout": "IPY_MODEL_e15ccf998b9f4670a4feb766821fbd38",
            "placeholder": "​",
            "style": "IPY_MODEL_51c0e4668e8f41ec9a41dbfd335fc3d9",
            "value": "Evaluation: 100%"
          }
        },
        "724b9f5e945a495e8e8b1e555e9f8c74": {
          "model_module": "@jupyter-widgets/controls",
          "model_name": "FloatProgressModel",
          "model_module_version": "1.5.0",
          "state": {
            "_dom_classes": [],
            "_model_module": "@jupyter-widgets/controls",
            "_model_module_version": "1.5.0",
            "_model_name": "FloatProgressModel",
            "_view_count": null,
            "_view_module": "@jupyter-widgets/controls",
            "_view_module_version": "1.5.0",
            "_view_name": "ProgressView",
            "bar_style": "success",
            "description": "",
            "description_tooltip": null,
            "layout": "IPY_MODEL_0c4e764d579745db9cacb22f1b7b58f3",
            "max": 100,
            "min": 0,
            "orientation": "horizontal",
            "style": "IPY_MODEL_177a05fafbdf479faef3619a5f71715d",
            "value": 100
          }
        },
        "d71a137437724c739147b242563caf33": {
          "model_module": "@jupyter-widgets/controls",
          "model_name": "HTMLModel",
          "model_module_version": "1.5.0",
          "state": {
            "_dom_classes": [],
            "_model_module": "@jupyter-widgets/controls",
            "_model_module_version": "1.5.0",
            "_model_name": "HTMLModel",
            "_view_count": null,
            "_view_module": "@jupyter-widgets/controls",
            "_view_module_version": "1.5.0",
            "_view_name": "HTMLView",
            "description": "",
            "description_tooltip": null,
            "layout": "IPY_MODEL_51c2cb40196b404dbd61c54976d4b9a0",
            "placeholder": "​",
            "style": "IPY_MODEL_0c5057192b7544478ae2fe18404eff26",
            "value": " 100/100 [00:09&lt;00:00,  8.63it/s]"
          }
        },
        "1fad9dd29bb64de69c122cd3ddc00080": {
          "model_module": "@jupyter-widgets/base",
          "model_name": "LayoutModel",
          "model_module_version": "1.2.0",
          "state": {
            "_model_module": "@jupyter-widgets/base",
            "_model_module_version": "1.2.0",
            "_model_name": "LayoutModel",
            "_view_count": null,
            "_view_module": "@jupyter-widgets/base",
            "_view_module_version": "1.2.0",
            "_view_name": "LayoutView",
            "align_content": null,
            "align_items": null,
            "align_self": null,
            "border": null,
            "bottom": null,
            "display": null,
            "flex": null,
            "flex_flow": null,
            "grid_area": null,
            "grid_auto_columns": null,
            "grid_auto_flow": null,
            "grid_auto_rows": null,
            "grid_column": null,
            "grid_gap": null,
            "grid_row": null,
            "grid_template_areas": null,
            "grid_template_columns": null,
            "grid_template_rows": null,
            "height": null,
            "justify_content": null,
            "justify_items": null,
            "left": null,
            "margin": null,
            "max_height": null,
            "max_width": null,
            "min_height": null,
            "min_width": null,
            "object_fit": null,
            "object_position": null,
            "order": null,
            "overflow": null,
            "overflow_x": null,
            "overflow_y": null,
            "padding": null,
            "right": null,
            "top": null,
            "visibility": null,
            "width": null
          }
        },
        "e15ccf998b9f4670a4feb766821fbd38": {
          "model_module": "@jupyter-widgets/base",
          "model_name": "LayoutModel",
          "model_module_version": "1.2.0",
          "state": {
            "_model_module": "@jupyter-widgets/base",
            "_model_module_version": "1.2.0",
            "_model_name": "LayoutModel",
            "_view_count": null,
            "_view_module": "@jupyter-widgets/base",
            "_view_module_version": "1.2.0",
            "_view_name": "LayoutView",
            "align_content": null,
            "align_items": null,
            "align_self": null,
            "border": null,
            "bottom": null,
            "display": null,
            "flex": null,
            "flex_flow": null,
            "grid_area": null,
            "grid_auto_columns": null,
            "grid_auto_flow": null,
            "grid_auto_rows": null,
            "grid_column": null,
            "grid_gap": null,
            "grid_row": null,
            "grid_template_areas": null,
            "grid_template_columns": null,
            "grid_template_rows": null,
            "height": null,
            "justify_content": null,
            "justify_items": null,
            "left": null,
            "margin": null,
            "max_height": null,
            "max_width": null,
            "min_height": null,
            "min_width": null,
            "object_fit": null,
            "object_position": null,
            "order": null,
            "overflow": null,
            "overflow_x": null,
            "overflow_y": null,
            "padding": null,
            "right": null,
            "top": null,
            "visibility": null,
            "width": null
          }
        },
        "51c0e4668e8f41ec9a41dbfd335fc3d9": {
          "model_module": "@jupyter-widgets/controls",
          "model_name": "DescriptionStyleModel",
          "model_module_version": "1.5.0",
          "state": {
            "_model_module": "@jupyter-widgets/controls",
            "_model_module_version": "1.5.0",
            "_model_name": "DescriptionStyleModel",
            "_view_count": null,
            "_view_module": "@jupyter-widgets/base",
            "_view_module_version": "1.2.0",
            "_view_name": "StyleView",
            "description_width": ""
          }
        },
        "0c4e764d579745db9cacb22f1b7b58f3": {
          "model_module": "@jupyter-widgets/base",
          "model_name": "LayoutModel",
          "model_module_version": "1.2.0",
          "state": {
            "_model_module": "@jupyter-widgets/base",
            "_model_module_version": "1.2.0",
            "_model_name": "LayoutModel",
            "_view_count": null,
            "_view_module": "@jupyter-widgets/base",
            "_view_module_version": "1.2.0",
            "_view_name": "LayoutView",
            "align_content": null,
            "align_items": null,
            "align_self": null,
            "border": null,
            "bottom": null,
            "display": null,
            "flex": null,
            "flex_flow": null,
            "grid_area": null,
            "grid_auto_columns": null,
            "grid_auto_flow": null,
            "grid_auto_rows": null,
            "grid_column": null,
            "grid_gap": null,
            "grid_row": null,
            "grid_template_areas": null,
            "grid_template_columns": null,
            "grid_template_rows": null,
            "height": null,
            "justify_content": null,
            "justify_items": null,
            "left": null,
            "margin": null,
            "max_height": null,
            "max_width": null,
            "min_height": null,
            "min_width": null,
            "object_fit": null,
            "object_position": null,
            "order": null,
            "overflow": null,
            "overflow_x": null,
            "overflow_y": null,
            "padding": null,
            "right": null,
            "top": null,
            "visibility": null,
            "width": null
          }
        },
        "177a05fafbdf479faef3619a5f71715d": {
          "model_module": "@jupyter-widgets/controls",
          "model_name": "ProgressStyleModel",
          "model_module_version": "1.5.0",
          "state": {
            "_model_module": "@jupyter-widgets/controls",
            "_model_module_version": "1.5.0",
            "_model_name": "ProgressStyleModel",
            "_view_count": null,
            "_view_module": "@jupyter-widgets/base",
            "_view_module_version": "1.2.0",
            "_view_name": "StyleView",
            "bar_color": null,
            "description_width": ""
          }
        },
        "51c2cb40196b404dbd61c54976d4b9a0": {
          "model_module": "@jupyter-widgets/base",
          "model_name": "LayoutModel",
          "model_module_version": "1.2.0",
          "state": {
            "_model_module": "@jupyter-widgets/base",
            "_model_module_version": "1.2.0",
            "_model_name": "LayoutModel",
            "_view_count": null,
            "_view_module": "@jupyter-widgets/base",
            "_view_module_version": "1.2.0",
            "_view_name": "LayoutView",
            "align_content": null,
            "align_items": null,
            "align_self": null,
            "border": null,
            "bottom": null,
            "display": null,
            "flex": null,
            "flex_flow": null,
            "grid_area": null,
            "grid_auto_columns": null,
            "grid_auto_flow": null,
            "grid_auto_rows": null,
            "grid_column": null,
            "grid_gap": null,
            "grid_row": null,
            "grid_template_areas": null,
            "grid_template_columns": null,
            "grid_template_rows": null,
            "height": null,
            "justify_content": null,
            "justify_items": null,
            "left": null,
            "margin": null,
            "max_height": null,
            "max_width": null,
            "min_height": null,
            "min_width": null,
            "object_fit": null,
            "object_position": null,
            "order": null,
            "overflow": null,
            "overflow_x": null,
            "overflow_y": null,
            "padding": null,
            "right": null,
            "top": null,
            "visibility": null,
            "width": null
          }
        },
        "0c5057192b7544478ae2fe18404eff26": {
          "model_module": "@jupyter-widgets/controls",
          "model_name": "DescriptionStyleModel",
          "model_module_version": "1.5.0",
          "state": {
            "_model_module": "@jupyter-widgets/controls",
            "_model_module_version": "1.5.0",
            "_model_name": "DescriptionStyleModel",
            "_view_count": null,
            "_view_module": "@jupyter-widgets/base",
            "_view_module_version": "1.2.0",
            "_view_name": "StyleView",
            "description_width": ""
          }
        },
        "b2fa018e89564d67ba483cfcf38cac4c": {
          "model_module": "@jupyter-widgets/controls",
          "model_name": "HBoxModel",
          "model_module_version": "1.5.0",
          "state": {
            "_dom_classes": [],
            "_model_module": "@jupyter-widgets/controls",
            "_model_module_version": "1.5.0",
            "_model_name": "HBoxModel",
            "_view_count": null,
            "_view_module": "@jupyter-widgets/controls",
            "_view_module_version": "1.5.0",
            "_view_name": "HBoxView",
            "box_style": "",
            "children": [
              "IPY_MODEL_398233675e6944119286181fd1cfd6d4",
              "IPY_MODEL_7ced399a0d694d76b93678015d99cfc3",
              "IPY_MODEL_877289073a7e4c50aa35dcd51484885b"
            ],
            "layout": "IPY_MODEL_92858ba6c9dc43689f0d5e1bf1bd3ec9"
          }
        },
        "398233675e6944119286181fd1cfd6d4": {
          "model_module": "@jupyter-widgets/controls",
          "model_name": "HTMLModel",
          "model_module_version": "1.5.0",
          "state": {
            "_dom_classes": [],
            "_model_module": "@jupyter-widgets/controls",
            "_model_module_version": "1.5.0",
            "_model_name": "HTMLModel",
            "_view_count": null,
            "_view_module": "@jupyter-widgets/controls",
            "_view_module_version": "1.5.0",
            "_view_name": "HTMLView",
            "description": "",
            "description_tooltip": null,
            "layout": "IPY_MODEL_25845a9253f64b1f88412cb629bb0ba9",
            "placeholder": "​",
            "style": "IPY_MODEL_68d2e8c8bef04768acb75df9976a65bc",
            "value": "Evaluation: 100%"
          }
        },
        "7ced399a0d694d76b93678015d99cfc3": {
          "model_module": "@jupyter-widgets/controls",
          "model_name": "FloatProgressModel",
          "model_module_version": "1.5.0",
          "state": {
            "_dom_classes": [],
            "_model_module": "@jupyter-widgets/controls",
            "_model_module_version": "1.5.0",
            "_model_name": "FloatProgressModel",
            "_view_count": null,
            "_view_module": "@jupyter-widgets/controls",
            "_view_module_version": "1.5.0",
            "_view_name": "ProgressView",
            "bar_style": "success",
            "description": "",
            "description_tooltip": null,
            "layout": "IPY_MODEL_7400db96607a4f8db7455b858dd97725",
            "max": 100,
            "min": 0,
            "orientation": "horizontal",
            "style": "IPY_MODEL_f3bc0def2df847c69dfb5db66f701776",
            "value": 100
          }
        },
        "877289073a7e4c50aa35dcd51484885b": {
          "model_module": "@jupyter-widgets/controls",
          "model_name": "HTMLModel",
          "model_module_version": "1.5.0",
          "state": {
            "_dom_classes": [],
            "_model_module": "@jupyter-widgets/controls",
            "_model_module_version": "1.5.0",
            "_model_name": "HTMLModel",
            "_view_count": null,
            "_view_module": "@jupyter-widgets/controls",
            "_view_module_version": "1.5.0",
            "_view_name": "HTMLView",
            "description": "",
            "description_tooltip": null,
            "layout": "IPY_MODEL_fc4767ab06a047eb9485e37105718e3c",
            "placeholder": "​",
            "style": "IPY_MODEL_1b868320863f4d86ad4f2702a77be0af",
            "value": " 100/100 [00:14&lt;00:00,  4.52it/s]"
          }
        },
        "92858ba6c9dc43689f0d5e1bf1bd3ec9": {
          "model_module": "@jupyter-widgets/base",
          "model_name": "LayoutModel",
          "model_module_version": "1.2.0",
          "state": {
            "_model_module": "@jupyter-widgets/base",
            "_model_module_version": "1.2.0",
            "_model_name": "LayoutModel",
            "_view_count": null,
            "_view_module": "@jupyter-widgets/base",
            "_view_module_version": "1.2.0",
            "_view_name": "LayoutView",
            "align_content": null,
            "align_items": null,
            "align_self": null,
            "border": null,
            "bottom": null,
            "display": null,
            "flex": null,
            "flex_flow": null,
            "grid_area": null,
            "grid_auto_columns": null,
            "grid_auto_flow": null,
            "grid_auto_rows": null,
            "grid_column": null,
            "grid_gap": null,
            "grid_row": null,
            "grid_template_areas": null,
            "grid_template_columns": null,
            "grid_template_rows": null,
            "height": null,
            "justify_content": null,
            "justify_items": null,
            "left": null,
            "margin": null,
            "max_height": null,
            "max_width": null,
            "min_height": null,
            "min_width": null,
            "object_fit": null,
            "object_position": null,
            "order": null,
            "overflow": null,
            "overflow_x": null,
            "overflow_y": null,
            "padding": null,
            "right": null,
            "top": null,
            "visibility": null,
            "width": null
          }
        },
        "25845a9253f64b1f88412cb629bb0ba9": {
          "model_module": "@jupyter-widgets/base",
          "model_name": "LayoutModel",
          "model_module_version": "1.2.0",
          "state": {
            "_model_module": "@jupyter-widgets/base",
            "_model_module_version": "1.2.0",
            "_model_name": "LayoutModel",
            "_view_count": null,
            "_view_module": "@jupyter-widgets/base",
            "_view_module_version": "1.2.0",
            "_view_name": "LayoutView",
            "align_content": null,
            "align_items": null,
            "align_self": null,
            "border": null,
            "bottom": null,
            "display": null,
            "flex": null,
            "flex_flow": null,
            "grid_area": null,
            "grid_auto_columns": null,
            "grid_auto_flow": null,
            "grid_auto_rows": null,
            "grid_column": null,
            "grid_gap": null,
            "grid_row": null,
            "grid_template_areas": null,
            "grid_template_columns": null,
            "grid_template_rows": null,
            "height": null,
            "justify_content": null,
            "justify_items": null,
            "left": null,
            "margin": null,
            "max_height": null,
            "max_width": null,
            "min_height": null,
            "min_width": null,
            "object_fit": null,
            "object_position": null,
            "order": null,
            "overflow": null,
            "overflow_x": null,
            "overflow_y": null,
            "padding": null,
            "right": null,
            "top": null,
            "visibility": null,
            "width": null
          }
        },
        "68d2e8c8bef04768acb75df9976a65bc": {
          "model_module": "@jupyter-widgets/controls",
          "model_name": "DescriptionStyleModel",
          "model_module_version": "1.5.0",
          "state": {
            "_model_module": "@jupyter-widgets/controls",
            "_model_module_version": "1.5.0",
            "_model_name": "DescriptionStyleModel",
            "_view_count": null,
            "_view_module": "@jupyter-widgets/base",
            "_view_module_version": "1.2.0",
            "_view_name": "StyleView",
            "description_width": ""
          }
        },
        "7400db96607a4f8db7455b858dd97725": {
          "model_module": "@jupyter-widgets/base",
          "model_name": "LayoutModel",
          "model_module_version": "1.2.0",
          "state": {
            "_model_module": "@jupyter-widgets/base",
            "_model_module_version": "1.2.0",
            "_model_name": "LayoutModel",
            "_view_count": null,
            "_view_module": "@jupyter-widgets/base",
            "_view_module_version": "1.2.0",
            "_view_name": "LayoutView",
            "align_content": null,
            "align_items": null,
            "align_self": null,
            "border": null,
            "bottom": null,
            "display": null,
            "flex": null,
            "flex_flow": null,
            "grid_area": null,
            "grid_auto_columns": null,
            "grid_auto_flow": null,
            "grid_auto_rows": null,
            "grid_column": null,
            "grid_gap": null,
            "grid_row": null,
            "grid_template_areas": null,
            "grid_template_columns": null,
            "grid_template_rows": null,
            "height": null,
            "justify_content": null,
            "justify_items": null,
            "left": null,
            "margin": null,
            "max_height": null,
            "max_width": null,
            "min_height": null,
            "min_width": null,
            "object_fit": null,
            "object_position": null,
            "order": null,
            "overflow": null,
            "overflow_x": null,
            "overflow_y": null,
            "padding": null,
            "right": null,
            "top": null,
            "visibility": null,
            "width": null
          }
        },
        "f3bc0def2df847c69dfb5db66f701776": {
          "model_module": "@jupyter-widgets/controls",
          "model_name": "ProgressStyleModel",
          "model_module_version": "1.5.0",
          "state": {
            "_model_module": "@jupyter-widgets/controls",
            "_model_module_version": "1.5.0",
            "_model_name": "ProgressStyleModel",
            "_view_count": null,
            "_view_module": "@jupyter-widgets/base",
            "_view_module_version": "1.2.0",
            "_view_name": "StyleView",
            "bar_color": null,
            "description_width": ""
          }
        },
        "fc4767ab06a047eb9485e37105718e3c": {
          "model_module": "@jupyter-widgets/base",
          "model_name": "LayoutModel",
          "model_module_version": "1.2.0",
          "state": {
            "_model_module": "@jupyter-widgets/base",
            "_model_module_version": "1.2.0",
            "_model_name": "LayoutModel",
            "_view_count": null,
            "_view_module": "@jupyter-widgets/base",
            "_view_module_version": "1.2.0",
            "_view_name": "LayoutView",
            "align_content": null,
            "align_items": null,
            "align_self": null,
            "border": null,
            "bottom": null,
            "display": null,
            "flex": null,
            "flex_flow": null,
            "grid_area": null,
            "grid_auto_columns": null,
            "grid_auto_flow": null,
            "grid_auto_rows": null,
            "grid_column": null,
            "grid_gap": null,
            "grid_row": null,
            "grid_template_areas": null,
            "grid_template_columns": null,
            "grid_template_rows": null,
            "height": null,
            "justify_content": null,
            "justify_items": null,
            "left": null,
            "margin": null,
            "max_height": null,
            "max_width": null,
            "min_height": null,
            "min_width": null,
            "object_fit": null,
            "object_position": null,
            "order": null,
            "overflow": null,
            "overflow_x": null,
            "overflow_y": null,
            "padding": null,
            "right": null,
            "top": null,
            "visibility": null,
            "width": null
          }
        },
        "1b868320863f4d86ad4f2702a77be0af": {
          "model_module": "@jupyter-widgets/controls",
          "model_name": "DescriptionStyleModel",
          "model_module_version": "1.5.0",
          "state": {
            "_model_module": "@jupyter-widgets/controls",
            "_model_module_version": "1.5.0",
            "_model_name": "DescriptionStyleModel",
            "_view_count": null,
            "_view_module": "@jupyter-widgets/base",
            "_view_module_version": "1.2.0",
            "_view_name": "StyleView",
            "description_width": ""
          }
        }
      }
    }
  },
  "nbformat": 4,
  "nbformat_minor": 0
}